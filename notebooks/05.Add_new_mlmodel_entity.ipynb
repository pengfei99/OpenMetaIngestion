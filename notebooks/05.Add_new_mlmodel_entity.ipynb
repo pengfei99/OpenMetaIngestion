{
 "cells": [
  {
   "cell_type": "markdown",
   "source": [
    "# Custom an entity type\n",
    "\n",
    "To create your own entity type, you must understand how an entity is created. Here we will use an entity `MlModel` to illustrate.\n",
    "\n",
    "An `entity type` is also called an `entity definition`, which is a `.json file` which defines all `required attributes and optional attributes`. for example, the definition of `MlModel` can be found [here](https://github.com/open-metadata/OpenMetadata/blob/main/openmetadata-spec/src/main/resources/json/schema/entity/data/mlmodel.json)\n",
    "\n",
    "In the last section of the json file, you can find \n",
    "```shell\n",
    "\"required\": [\"id\", \"name\", \"algorithm\", \"service\"],\n",
    "```\n",
    "which means, `id`, `name`, `algorithm`, `service` are the only required properties when creating an MlModel. Other properties which are defined in `definitions` are optional.\n",
    "\n",
    "For example, below code shows the definition of the property `featureSourceDataType`. It has string type and value must be one of the value in the enum list. \n",
    "\n",
    "```shell\n",
    "\"featureSourceDataType\": {\n",
    "      \"javaType\": \"org.openmetadata.schema.type.FeatureSourceDataType\",\n",
    "      \"description\": \"This enum defines the type of data of a ML Feature source.\",\n",
    "      \"type\": \"string\",\n",
    "      \"enum\": [\n",
    "        \"integer\",\n",
    "        \"number\",\n",
    "        \"string\",\n",
    "        \"array\",\n",
    "        \"date\",\n",
    "        \"timestamp\",\n",
    "        \"object\",\n",
    "        \"boolean\"\n",
    "      ]\n",
    "    },\n",
    "```\n",
    "\n",
    "Below code shows the definition of the property `dashboard`, which is a reference to a `Dashboard Entity` present in OpenMetadata (what we call an EntityReference).\n",
    "\n",
    "```shell\n",
    "\"dashboard\": {\n",
    "      \"description\": \"Performance Dashboard URL to track metric evolution.\",\n",
    "      \"$ref\": \"../../type/entityReference.json\"\n",
    "    },\n",
    "```"
   ],
   "metadata": {
    "collapsed": false
   },
   "id": "4947aaf9f7cc2f8c"
  },
  {
   "cell_type": "code",
   "execution_count": 1,
   "outputs": [],
   "source": [
    "from metadata.ingestion.ometa.ometa_api import OpenMetadata\n",
    "from metadata.generated.schema.entity.services.connections.metadata.openMetadataConnection import (OpenMetadataConnection, AuthProvider)\n",
    "from metadata.generated.schema.security.client.openMetadataJWTClientConfig import OpenMetadataJWTClientConfig"
   ],
   "metadata": {
    "collapsed": false,
    "ExecuteTime": {
     "end_time": "2024-07-02T09:14:29.896836048Z",
     "start_time": "2024-07-02T09:14:28.052750988Z"
    }
   },
   "id": "34a5cbf2ed323e3"
  },
  {
   "cell_type": "code",
   "execution_count": 2,
   "outputs": [],
   "source": [
    "from creds import om_admin_token\n",
    "server_config = OpenMetadataConnection(\n",
    "    hostPort=\"http://datacatalog.casd.local/api\",\n",
    "    authProvider=AuthProvider.openmetadata,\n",
    "    securityConfig=OpenMetadataJWTClientConfig(\n",
    "        jwtToken=om_admin_token,\n",
    "    ),\n",
    ")\n",
    "metadata = OpenMetadata(server_config)"
   ],
   "metadata": {
    "collapsed": false,
    "ExecuteTime": {
     "end_time": "2024-07-02T09:14:31.099798694Z",
     "start_time": "2024-07-02T09:14:31.048478061Z"
    }
   },
   "id": "8ee22c705378367f"
  },
  {
   "cell_type": "code",
   "execution_count": 3,
   "outputs": [
    {
     "data": {
      "text/plain": "True"
     },
     "execution_count": 3,
     "metadata": {},
     "output_type": "execute_result"
    }
   ],
   "source": [
    "# if it returns true, it means the connection is success \n",
    "metadata.health_check()"
   ],
   "metadata": {
    "collapsed": false,
    "ExecuteTime": {
     "end_time": "2024-07-02T09:14:32.354210370Z",
     "start_time": "2024-07-02T09:14:32.320707187Z"
    }
   },
   "id": "ea70f48565edaf02"
  },
  {
   "cell_type": "markdown",
   "source": [
    "# Create an ML model service\n",
    "\n",
    "A ml model service is an abstraction of a server which tracks the ml model. In this example, we use this service to represent a mlflow server."
   ],
   "metadata": {
    "collapsed": false
   },
   "id": "f9e460d68ac0d77b"
  },
  {
   "cell_type": "code",
   "execution_count": 4,
   "outputs": [],
   "source": [
    "from metadata.generated.schema.api.services.createMlModelService import CreateMlModelServiceRequest\n",
    "from metadata.generated.schema.entity.services.mlmodelService import (\n",
    "    MlModelConnection,\n",
    "    MlModelService,\n",
    "    MlModelServiceType,\n",
    ")\n",
    "from metadata.generated.schema.entity.services.connections.mlmodel.mlflowConnection import MlflowConnection\n",
    "from metadata.generated.schema.entity.data.mlmodel import (\n",
    "    FeatureSource,\n",
    "    FeatureSourceDataType,\n",
    "    FeatureType,\n",
    "    MlFeature,\n",
    "    MlHyperParameter,\n",
    "    MlModel,\n",
    ")\n",
    "ml_service_create = CreateMlModelServiceRequest(\n",
    "        name=\"test-model-service\",\n",
    "        serviceType=MlModelServiceType.Mlflow,\n",
    "        connection=MlModelConnection(\n",
    "            config=MlflowConnection(\n",
    "                trackingUri=\"http://localhost:1234\",\n",
    "                registryUri=\"http://localhost:4321\",\n",
    "            )\n",
    "        ),\n",
    "    )\n",
    "\n",
    "ml_service_entity=metadata.create_or_update(ml_service_create)\n"
   ],
   "metadata": {
    "collapsed": false,
    "ExecuteTime": {
     "end_time": "2024-07-02T09:14:35.377663644Z",
     "start_time": "2024-07-02T09:14:35.314875116Z"
    }
   },
   "id": "57cc8c70bbaee24a"
  },
  {
   "cell_type": "code",
   "execution_count": 5,
   "outputs": [
    {
     "name": "stdout",
     "output_type": "stream",
     "text": [
      "id=Uuid(__root__=UUID('3756066a-706b-4410-ac35-9e2566cfd397')) name=EntityName(__root__='test-model-service') fullyQualifiedName=FullyQualifiedEntityName(__root__='test-model-service') serviceType=<MlModelServiceType.Mlflow: 'Mlflow'> description=None displayName=None version=EntityVersion(__root__=0.1) updatedAt=Timestamp(__root__=1719910991286) updatedBy='ingestion-bot' pipelines=None connection=MlModelConnection(config=MlflowConnection(type=<MlflowType.Mlflow: 'Mlflow'>, trackingUri='http://localhost:1234', registryUri='http://localhost:4321', supportsMetadataExtraction=SupportsMetadataExtraction(__root__=True))) testConnectionResult=None tags=None owner=None href=Href(__root__=AnyUrl('http://datacatalog.casd.local/api/v1/services/mlmodelServices/3756066a-706b-4410-ac35-9e2566cfd397', scheme='http', host='datacatalog.casd.local', tld='local', host_type='domain', path='/api/v1/services/mlmodelServices/3756066a-706b-4410-ac35-9e2566cfd397')) changeDescription=None deleted=False dataProducts=None domain=None\n"
     ]
    }
   ],
   "source": [
    "\n",
    "print(ml_service_entity)"
   ],
   "metadata": {
    "collapsed": false,
    "ExecuteTime": {
     "end_time": "2024-07-02T09:15:18.142058182Z",
     "start_time": "2024-07-02T09:15:18.075411328Z"
    }
   },
   "id": "455077cad91e7dc6"
  },
  {
   "cell_type": "markdown",
   "source": [
    "## create data source\n",
    "\n",
    "The feature which we use to train the model is from various data source. In this example, we suppose the data source is a table from a mysql database."
   ],
   "metadata": {
    "collapsed": false
   },
   "id": "cb2e3c8016f8d2b3"
  },
  {
   "cell_type": "code",
   "execution_count": 9,
   "outputs": [],
   "source": [
    "from metadata.generated.schema.api.data.createMlModel import CreateMlModelRequest\n",
    "from metadata.generated.schema.entity.data.table import Table\n",
    "from metadata.generated.schema.api.services.createDatabaseService import CreateDatabaseServiceRequest\n",
    "from metadata.generated.schema.entity.services.connections.database.common.basicAuth import BasicAuth\n",
    "from metadata.generated.schema.entity.services.connections.database.mysqlConnection import MysqlConnection\n",
    "from metadata.generated.schema.entity.services.databaseService import (DatabaseConnection, DatabaseService, DatabaseServiceType,)\n",
    "from metadata.generated.schema.api.data.createDatabase import CreateDatabaseRequest\n",
    "from metadata.generated.schema.api.data.createTable import CreateTableRequest\n",
    "from metadata.generated.schema.entity.data.table import Column, DataType\n",
    "from metadata.generated.schema.api.data.createDatabaseSchema import CreateDatabaseSchemaRequest\n",
    "\n",
    "# create database service\n",
    "db_service = CreateDatabaseServiceRequest(\n",
    "    name=\"test-db-service\",\n",
    "    serviceType=DatabaseServiceType.Mysql,\n",
    "    connection=DatabaseConnection(\n",
    "        config=MysqlConnection(\n",
    "            username=\"db_login\",\n",
    "            authType=BasicAuth(password=\"db_name\"),\n",
    "            hostPort=\"http://db_url:1234\",\n",
    "        )\n",
    "    ),\n",
    ")\n",
    "# when we create an entity by using function `create_or_update`, it returns the created instance of the query\n",
    "db_service_entity = metadata.create_or_update(data=db_service)\n",
    "\n",
    "# create a database \n",
    "db_entity_req = CreateDatabaseRequest(\n",
    "    name=\"test-db\",\n",
    "    service=db_service_entity.fullyQualifiedName,\n",
    ")\n",
    "\n",
    "db_entity = metadata.create_or_update(data=db_entity_req)\n",
    "\n",
    "# create a schema\n",
    "create_schema_req = CreateDatabaseSchemaRequest(\n",
    "    name=\"test-schema\", \n",
    "    database=db_entity.fullyQualifiedName)\n",
    "\n",
    "# the create request will return the fqn(fully qualified name) of the created schema\n",
    "schema_entity = metadata.create_or_update(data=create_schema_req)\n",
    "\n",
    "# create a table\n",
    "table_a = CreateTableRequest(\n",
    "    name=\"test_user\",\n",
    "    databaseSchema=schema_entity.fullyQualifiedName,\n",
    "    columns=[Column(name=\"id\", dataType=DataType.BIGINT,description=\"id of the user\"),\n",
    "             Column(name=\"age\", dataType=DataType.INT,description=\"age of the user\")],\n",
    ")\n",
    "\n",
    "table_a_entity = metadata.create_or_update(data=table_a)\n",
    "\n"
   ],
   "metadata": {
    "collapsed": false,
    "ExecuteTime": {
     "end_time": "2024-07-02T09:31:35.130113439Z",
     "start_time": "2024-07-02T09:31:34.901541966Z"
    }
   },
   "id": "9de3eb7a0104e078"
  },
  {
   "cell_type": "code",
   "execution_count": 10,
   "outputs": [
    {
     "name": "stdout",
     "output_type": "stream",
     "text": [
      "id=Uuid(__root__=UUID('246a3a35-3565-41b4-b5e2-cea0ba1270ee')) name=EntityName(__root__='test_user') displayName=None fullyQualifiedName=FullyQualifiedEntityName(__root__='test-db-service.test-db.test-schema.test_user') description=None version=EntityVersion(__root__=0.1) updatedAt=Timestamp(__root__=1719912639212) updatedBy='ingestion-bot' href=Href(__root__=AnyUrl('http://datacatalog.casd.local/api/v1/tables/246a3a35-3565-41b4-b5e2-cea0ba1270ee', scheme='http', host='datacatalog.casd.local', tld='local', host_type='domain', path='/api/v1/tables/246a3a35-3565-41b4-b5e2-cea0ba1270ee')) tableType=None columns=[Column(name=ColumnName(__root__='id'), displayName=None, dataType=<DataType.BIGINT: 'BIGINT'>, arrayDataType=None, dataLength=None, precision=None, scale=None, dataTypeDisplay='bigint', description=Markdown(__root__='id of the user'), fullyQualifiedName=FullyQualifiedEntityName(__root__='test-db-service.test-db.test-schema.test_user.id'), tags=None, constraint=None, ordinalPosition=None, jsonSchema=None, children=None, profile=None, customMetrics=None), Column(name=ColumnName(__root__='age'), displayName=None, dataType=<DataType.INT: 'INT'>, arrayDataType=None, dataLength=None, precision=None, scale=None, dataTypeDisplay='int', description=Markdown(__root__='age of the user'), fullyQualifiedName=FullyQualifiedEntityName(__root__='test-db-service.test-db.test-schema.test_user.age'), tags=None, constraint=None, ordinalPosition=None, jsonSchema=None, children=None, profile=None, customMetrics=None)] tableConstraints=None tablePartition=None owner=None databaseSchema=EntityReference(id=Uuid(__root__=UUID('472e5399-5072-4956-995b-2ab2f301b79d')), type='databaseSchema', name='test-schema', fullyQualifiedName='test-db-service.test-db.test-schema', description=None, displayName='test-schema', deleted=False, inherited=None, href=Href(__root__=AnyUrl('http://datacatalog.casd.local/api/v1/databaseSchemas/472e5399-5072-4956-995b-2ab2f301b79d', scheme='http', host='datacatalog.casd.local', tld='local', host_type='domain', path='/api/v1/databaseSchemas/472e5399-5072-4956-995b-2ab2f301b79d'))) database=EntityReference(id=Uuid(__root__=UUID('64ced4f5-1044-404b-8202-081a96c99e56')), type='database', name='test-db', fullyQualifiedName='test-db-service.test-db', description=None, displayName='test-db', deleted=False, inherited=None, href=Href(__root__=AnyUrl('http://datacatalog.casd.local/api/v1/databases/64ced4f5-1044-404b-8202-081a96c99e56', scheme='http', host='datacatalog.casd.local', tld='local', host_type='domain', path='/api/v1/databases/64ced4f5-1044-404b-8202-081a96c99e56'))) service=EntityReference(id=Uuid(__root__=UUID('8b60fdfe-037c-4a34-b839-af43318d3748')), type='databaseService', name='test-db-service', fullyQualifiedName='test-db-service', description=None, displayName='test-db-service', deleted=False, inherited=None, href=Href(__root__=AnyUrl('http://datacatalog.casd.local/api/v1/services/databaseServices/8b60fdfe-037c-4a34-b839-af43318d3748', scheme='http', host='datacatalog.casd.local', tld='local', host_type='domain', path='/api/v1/services/databaseServices/8b60fdfe-037c-4a34-b839-af43318d3748'))) serviceType=<DatabaseServiceType.Mysql: 'Mysql'> location=None schemaDefinition=None tags=None usageSummary=None followers=None joins=None sampleData=None tableProfilerConfig=None customMetrics=None profile=None testSuite=None dataModel=None changeDescription=None deleted=False retentionPeriod=None extension=None sourceUrl=None domain=None dataProducts=None fileFormat=None votes=None lifeCycle=None sourceHash=None\n"
     ]
    }
   ],
   "source": [
    "print(table_a_entity)"
   ],
   "metadata": {
    "collapsed": false,
    "ExecuteTime": {
     "end_time": "2024-07-02T09:31:52.934656404Z",
     "start_time": "2024-07-02T09:31:52.755349092Z"
    }
   },
   "id": "39640455593a4894"
  },
  {
   "cell_type": "markdown",
   "source": [
    "## 3. Create a model\n",
    "\n",
    "Now we have all what we need to create a model. "
   ],
   "metadata": {
    "collapsed": false
   },
   "id": "834e321fd9e2dc92"
  },
  {
   "cell_type": "code",
   "execution_count": 16,
   "outputs": [],
   "source": [
    "model_create=CreateMlModelRequest(\n",
    "            name=\"test-model\",\n",
    "            algorithm=\"random_forest\",\n",
    "            mlFeatures=[\n",
    "                MlFeature(\n",
    "                    name=\"age\",\n",
    "                    dataType=FeatureType.numerical,\n",
    "                    featureSources=[\n",
    "                        FeatureSource(\n",
    "                            name=\"age\",\n",
    "                            dataType=FeatureSourceDataType.integer,\n",
    "                            dataSource=metadata.get_entity_reference(\n",
    "                                entity=Table, fqn=table_a_entity.fullyQualifiedName\n",
    "                            ),\n",
    "                        )\n",
    "                    ],\n",
    "                    featureAlgorithm=\"Bucketing\",\n",
    "                     description=\"feature to show the age\",\n",
    "                ),\n",
    "                MlFeature(\n",
    "                    name=\"persona\",\n",
    "                    dataType=FeatureType.categorical,\n",
    "                    featureSources=[\n",
    "                        FeatureSource(\n",
    "                            name=\"age\",\n",
    "                            dataType=FeatureSourceDataType.integer,\n",
    "                            dataSource=metadata.get_entity_reference(\n",
    "                                entity=Table, fqn=table_a_entity.fullyQualifiedName\n",
    "                            ),\n",
    "                        ),\n",
    "                        FeatureSource(\n",
    "                            name=\"id\",\n",
    "                            dataType=FeatureSourceDataType.integer,\n",
    "                            dataSource=metadata.get_entity_reference(\n",
    "                                entity=Table, fqn=table_a_entity.fullyQualifiedName\n",
    "                            ),\n",
    "                        ),\n",
    "                        FeatureSource(\n",
    "                            name=\"city\", dataType=FeatureSourceDataType.string\n",
    "                        ),\n",
    "                    ],\n",
    "                    featureAlgorithm=\"PCA\",\n",
    "                    description=\"feature to identify the person\",\n",
    "                ),\n",
    "            ],\n",
    "            mlHyperParameters=[\n",
    "                MlHyperParameter(name=\"regularisation\", value=\"0.5\"),\n",
    "                MlHyperParameter(name=\"random\", value=\"hello\"),\n",
    "            ],\n",
    "            target=\"myTarget\",\n",
    "            service=ml_service_entity.fullyQualifiedName,\n",
    "        )\n",
    "\n",
    "model_entity = metadata.create_or_update(model_create)"
   ],
   "metadata": {
    "collapsed": false,
    "ExecuteTime": {
     "end_time": "2024-07-02T09:39:12.344207604Z",
     "start_time": "2024-07-02T09:39:12.232470097Z"
    }
   },
   "id": "239dc15db87bb826"
  },
  {
   "cell_type": "code",
   "execution_count": 14,
   "outputs": [
    {
     "name": "stdout",
     "output_type": "stream",
     "text": [
      "id=Uuid(__root__=UUID('c6f67a98-122b-49f4-bc67-2816a8921d91')) name=EntityName(__root__='test-model') fullyQualifiedName=FullyQualifiedEntityName(__root__='test-model-service.test-model') displayName=None description=None algorithm='random_forest' mlFeatures=[MlFeature(name=EntityName(__root__='age'), dataType=<FeatureType.numerical: 'numerical'>, description=None, fullyQualifiedName=FullyQualifiedEntityName(__root__='test-model-service.test-model.age'), featureSources=[FeatureSource(name=EntityName(__root__='age'), dataType=<FeatureSourceDataType.integer: 'integer'>, description=None, fullyQualifiedName=FullyQualifiedEntityName(__root__='test-db-service.test-db.test-schema.test_user.age'), dataSource=EntityReference(id=Uuid(__root__=UUID('246a3a35-3565-41b4-b5e2-cea0ba1270ee')), type='table', name=None, fullyQualifiedName='test-db-service.test-db.test-schema.test_user', description=None, displayName=None, deleted=None, inherited=None, href=Href(__root__=AnyUrl('http://datacatalog.casd.local/api/v1/tables/246a3a35-3565-41b4-b5e2-cea0ba1270ee', scheme='http', host='datacatalog.casd.local', tld='local', host_type='domain', path='/api/v1/tables/246a3a35-3565-41b4-b5e2-cea0ba1270ee'))), tags=None)], featureAlgorithm=None, tags=None), MlFeature(name=EntityName(__root__='persona'), dataType=<FeatureType.categorical: 'categorical'>, description=None, fullyQualifiedName=FullyQualifiedEntityName(__root__='test-model-service.test-model.persona'), featureSources=[FeatureSource(name=EntityName(__root__='age'), dataType=<FeatureSourceDataType.integer: 'integer'>, description=None, fullyQualifiedName=FullyQualifiedEntityName(__root__='test-db-service.test-db.test-schema.test_user.age'), dataSource=EntityReference(id=Uuid(__root__=UUID('246a3a35-3565-41b4-b5e2-cea0ba1270ee')), type='table', name=None, fullyQualifiedName='test-db-service.test-db.test-schema.test_user', description=None, displayName=None, deleted=None, inherited=None, href=Href(__root__=AnyUrl('http://datacatalog.casd.local/api/v1/tables/246a3a35-3565-41b4-b5e2-cea0ba1270ee', scheme='http', host='datacatalog.casd.local', tld='local', host_type='domain', path='/api/v1/tables/246a3a35-3565-41b4-b5e2-cea0ba1270ee'))), tags=None), FeatureSource(name=EntityName(__root__='id'), dataType=<FeatureSourceDataType.integer: 'integer'>, description=None, fullyQualifiedName=FullyQualifiedEntityName(__root__='test-db-service.test-db.test-schema.test_user.id'), dataSource=EntityReference(id=Uuid(__root__=UUID('246a3a35-3565-41b4-b5e2-cea0ba1270ee')), type='table', name=None, fullyQualifiedName='test-db-service.test-db.test-schema.test_user', description=None, displayName=None, deleted=None, inherited=None, href=Href(__root__=AnyUrl('http://datacatalog.casd.local/api/v1/tables/246a3a35-3565-41b4-b5e2-cea0ba1270ee', scheme='http', host='datacatalog.casd.local', tld='local', host_type='domain', path='/api/v1/tables/246a3a35-3565-41b4-b5e2-cea0ba1270ee'))), tags=None), FeatureSource(name=EntityName(__root__='city'), dataType=<FeatureSourceDataType.string: 'string'>, description=None, fullyQualifiedName=FullyQualifiedEntityName(__root__='city'), dataSource=None, tags=None)], featureAlgorithm='PCA', tags=None)] mlHyperParameters=[MlHyperParameter(name='regularisation', value='0.5', description=None), MlHyperParameter(name='random', value='hello', description=None)] target=EntityName(__root__='myTarget') dashboard=None mlStore=None server=None href=Href(__root__=AnyUrl('http://datacatalog.casd.local/api/v1/mlmodels/c6f67a98-122b-49f4-bc67-2816a8921d91', scheme='http', host='datacatalog.casd.local', tld='local', host_type='domain', path='/api/v1/mlmodels/c6f67a98-122b-49f4-bc67-2816a8921d91')) owner=None followers=None tags=None usageSummary=None version=EntityVersion(__root__=1.2) updatedAt=Timestamp(__root__=1719912991773) updatedBy='ingestion-bot' service=EntityReference(id=Uuid(__root__=UUID('3756066a-706b-4410-ac35-9e2566cfd397')), type='mlmodelService', name='test-model-service', fullyQualifiedName='test-model-service', description=None, displayName='test-model-service', deleted=False, inherited=None, href=Href(__root__=AnyUrl('http://datacatalog.casd.local/api/v1/services/mlmodelServices/3756066a-706b-4410-ac35-9e2566cfd397', scheme='http', host='datacatalog.casd.local', tld='local', host_type='domain', path='/api/v1/services/mlmodelServices/3756066a-706b-4410-ac35-9e2566cfd397'))) serviceType=<MlModelServiceType.Mlflow: 'Mlflow'> changeDescription=ChangeDescription(fieldsAdded=[FieldChange(name=FieldName(__root__='mlFeatures'), oldValue=None, newValue='[{\"name\":\"persona\",\"dataType\":\"categorical\",\"fullyQualifiedName\":\"test-model-service.test-model.persona\",\"featureSources\":[{\"name\":\"age\",\"dataType\":\"integer\",\"fullyQualifiedName\":\"test-db-service.test-db.test-schema.test_user.age\",\"dataSource\":{\"id\":\"246a3a35-3565-41b4-b5e2-cea0ba1270ee\",\"type\":\"table\",\"fullyQualifiedName\":\"test-db-service.test-db.test-schema.test_user\",\"href\":\"http://datacatalog.casd.local/api/v1/tables/246a3a35-3565-41b4-b5e2-cea0ba1270ee\"}},{\"name\":\"id\",\"dataType\":\"integer\",\"fullyQualifiedName\":\"test-db-service.test-db.test-schema.test_user.id\",\"dataSource\":{\"id\":\"246a3a35-3565-41b4-b5e2-cea0ba1270ee\",\"type\":\"table\",\"fullyQualifiedName\":\"test-db-service.test-db.test-schema.test_user\",\"href\":\"http://datacatalog.casd.local/api/v1/tables/246a3a35-3565-41b4-b5e2-cea0ba1270ee\"}},{\"name\":\"city\",\"dataType\":\"string\",\"fullyQualifiedName\":\"city\"}],\"featureAlgorithm\":\"PCA\"}]')], fieldsUpdated=[], fieldsDeleted=[FieldChange(name=FieldName(__root__='mlFeatures'), oldValue='[{\"name\":\"persona\",\"dataType\":\"categorical\",\"fullyQualifiedName\":\"test-model-service.test-model.persona\",\"featureSources\":[{\"name\":\"age\",\"dataType\":\"integer\",\"fullyQualifiedName\":\"test-db-service.test-db.test-schema.test_user.age\",\"dataSource\":{\"id\":\"246a3a35-3565-41b4-b5e2-cea0ba1270ee\",\"type\":\"table\",\"fullyQualifiedName\":\"test-db-service.test-db.test-schema.test_user\",\"href\":\"http://datacatalog.casd.local/api/v1/tables/246a3a35-3565-41b4-b5e2-cea0ba1270ee\"}},{\"name\":\"id\",\"dataType\":\"string\",\"fullyQualifiedName\":\"test-db-service.test-db.test-schema.test_user.id\",\"dataSource\":{\"id\":\"246a3a35-3565-41b4-b5e2-cea0ba1270ee\",\"type\":\"table\",\"fullyQualifiedName\":\"test-db-service.test-db.test-schema.test_user\",\"href\":\"http://datacatalog.casd.local/api/v1/tables/246a3a35-3565-41b4-b5e2-cea0ba1270ee\"}},{\"name\":\"city\",\"dataType\":\"string\",\"fullyQualifiedName\":\"city\"}],\"featureAlgorithm\":\"PCA\"}]', newValue=None)], previousVersion=EntityVersion(__root__=1.1)) deleted=False extension=None sourceUrl=None domain=None dataProducts=None votes=None lifeCycle=None sourceHash=None\n"
     ]
    }
   ],
   "source": [
    "print(model_entity)"
   ],
   "metadata": {
    "collapsed": false,
    "ExecuteTime": {
     "end_time": "2024-07-02T09:36:34.049105614Z",
     "start_time": "2024-07-02T09:36:34.026392750Z"
    }
   },
   "id": "fbc427c9b23d459b"
  },
  {
   "cell_type": "markdown",
   "source": [
    "## 4. Clean up"
   ],
   "metadata": {
    "collapsed": false
   },
   "id": "e4f8a3106a692c9c"
  },
  {
   "cell_type": "code",
   "execution_count": 17,
   "outputs": [],
   "source": [
    "# remove the database service\n",
    "service_id = metadata.get_by_name(\n",
    "    entity=DatabaseService, fqn=\"test-db-service\"\n",
    ").id\n",
    "\n",
    "metadata.delete(\n",
    "    entity=DatabaseService,\n",
    "    entity_id=service_id,\n",
    "    recursive=True,\n",
    "    hard_delete=True,\n",
    ")"
   ],
   "metadata": {
    "collapsed": false,
    "ExecuteTime": {
     "end_time": "2024-07-02T10:02:48.998473054Z",
     "start_time": "2024-07-02T10:02:48.120606413Z"
    }
   },
   "id": "b43653c988478a1c"
  },
  {
   "cell_type": "code",
   "execution_count": 18,
   "outputs": [],
   "source": [
    "# remove the ml model service\n",
    "service_id = metadata.get_by_name(\n",
    "    entity=MlModelService, fqn=\"test-model-service\"\n",
    ").id\n",
    "\n",
    "metadata.delete(\n",
    "    entity=MlModelService,\n",
    "    entity_id=service_id,\n",
    "    recursive=True,\n",
    "    hard_delete=True,\n",
    ")"
   ],
   "metadata": {
    "collapsed": false,
    "ExecuteTime": {
     "end_time": "2024-07-02T10:02:51.681418827Z",
     "start_time": "2024-07-02T10:02:50.979615838Z"
    }
   },
   "id": "cfd369799a9587f2"
  },
  {
   "cell_type": "code",
   "execution_count": null,
   "outputs": [],
   "source": [],
   "metadata": {
    "collapsed": false
   },
   "id": "e3f3f16e87dfaf8c"
  }
 ],
 "metadata": {
  "kernelspec": {
   "display_name": "Python 3",
   "language": "python",
   "name": "python3"
  },
  "language_info": {
   "codemirror_mode": {
    "name": "ipython",
    "version": 2
   },
   "file_extension": ".py",
   "mimetype": "text/x-python",
   "name": "python",
   "nbconvert_exporter": "python",
   "pygments_lexer": "ipython2",
   "version": "2.7.6"
  }
 },
 "nbformat": 4,
 "nbformat_minor": 5
}
