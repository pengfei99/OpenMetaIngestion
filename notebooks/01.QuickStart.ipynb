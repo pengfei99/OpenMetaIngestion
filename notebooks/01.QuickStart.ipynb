{
 "cells": [
  {
   "cell_type": "markdown",
   "source": [
    "# OM ingestion quick start\n",
    "\n",
    "In this notebook, we will use a simple example to understand how the `om python sdk` works. How to use it to ingest metadata into the OM server"
   ],
   "metadata": {
    "collapsed": false
   },
   "id": "71d7eb21bffee10e"
  },
  {
   "cell_type": "code",
   "execution_count": 1,
   "outputs": [],
   "source": [
    "from metadata.ingestion.ometa.ometa_api import OpenMetadata\n",
    "from metadata.generated.schema.entity.services.connections.metadata.openMetadataConnection import (OpenMetadataConnection, AuthProvider)\n",
    "from metadata.generated.schema.security.client.openMetadataJWTClientConfig import OpenMetadataJWTClientConfig"
   ],
   "metadata": {
    "collapsed": false,
    "ExecuteTime": {
     "end_time": "2024-06-24T09:05:15.826279850Z",
     "start_time": "2024-06-24T09:05:13.691486620Z"
    }
   },
   "id": "1db2a0dc40f8b608"
  },
  {
   "cell_type": "markdown",
   "source": [
    "In the server config clause, we must define"
   ],
   "metadata": {
    "collapsed": false
   },
   "id": "372fb76f148902f6"
  },
  {
   "cell_type": "code",
   "execution_count": 3,
   "outputs": [],
   "source": [
    "from creds import om_admin_token\n",
    "server_config = OpenMetadataConnection(\n",
    "    hostPort=\"http://datacatalog.casd.local/api\",\n",
    "    authProvider=AuthProvider.openmetadata,\n",
    "    securityConfig=OpenMetadataJWTClientConfig(\n",
    "        jwtToken=om_admin_token,\n",
    "    ),\n",
    ")\n",
    "metadata = OpenMetadata(server_config)"
   ],
   "metadata": {
    "collapsed": false,
    "ExecuteTime": {
     "end_time": "2024-06-24T09:07:36.998097283Z",
     "start_time": "2024-06-24T09:07:36.950302740Z"
    }
   },
   "id": "f90693993e80daa9"
  },
  {
   "cell_type": "code",
   "execution_count": 4,
   "outputs": [
    {
     "data": {
      "text/plain": "True"
     },
     "execution_count": 4,
     "metadata": {},
     "output_type": "execute_result"
    }
   ],
   "source": [
    "metadata.health_check()"
   ],
   "metadata": {
    "collapsed": false,
    "ExecuteTime": {
     "end_time": "2024-06-24T09:07:40.253425253Z",
     "start_time": "2024-06-24T09:07:40.196711646Z"
    }
   },
   "id": "38828ffee0594ab9"
  },
  {
   "cell_type": "markdown",
   "source": [
    "## 2. creating a database service"
   ],
   "metadata": {
    "collapsed": false
   },
   "id": "74a12a44327e491"
  },
  {
   "cell_type": "code",
   "execution_count": 5,
   "outputs": [],
   "source": [
    "\n",
    "from metadata.generated.schema.api.services.createDatabaseService import (\n",
    "    CreateDatabaseServiceRequest,\n",
    ")\n",
    "from metadata.generated.schema.entity.services.connections.database.common.basicAuth import (\n",
    "    BasicAuth,\n",
    ")\n",
    "from metadata.generated.schema.entity.services.connections.database.mysqlConnection import (\n",
    "    MysqlConnection,\n",
    ")\n",
    "from metadata.generated.schema.entity.services.databaseService import (\n",
    "    DatabaseConnection,\n",
    "    DatabaseService,\n",
    "    DatabaseServiceType,\n",
    ")\n",
    "\n",
    "db_service = CreateDatabaseServiceRequest(\n",
    "    name=\"test-service-db-lineage\",\n",
    "    serviceType=DatabaseServiceType.Mysql,\n",
    "    connection=DatabaseConnection(\n",
    "        config=MysqlConnection(\n",
    "            username=\"db_login\",\n",
    "            authType=BasicAuth(password=\"db_name\"),\n",
    "            hostPort=\"http://db_url:1234\",\n",
    "        )\n",
    "    ),\n",
    ")\n",
    "\n",
    "db_service_entity = metadata.create_or_update(data=db_service)"
   ],
   "metadata": {
    "collapsed": false,
    "ExecuteTime": {
     "end_time": "2024-06-24T10:03:18.556337671Z",
     "start_time": "2024-06-24T10:03:18.455136735Z"
    }
   },
   "id": "49844734b3f6f7a9"
  },
  {
   "cell_type": "markdown",
   "source": [
    "## 3. Creating the Database\n",
    "\n",
    "Any Entity that is created and linked to another Entity, has to hold the fullyQualifiedName to the Entity it relates to. In this case, a Database is bound to a specific service."
   ],
   "metadata": {
    "collapsed": false
   },
   "id": "a1f5877e5204af04"
  },
  {
   "cell_type": "code",
   "execution_count": 6,
   "outputs": [],
   "source": [
    "from metadata.generated.schema.api.data.createDatabase import CreateDatabaseRequest\n",
    "\n",
    "create_db = CreateDatabaseRequest(\n",
    "    name=\"test-db\",\n",
    "    service=db_service_entity.fullyQualifiedName,\n",
    ")\n",
    "\n",
    "create_db_entity = metadata.create_or_update(data=create_db)"
   ],
   "metadata": {
    "collapsed": false,
    "ExecuteTime": {
     "end_time": "2024-06-24T10:06:48.243822440Z",
     "start_time": "2024-06-24T10:06:48.088254110Z"
    }
   },
   "id": "f2c30ab6c2bae484"
  },
  {
   "cell_type": "markdown",
   "source": [
    "## 4. Creating the Schema\n",
    "\n",
    "The same happens with the Schemas. They are related to a Database."
   ],
   "metadata": {
    "collapsed": false
   },
   "id": "693dfef79afab57e"
  },
  {
   "cell_type": "code",
   "execution_count": 7,
   "outputs": [],
   "source": [
    "from metadata.generated.schema.api.data.createDatabaseSchema import (\n",
    "    CreateDatabaseSchemaRequest,\n",
    ")\n",
    "\n",
    "create_schema = CreateDatabaseSchemaRequest(\n",
    "    name=\"test-schema\", database=create_db_entity.fullyQualifiedName\n",
    ")\n",
    "\n",
    "# the create request will return the fqn(fully qualified name) of the created schema\n",
    "create_schema_entity = metadata.create_or_update(data=create_schema)"
   ],
   "metadata": {
    "collapsed": false,
    "ExecuteTime": {
     "end_time": "2024-06-24T10:07:31.174956188Z",
     "start_time": "2024-06-24T10:07:31.027600719Z"
    }
   },
   "id": "a2d0e29ad85e80ba"
  },
  {
   "cell_type": "markdown",
   "source": [
    "## 5. Creating the Tables\n",
    "\n",
    "And finally, Tables are contained in a specific Schema, so we use the fullyQualifiedName here as well.\n",
    "\n",
    "We are doing a simple example with a single column."
   ],
   "metadata": {
    "collapsed": false
   },
   "id": "a4d8ae5f488dc061"
  },
  {
   "cell_type": "code",
   "execution_count": 8,
   "outputs": [],
   "source": [
    "from metadata.generated.schema.api.data.createTable import CreateTableRequest\n",
    "from metadata.generated.schema.entity.data.table import Column, DataType\n",
    "\n",
    "table_a = CreateTableRequest(\n",
    "    name=\"tableA\",\n",
    "    databaseSchema=create_schema_entity.fullyQualifiedName,\n",
    "    columns=[Column(name=\"id\", dataType=DataType.BIGINT)],\n",
    ")\n",
    "\n",
    "table_b = CreateTableRequest(\n",
    "    name=\"tableB\",\n",
    "    databaseSchema=create_schema_entity.fullyQualifiedName,\n",
    "    columns=[Column(name=\"id\", dataType=DataType.BIGINT)],\n",
    ")\n",
    "\n",
    "table_a_entity = metadata.create_or_update(data=table_a)\n",
    "table_b_entity = metadata.create_or_update(data=table_b)"
   ],
   "metadata": {
    "collapsed": false,
    "ExecuteTime": {
     "end_time": "2024-06-24T10:08:17.209822641Z",
     "start_time": "2024-06-24T10:08:16.932838931Z"
    }
   },
   "id": "3de0229d9ad747ef"
  },
  {
   "cell_type": "markdown",
   "source": [
    "## 6. Adding Lineage\n",
    "\n",
    "With everything prepared, we can now create the Lineage between both Entities. An `AddLineageRequest` type represents the `edge` between two `Entities`, typed under `EntitiesEdge`.\n",
    "\n",
    "In the below example, we created an edge between table A and B. And the edge is directed with the keyword `fromEntity` and `toEntity`\n",
    "\n"
   ],
   "metadata": {
    "collapsed": false
   },
   "id": "e362128ee8b80725"
  },
  {
   "cell_type": "code",
   "execution_count": 10,
   "outputs": [],
   "source": [
    "from metadata.generated.schema.api.lineage.addLineage import AddLineageRequest\n",
    "from metadata.generated.schema.type.entityLineage import EntitiesEdge \n",
    "from metadata.generated.schema.type.entityReference import EntityReference\n",
    "\n",
    "add_lineage_request = AddLineageRequest(\n",
    "    edge=EntitiesEdge(\n",
    "        description=\"test lineage\",\n",
    "        fromEntity=EntityReference(id=table_a_entity.id, type=\"table\"),\n",
    "        toEntity=EntityReference(id=table_b_entity.id, type=\"table\"),\n",
    "    ),\n",
    ")\n",
    "\n",
    "created_lineage = metadata.add_lineage(data=add_lineage_request)"
   ],
   "metadata": {
    "collapsed": false,
    "ExecuteTime": {
     "end_time": "2024-06-24T10:11:19.572194978Z",
     "start_time": "2024-06-24T10:11:19.445625261Z"
    }
   },
   "id": "7846ef9bda31ec9e"
  },
  {
   "cell_type": "markdown",
   "source": [
    "## 7. Fetching Lineage\n",
    "\n",
    "Finally, let's fetch the lineage from the other node involved:"
   ],
   "metadata": {
    "collapsed": false
   },
   "id": "d0c38dbf66b43b8b"
  },
  {
   "cell_type": "code",
   "execution_count": 11,
   "outputs": [
    {
     "data": {
      "text/plain": "{'entity': {'id': 'd337b285-24d4-4dfa-9986-680f53ffc453',\n  'type': 'table',\n  'name': 'tableB',\n  'fullyQualifiedName': 'test-service-db-lineage.test-db.test-schema.tableB',\n  'displayName': 'tableB',\n  'deleted': False,\n  'href': 'http://datacatalog.casd.local/api/v1/tables/d337b285-24d4-4dfa-9986-680f53ffc453'},\n 'nodes': [{'id': '3e0be9f7-df11-43b6-9132-549d4741c49c',\n   'type': 'table',\n   'name': 'tableA',\n   'fullyQualifiedName': 'test-service-db-lineage.test-db.test-schema.tableA',\n   'displayName': 'tableA',\n   'deleted': False,\n   'href': 'http://datacatalog.casd.local/api/v1/tables/3e0be9f7-df11-43b6-9132-549d4741c49c'}],\n 'upstreamEdges': [{'fromEntity': '3e0be9f7-df11-43b6-9132-549d4741c49c',\n   'toEntity': 'd337b285-24d4-4dfa-9986-680f53ffc453'}],\n 'downstreamEdges': []}"
     },
     "execution_count": 11,
     "metadata": {},
     "output_type": "execute_result"
    }
   ],
   "source": [
    "from metadata.generated.schema.entity.data.table import Table\n",
    "\n",
    "metadata.get_lineage_by_name(\n",
    "    entity=Table,\n",
    "    fqn=\"test-service-db-lineage.test-db.test-schema.tableB\",\n",
    "    # Tune this to control how far in the lineage graph to go\n",
    "    up_depth=1,\n",
    "    down_depth=1\n",
    ")"
   ],
   "metadata": {
    "collapsed": false,
    "ExecuteTime": {
     "end_time": "2024-06-24T10:19:09.595658025Z",
     "start_time": "2024-06-24T10:19:09.414178276Z"
    }
   },
   "id": "88a312dc18888a07"
  },
  {
   "cell_type": "markdown",
   "source": [
    "## 8. Lineage Details\n",
    "\n",
    "Note how when adding lineage information we give to the API an [AddLineage](https://github.com/open-metadata/OpenMetadata/blob/main/openmetadata-spec/src/main/resources/json/schema/api/lineage/addLineage.json) Request. This is composed of an Entity Edge, whose definition you can find [here](https://github.com/open-metadata/OpenMetadata/blob/main/openmetadata-spec/src/main/resources/json/schema/type/entityLineage.json).\n",
    "\n",
    "In a nutshell, an Entity Edge has:\n",
    "\n",
    "1. The Entity Reference as the lineage origin,\n",
    "2. The Entity Reference as the lineage destination,\n",
    "3. Optionally, Lineage Details.\n",
    "\n",
    "In the Lineage Details property we can pass further information specific about Table to Table lineage:\n",
    "- `sqlQuery` specifying the transformation,\n",
    "- An array of `columnsLineage` as an object with an array of source and destination columns, as well as their own specific transformation function,\n",
    "- Optionally, the Entity Reference of a Pipeline powering the transformation from Table A to Table B.\n",
    "\n",
    "The API call will be exactly the same as before, but now we will add more ingredients when defining our objects. Let's see how to do that and play with the possible combinations:\n",
    "\n",
    "First, import the required classes and create a new table:"
   ],
   "metadata": {
    "collapsed": false
   },
   "id": "81b5ccd50f6c5bb6"
  },
  {
   "cell_type": "code",
   "execution_count": 13,
   "outputs": [],
   "source": [
    "from metadata.generated.schema.type.entityLineage import (\n",
    "    ColumnLineage,\n",
    "    EntitiesEdge,\n",
    "    LineageDetails,\n",
    ")\n",
    "\n",
    "# Prepare a new table\n",
    "table_c = CreateTableRequest(\n",
    "    name=\"tableC\",\n",
    "    databaseSchema=create_schema_entity.fullyQualifiedName,\n",
    "    columns=[Column(name=\"id\", dataType=DataType.BIGINT)],\n",
    ")\n",
    "\n",
    "table_c_entity = metadata.create_or_update(data=table_c)"
   ],
   "metadata": {
    "collapsed": false,
    "ExecuteTime": {
     "end_time": "2024-06-24T10:24:27.086368914Z",
     "start_time": "2024-06-24T10:24:26.944678067Z"
    }
   },
   "id": "56089e2dd4da2f70"
  },
  {
   "cell_type": "markdown",
   "source": [
    "###  8.1 Column Level Lineage\n",
    "\n",
    "We can start by linking our columns together. For that we are going to create:\n",
    "\n",
    "- A `ColumnLineage` object, linking our Table A column ID -> Table C column ID. Note that this can be a list!\n",
    "- A `LineageDetails` object, passing the column lineage and the SQL query that powers the transformation."
   ],
   "metadata": {
    "collapsed": false
   },
   "id": "4965f7f033a747f7"
  },
  {
   "cell_type": "code",
   "execution_count": 14,
   "outputs": [],
   "source": [
    "# a column lineage object has two arguments, fromColumns indicates the source columns, toColumn indicates the destination columns\n",
    "column_lineage = ColumnLineage(\n",
    "    fromColumns=[\"test-service-db-lineage.test-db.test-schema.tableA.id\"],\n",
    "    toColumn=\"test-service-db-lineage.test-db.test-schema.tableC.id\"\n",
    ")\n",
    "\n",
    "# a lineage details contains the sql query which does the data transformation\n",
    "# columnLineage contains the info of column relations\n",
    "lineage_details = LineageDetails(\n",
    "    sqlQuery=\"SELECT * FROM AWESOME\",\n",
    "    columnsLineage=[column_lineage],\n",
    ")\n",
    "\n",
    "add_lineage_request = AddLineageRequest(\n",
    "    edge=EntitiesEdge(\n",
    "        fromEntity=EntityReference(id=table_a_entity.id, type=\"table\"),\n",
    "        toEntity=EntityReference(id=table_c_entity.id, type=\"table\"),\n",
    "        lineageDetails=lineage_details,\n",
    "    ),\n",
    ")\n",
    "\n",
    "created_lineage = metadata.add_lineage(data=add_lineage_request)"
   ],
   "metadata": {
    "collapsed": false,
    "ExecuteTime": {
     "end_time": "2024-06-24T10:24:33.160247243Z",
     "start_time": "2024-06-24T10:24:32.914895702Z"
    }
   },
   "id": "818eb591839f360c"
  },
  {
   "cell_type": "markdown",
   "source": [
    "After running the above command, you could see the `column lineage in the web UI`. \n",
    "> Click on the `Lineage` tab, on bottom left corner, you can find a `Layers` button, click on it and choose `column` options.\n",
    "\n",
    "\n",
    "### 8.2 Adding a Pipeline Reference\n",
    "\n",
    "We can as well pass the reference to the pipeline used to create the lineage (e.g., the ETL feeding the tables).\n",
    "\n",
    "To prepare this example, we need to start by creating the `Pipeline Entity`. Again, we'll need first to prepare the `Pipeline Service`:"
   ],
   "metadata": {
    "collapsed": false
   },
   "id": "dc32fa9235f85985"
  },
  {
   "cell_type": "code",
   "execution_count": 15,
   "outputs": [],
   "source": [
    "from metadata.generated.schema.api.data.createPipeline import CreatePipelineRequest\n",
    "from metadata.generated.schema.api.services.createPipelineService import (\n",
    "    CreatePipelineServiceRequest,\n",
    ")\n",
    "from metadata.generated.schema.entity.services.pipelineService import (\n",
    "    PipelineConnection,\n",
    "    PipelineService,\n",
    "    PipelineServiceType,\n",
    "    airflowConnection\n",
    ")\n",
    "\n",
    "from metadata.generated.schema.entity.services.connections.pipeline.backendConnection import (\n",
    "    BackendConnection,\n",
    ")\n",
    "\n",
    "pipeline_service = CreatePipelineServiceRequest(\n",
    "    name=\"test-service-pipeline\",\n",
    "    serviceType=PipelineServiceType.Airflow,\n",
    "    connection=PipelineConnection(\n",
    "        config=airflowConnection.AirflowConnection(\n",
    "            hostPort=\"http://localhost:8080\",\n",
    "            connection=BackendConnection(),\n",
    "        ),\n",
    "    ),\n",
    ")\n",
    "\n",
    "pipeline_service_entity = metadata.create_or_update(data=pipeline_service)\n",
    "\n",
    "create_pipeline = CreatePipelineRequest(\n",
    "    name=\"test\",\n",
    "    service=pipeline_service_entity.fullyQualifiedName,\n",
    ")\n",
    "\n",
    "pipeline_entity = metadata.create_or_update(data=create_pipeline)"
   ],
   "metadata": {
    "collapsed": false,
    "ExecuteTime": {
     "end_time": "2024-06-24T10:29:34.286724580Z",
     "start_time": "2024-06-24T10:29:33.950192667Z"
    }
   },
   "id": "9d7ff80366b8f000"
  },
  {
   "cell_type": "markdown",
   "source": [
    "With the newly created pipeline service, we can now create a new `LineageDetails` which contains three attributes:\n",
    "- A `sqlQuery` attribute: which stores the sql query\n",
    "- A `columnsLineage` attribute, passing the column lineage details\n",
    "- A `pipeline` attribute, specify the pipeline entity which the lineage uses."
   ],
   "metadata": {
    "collapsed": false
   },
   "id": "f1b3e9c78b7fccbe"
  },
  {
   "cell_type": "code",
   "execution_count": 17,
   "outputs": [],
   "source": [
    "column_lineage = ColumnLineage(\n",
    "    fromColumns=[\"test-service-db-lineage.test-db.test-schema.tableA.id\"],\n",
    "    toColumn=\"test-service-db-lineage.test-db.test-schema.tableC.id\"\n",
    ")\n",
    "\n",
    "lineage_details = LineageDetails(\n",
    "    sqlQuery=\"SELECT * FROM AWESOME\",\n",
    "    columnsLineage=[column_lineage],\n",
    "    pipeline=EntityReference(id=pipeline_entity.id, type=\"pipeline\"),\n",
    ")\n",
    "\n",
    "add_lineage_request = AddLineageRequest(\n",
    "    edge=EntitiesEdge(\n",
    "        fromEntity=EntityReference(id=table_a_entity.id, type=\"table\"),\n",
    "        toEntity=EntityReference(id=table_c_entity.id, type=\"table\"),\n",
    "        lineageDetails=lineage_details,\n",
    "        description=\"show how a lineage works\",\n",
    "    ),\n",
    ")\n",
    "\n",
    "created_lineage = metadata.add_lineage(data=add_lineage_request)"
   ],
   "metadata": {
    "collapsed": false,
    "ExecuteTime": {
     "end_time": "2024-06-24T10:31:44.579494692Z",
     "start_time": "2024-06-24T10:31:44.454640528Z"
    }
   },
   "id": "264bf09bb57052e1"
  },
  {
   "cell_type": "markdown",
   "source": [
    "## 9. Automated SQL lineage\n",
    "\n",
    "Let's create a new table "
   ],
   "metadata": {
    "collapsed": false
   },
   "id": "4eb41bbfd90f4851"
  },
  {
   "cell_type": "code",
   "execution_count": 18,
   "outputs": [],
   "source": [
    "# Prepare a new table tableD\n",
    "table_d = CreateTableRequest(\n",
    "    name=\"tableD\",\n",
    "    databaseSchema=create_schema_entity.fullyQualifiedName,\n",
    "    columns=[Column(name=\"id\", dataType=DataType.BIGINT,description=\"id of the user\"),\n",
    "             Column(name=\"age\", dataType=DataType.BIGINT,description=\"age of the user\")],\n",
    ")\n",
    "\n",
    "table_d_entity = metadata.create_or_update(data=table_d)"
   ],
   "metadata": {
    "collapsed": false,
    "ExecuteTime": {
     "end_time": "2024-06-24T14:15:00.476343446Z",
     "start_time": "2024-06-24T14:15:00.239860673Z"
    }
   },
   "id": "454da2d3b036a140"
  },
  {
   "cell_type": "code",
   "execution_count": 19,
   "outputs": [],
   "source": [
    "lineage_service: DatabaseService = metadata.get_by_name(\n",
    "    entity=DatabaseService, fqn=\"test-service-db-lineage\"\n",
    ")\n",
    "\n",
    "metadata.add_lineage_by_query(\n",
    "    database_service=lineage_service,\n",
    "    timeout=200, # timeout in seconds\n",
    "    sql=\"insert into tableD(id, id+1) as select id from tableA\" # your sql query\n",
    ")"
   ],
   "metadata": {
    "collapsed": false,
    "ExecuteTime": {
     "end_time": "2024-06-24T14:19:04.537231145Z",
     "start_time": "2024-06-24T14:19:01.569675944Z"
    }
   },
   "id": "2f7cc5e2630a0f26"
  },
  {
   "cell_type": "markdown",
   "source": [
    "With the above command, a new table `tableD` is created, and a lineage between `tableA` and `tableD` is created as well."
   ],
   "metadata": {
    "collapsed": false
   },
   "id": "a96bba0d786ff1c7"
  },
  {
   "cell_type": "markdown",
   "source": [
    "## 10. The ingestion with CLI \n",
    "\n",
    "The python package `openmetadata-ingestion` which we have installed via `pip install openmetadata-ingestion` offers us an CLI as well, we can use it to ingest data into to OM server without using any python code\n",
    "\n",
    "The general form is \n",
    "\n",
    "```shell\n",
    "metadata lineage -c path/to/config_yaml.yaml\n",
    "```\n",
    "\n",
    "Below is an example of the yaml file which can connect to a OM server and create a new lineage between two tables\n",
    "\n",
    "```yaml\n",
    "serviceName: test-service-db-lineage\n",
    "query: insert into tableD(id, id+1) as select id from tableA\n",
    "# filePath: test.sql\n",
    "# parseTimeout: 360 # timeout in seconds\n",
    "workflowConfig:\n",
    "  # loggerLevel: DEBUG  # DEBUG, INFO, WARN or ERROR\n",
    "  openMetadataServerConfig:\n",
    "    hostPort: <OpenMetadata host and port>\n",
    "    authProvider: <OpenMetadata auth provider>\n",
    "```\n",
    "\n",
    "- **serviceName**: Name of the database service which contains the table involved in query.\n",
    "- **query**: You can specify the raw sql query within the yaml file itself.\n",
    "- **filePath**: In case the query is too big then you can also save query in a file and pass the path to the file in this field.\n",
    "- **parseTimeout**: Timeout for the lineage parsing process.\n",
    "- **workflowConfig**: The main property here is the openMetadataServerConfig, where you can define the host and security provider of your OpenMetadata installation."
   ],
   "metadata": {
    "collapsed": false
   },
   "id": "33f58019d53269b7"
  }
 ],
 "metadata": {
  "kernelspec": {
   "display_name": "Python 3",
   "language": "python",
   "name": "python3"
  },
  "language_info": {
   "codemirror_mode": {
    "name": "ipython",
    "version": 2
   },
   "file_extension": ".py",
   "mimetype": "text/x-python",
   "name": "python",
   "nbconvert_exporter": "python",
   "pygments_lexer": "ipython2",
   "version": "2.7.6"
  }
 },
 "nbformat": 4,
 "nbformat_minor": 5
}
