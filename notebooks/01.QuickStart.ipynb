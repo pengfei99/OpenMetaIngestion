{
 "cells": [
  {
   "cell_type": "markdown",
   "source": [
    "# OM ingestion quick start\n",
    "\n",
    "In this notebook, we will use a simple example to understand how the `om python sdk` works. How to use it to ingest metadata into the OM server"
   ],
   "metadata": {
    "collapsed": false
   },
   "id": "71d7eb21bffee10e"
  },
  {
   "cell_type": "code",
   "execution_count": 1,
   "outputs": [],
   "source": [
    "from metadata.ingestion.ometa.ometa_api import OpenMetadata\n",
    "from metadata.generated.schema.entity.services.connections.metadata.openMetadataConnection import (OpenMetadataConnection, AuthProvider)\n",
    "from metadata.generated.schema.security.client.openMetadataJWTClientConfig import OpenMetadataJWTClientConfig"
   ],
   "metadata": {
    "collapsed": false,
    "ExecuteTime": {
     "end_time": "2024-06-24T09:05:15.826279850Z",
     "start_time": "2024-06-24T09:05:13.691486620Z"
    }
   },
   "id": "1db2a0dc40f8b608"
  },
  {
   "cell_type": "markdown",
   "source": [
    "## 1. Create a connexion to the Open Metadata server\n",
    " \n",
    "In the server config clause, we must define the `server host and port`, the credential(in our case is a jwt token)"
   ],
   "metadata": {
    "collapsed": false
   },
   "id": "372fb76f148902f6"
  },
  {
   "cell_type": "code",
   "execution_count": 3,
   "outputs": [],
   "source": [
    "from creds import om_admin_token\n",
    "server_config = OpenMetadataConnection(\n",
    "    hostPort=\"http://datacatalog.casd.local/api\",\n",
    "    authProvider=AuthProvider.openmetadata,\n",
    "    securityConfig=OpenMetadataJWTClientConfig(\n",
    "        jwtToken=om_admin_token,\n",
    "    ),\n",
    ")\n",
    "metadata = OpenMetadata(server_config)"
   ],
   "metadata": {
    "collapsed": false,
    "ExecuteTime": {
     "end_time": "2024-06-24T09:07:36.998097283Z",
     "start_time": "2024-06-24T09:07:36.950302740Z"
    }
   },
   "id": "f90693993e80daa9"
  },
  {
   "cell_type": "code",
   "execution_count": 4,
   "outputs": [
    {
     "data": {
      "text/plain": "True"
     },
     "execution_count": 4,
     "metadata": {},
     "output_type": "execute_result"
    }
   ],
   "source": [
    "# if it returns true, it means the connection is success \n",
    "metadata.health_check()"
   ],
   "metadata": {
    "collapsed": false,
    "ExecuteTime": {
     "end_time": "2024-06-24T09:07:40.253425253Z",
     "start_time": "2024-06-24T09:07:40.196711646Z"
    }
   },
   "id": "38828ffee0594ab9"
  },
  {
   "cell_type": "markdown",
   "source": [
    "## 2. Create a database service\n",
    "\n",
    "As we mentioned before, there is a hierarchy of entity. So we can just create an orphan table which belongs to no database and database service. So we must create a database service(server), then a database, then a schema(optional), then a table.\n",
    "\n",
    "The below code create a database service which represents a mysql server, it may contain one or more databases."
   ],
   "metadata": {
    "collapsed": false
   },
   "id": "74a12a44327e491"
  },
  {
   "cell_type": "code",
   "execution_count": 27,
   "outputs": [],
   "source": [
    "from metadata.generated.schema.api.services.createDatabaseService import CreateDatabaseServiceRequest\n",
    "from metadata.generated.schema.entity.services.connections.database.common.basicAuth import BasicAuth\n",
    "from metadata.generated.schema.entity.services.connections.database.mysqlConnection import MysqlConnection\n",
    "from metadata.generated.schema.entity.services.databaseService import (DatabaseConnection, DatabaseService, DatabaseServiceType,)\n",
    "\n",
    "db_service = CreateDatabaseServiceRequest(\n",
    "    name=\"test-db-service\",\n",
    "    serviceType=DatabaseServiceType.Mysql,\n",
    "    connection=DatabaseConnection(\n",
    "        config=MysqlConnection(\n",
    "            username=\"db_login\",\n",
    "            authType=BasicAuth(password=\"db_name\"),\n",
    "            hostPort=\"http://db_url:1234\",\n",
    "        )\n",
    "    ),\n",
    ")\n",
    "\n",
    "# when we create an entity by using function `create_or_update`, it returns the created instance of the query\n",
    "db_service_entity = metadata.create_or_update(data=db_service)"
   ],
   "metadata": {
    "collapsed": false,
    "ExecuteTime": {
     "end_time": "2024-06-25T08:47:52.795478480Z",
     "start_time": "2024-06-25T08:47:52.731765870Z"
    }
   },
   "id": "49844734b3f6f7a9"
  },
  {
   "cell_type": "code",
   "execution_count": 28,
   "outputs": [
    {
     "name": "stdout",
     "output_type": "stream",
     "text": [
      "the type is <class 'metadata.generated.schema.entity.services.databaseService.DatabaseService'>\n",
      "the content is id=Uuid(__root__=UUID('25bd2d97-2459-4890-a326-8c2bdf41847d')) name=EntityName(__root__='test-db-service') fullyQualifiedName=FullyQualifiedEntityName(__root__='test-db-service') displayName=None serviceType=<DatabaseServiceType.Mysql: 'Mysql'> description=None connection=DatabaseConnection(config=MysqlConnection(type=<MySQLType.Mysql: 'Mysql'>, scheme=<MySQLScheme.mysql_pymysql: 'mysql+pymysql'>, username='db_login', authType=BasicAuth(password=SecretStr('**********')), hostPort='http://db_url:1234', databaseName=None, databaseSchema=None, sslConfig=None, connectionOptions=None, connectionArguments=None, supportsMetadataExtraction=SupportsMetadataExtraction(__root__=True), supportsDBTExtraction=SupportsDBTExtraction(__root__=True), supportsProfiler=SupportsProfiler(__root__=True), supportsQueryComment=SupportsQueryComment(__root__=True), sampleDataStorageConfig=None)) pipelines=None testConnectionResult=None tags=None version=EntityVersion(__root__=0.1) updatedAt=Timestamp(__root__=1719305272767) updatedBy='ingestion-bot' owner=None href=Href(__root__=AnyUrl('http://datacatalog.casd.local/api/v1/services/databaseServices/25bd2d97-2459-4890-a326-8c2bdf41847d', scheme='http', host='datacatalog.casd.local', tld='local', host_type='domain', path='/api/v1/services/databaseServices/25bd2d97-2459-4890-a326-8c2bdf41847d')) changeDescription=None deleted=False dataProducts=None domain=None\n"
     ]
    }
   ],
   "source": [
    "# let's check the content\n",
    "\n",
    "print(f\"the type is {type(db_service_entity)}\")\n",
    "\n",
    "print(f\"the content is {db_service_entity}\")"
   ],
   "metadata": {
    "collapsed": false,
    "ExecuteTime": {
     "end_time": "2024-06-25T08:47:56.894227675Z",
     "start_time": "2024-06-25T08:47:56.863069926Z"
    }
   },
   "id": "ef1ecd3b79cf2957"
  },
  {
   "cell_type": "markdown",
   "source": [
    "## 3. Creating a Database \n",
    "\n",
    "We have created a database service, now we need to create a database inside this service.\n",
    "Any Entity that is created and linked to another Entity, has to hold the fullyQualifiedName to the Entity it relates to. \n",
    "In our case, the new database must be bound to the specific service `test-db-service`."
   ],
   "metadata": {
    "collapsed": false
   },
   "id": "a1f5877e5204af04"
  },
  {
   "cell_type": "code",
   "execution_count": 31,
   "outputs": [],
   "source": [
    "from metadata.generated.schema.api.data.createDatabase import CreateDatabaseRequest\n",
    "\n",
    "db_entity_req = CreateDatabaseRequest(\n",
    "    name=\"test-db\",\n",
    "    service=db_service_entity.fullyQualifiedName,\n",
    ")\n",
    "\n",
    "db_entity = metadata.create_or_update(data=db_entity_req)"
   ],
   "metadata": {
    "collapsed": false,
    "ExecuteTime": {
     "end_time": "2024-06-25T08:49:32.239572225Z",
     "start_time": "2024-06-25T08:49:32.188855226Z"
    }
   },
   "id": "f2c30ab6c2bae484"
  },
  {
   "cell_type": "code",
   "execution_count": 32,
   "outputs": [
    {
     "name": "stdout",
     "output_type": "stream",
     "text": [
      "the type is <class 'metadata.generated.schema.entity.data.database.Database'>\n",
      "the content is id=Uuid(__root__=UUID('2f24f0ac-903d-46db-9bf8-ba8873162b92')) name=EntityName(__root__='test-db') fullyQualifiedName=FullyQualifiedEntityName(__root__='test-db-service.test-db') displayName=None description=None dataProducts=None tags=None version=EntityVersion(__root__=0.1) updatedAt=Timestamp(__root__=1719305281875) updatedBy='ingestion-bot' href=Href(__root__=AnyUrl('http://datacatalog.casd.local/api/v1/databases/2f24f0ac-903d-46db-9bf8-ba8873162b92', scheme='http', host='datacatalog.casd.local', tld='local', host_type='domain', path='/api/v1/databases/2f24f0ac-903d-46db-9bf8-ba8873162b92')) owner=None service=EntityReference(id=Uuid(__root__=UUID('25bd2d97-2459-4890-a326-8c2bdf41847d')), type='databaseService', name='test-db-service', fullyQualifiedName='test-db-service', description=None, displayName='test-db-service', deleted=False, inherited=None, href=Href(__root__=AnyUrl('http://datacatalog.casd.local/api/v1/services/databaseServices/25bd2d97-2459-4890-a326-8c2bdf41847d', scheme='http', host='datacatalog.casd.local', tld='local', host_type='domain', path='/api/v1/services/databaseServices/25bd2d97-2459-4890-a326-8c2bdf41847d'))) serviceType=<DatabaseServiceType.Mysql: 'Mysql'> location=None usageSummary=None databaseSchemas=None changeDescription=None default=False deleted=False retentionPeriod=None extension=None sourceUrl=None domain=None votes=None lifeCycle=None sourceHash=None databaseProfilerConfig=None\n"
     ]
    }
   ],
   "source": [
    "# let's check the content\n",
    "\n",
    "print(f\"the type is {type(db_entity)}\")\n",
    "\n",
    "print(f\"the content is {db_entity}\")"
   ],
   "metadata": {
    "collapsed": false,
    "ExecuteTime": {
     "end_time": "2024-06-25T08:49:32.944528262Z",
     "start_time": "2024-06-25T08:49:32.920026370Z"
    }
   },
   "id": "e939988f8ff6211d"
  },
  {
   "cell_type": "markdown",
   "source": [
    "## 4. Creating the Schema\n",
    "\n",
    "The same happens with the Schemas. They are related to a Database."
   ],
   "metadata": {
    "collapsed": false
   },
   "id": "693dfef79afab57e"
  },
  {
   "cell_type": "code",
   "execution_count": 33,
   "outputs": [],
   "source": [
    "from metadata.generated.schema.api.data.createDatabaseSchema import (\n",
    "    CreateDatabaseSchemaRequest,\n",
    ")\n",
    "\n",
    "create_schema_req = CreateDatabaseSchemaRequest(\n",
    "    name=\"test-schema\", database=db_entity.fullyQualifiedName\n",
    ")\n",
    "\n",
    "# the create request will return the fqn(fully qualified name) of the created schema\n",
    "schema_entity = metadata.create_or_update(data=create_schema_req)"
   ],
   "metadata": {
    "collapsed": false,
    "ExecuteTime": {
     "end_time": "2024-06-25T08:50:43.283442322Z",
     "start_time": "2024-06-25T08:50:43.224972968Z"
    }
   },
   "id": "a2d0e29ad85e80ba"
  },
  {
   "cell_type": "code",
   "execution_count": 34,
   "outputs": [
    {
     "name": "stdout",
     "output_type": "stream",
     "text": [
      "the type is <class 'metadata.generated.schema.entity.data.databaseSchema.DatabaseSchema'>\n",
      "the content is id=Uuid(__root__=UUID('d29afd1a-a0c8-4de4-81f2-bee7e351b1b8')) name=EntityName(__root__='test-schema') fullyQualifiedName=FullyQualifiedEntityName(__root__='test-db-service.test-db.test-schema') displayName=None description=None dataProducts=None version=EntityVersion(__root__=0.1) updatedAt=Timestamp(__root__=1719305443257) updatedBy='ingestion-bot' href=Href(__root__=AnyUrl('http://datacatalog.casd.local/api/v1/databaseSchemas/d29afd1a-a0c8-4de4-81f2-bee7e351b1b8', scheme='http', host='datacatalog.casd.local', tld='local', host_type='domain', path='/api/v1/databaseSchemas/d29afd1a-a0c8-4de4-81f2-bee7e351b1b8')) owner=None service=EntityReference(id=Uuid(__root__=UUID('25bd2d97-2459-4890-a326-8c2bdf41847d')), type='databaseService', name='test-db-service', fullyQualifiedName='test-db-service', description=None, displayName='test-db-service', deleted=False, inherited=None, href=Href(__root__=AnyUrl('http://datacatalog.casd.local/api/v1/services/databaseServices/25bd2d97-2459-4890-a326-8c2bdf41847d', scheme='http', host='datacatalog.casd.local', tld='local', host_type='domain', path='/api/v1/services/databaseServices/25bd2d97-2459-4890-a326-8c2bdf41847d'))) serviceType=<DatabaseServiceType.Mysql: 'Mysql'> database=EntityReference(id=Uuid(__root__=UUID('2f24f0ac-903d-46db-9bf8-ba8873162b92')), type='database', name='test-db', fullyQualifiedName='test-db-service.test-db', description=None, displayName='test-db', deleted=False, inherited=None, href=Href(__root__=AnyUrl('http://datacatalog.casd.local/api/v1/databases/2f24f0ac-903d-46db-9bf8-ba8873162b92', scheme='http', host='datacatalog.casd.local', tld='local', host_type='domain', path='/api/v1/databases/2f24f0ac-903d-46db-9bf8-ba8873162b92'))) tables=None usageSummary=None tags=None changeDescription=None deleted=False retentionPeriod=None extension=None sourceUrl=None domain=None votes=None lifeCycle=None sourceHash=None databaseSchemaProfilerConfig=None\n"
     ]
    }
   ],
   "source": [
    "# let's check the content\n",
    "\n",
    "print(f\"the type is {type(schema_entity)}\")\n",
    "\n",
    "print(f\"the content is {schema_entity}\")"
   ],
   "metadata": {
    "collapsed": false,
    "ExecuteTime": {
     "end_time": "2024-06-25T08:50:44.343623853Z",
     "start_time": "2024-06-25T08:50:44.295459079Z"
    }
   },
   "id": "48ad52162c6e968"
  },
  {
   "cell_type": "markdown",
   "source": [
    "## 5. Creating the Tables\n",
    "\n",
    "And finally, Tables are contained in a specific Schema, so we use the fullyQualifiedName here as well.\n",
    "\n",
    "We are doing a simple example with a single column."
   ],
   "metadata": {
    "collapsed": false
   },
   "id": "a4d8ae5f488dc061"
  },
  {
   "cell_type": "code",
   "execution_count": 36,
   "outputs": [],
   "source": [
    "from metadata.generated.schema.api.data.createTable import CreateTableRequest\n",
    "from metadata.generated.schema.entity.data.table import Column, DataType\n",
    "\n",
    "table_a = CreateTableRequest(\n",
    "    name=\"test_user\",\n",
    "    databaseSchema=schema_entity.fullyQualifiedName,\n",
    "    columns=[Column(name=\"id\", dataType=DataType.BIGINT,description=\"id of the user\"),\n",
    "             Column(name=\"age\", dataType=DataType.INT,description=\"age of the user\")],\n",
    ")\n",
    "\n",
    "table_b = CreateTableRequest(\n",
    "    name=\"test_order\",\n",
    "    databaseSchema=schema_entity.fullyQualifiedName,\n",
    "    columns=[Column(name=\"id\", dataType=DataType.BIGINT,description=\"id of the user\"),\n",
    "             Column(name=\"product_id\", dataType=DataType.BIGINT,description=\"product id\"),\n",
    "             Column(name=\"uid\", dataType=DataType.BIGINT,description=\"id of the user which start the order\"),],\n",
    ")\n",
    "\n",
    "table_a_entity = metadata.create_or_update(data=table_a)\n",
    "table_b_entity = metadata.create_or_update(data=table_b)"
   ],
   "metadata": {
    "collapsed": false,
    "ExecuteTime": {
     "end_time": "2024-06-25T09:01:39.307172612Z",
     "start_time": "2024-06-25T09:01:39.172320924Z"
    }
   },
   "id": "3de0229d9ad747ef"
  },
  {
   "cell_type": "markdown",
   "source": [
    "## 6. Fetching the created entities\n",
    "\n",
    "We can use the function `get_by_name` to get any created entities. We need to specify:\n",
    " - the entity type\n",
    "  - the entity fqn"
   ],
   "metadata": {
    "collapsed": false
   },
   "id": "13ada835f83b133b"
  },
  {
   "cell_type": "code",
   "execution_count": 39,
   "outputs": [
    {
     "name": "stdout",
     "output_type": "stream",
     "text": [
      "The type of the response: <class 'metadata.generated.schema.entity.data.table.Table'>\n",
      "Content of the response: id=Uuid(__root__=UUID('4c6eca8b-2edd-4f93-ae85-84ec8c197f23')) name=EntityName(__root__='test_order') displayName=None fullyQualifiedName=FullyQualifiedEntityName(__root__='test-db-service.test-db.test-schema.test_order') description=None version=EntityVersion(__root__=0.1) updatedAt=Timestamp(__root__=1719306099247) updatedBy='ingestion-bot' href=Href(__root__=AnyUrl('http://datacatalog.casd.local/api/v1/tables/4c6eca8b-2edd-4f93-ae85-84ec8c197f23', scheme='http', host='datacatalog.casd.local', tld='local', host_type='domain', path='/api/v1/tables/4c6eca8b-2edd-4f93-ae85-84ec8c197f23')) tableType=None columns=[Column(name=ColumnName(__root__='id'), displayName=None, dataType=<DataType.BIGINT: 'BIGINT'>, arrayDataType=None, dataLength=None, precision=None, scale=None, dataTypeDisplay='bigint', description=Markdown(__root__='id of the user'), fullyQualifiedName=FullyQualifiedEntityName(__root__='test-db-service.test-db.test-schema.test_order.id'), tags=None, constraint=None, ordinalPosition=None, jsonSchema=None, children=None, profile=None, customMetrics=None), Column(name=ColumnName(__root__='product_id'), displayName=None, dataType=<DataType.BIGINT: 'BIGINT'>, arrayDataType=None, dataLength=None, precision=None, scale=None, dataTypeDisplay='bigint', description=Markdown(__root__='product id'), fullyQualifiedName=FullyQualifiedEntityName(__root__='test-db-service.test-db.test-schema.test_order.product_id'), tags=None, constraint=None, ordinalPosition=None, jsonSchema=None, children=None, profile=None, customMetrics=None), Column(name=ColumnName(__root__='uid'), displayName=None, dataType=<DataType.BIGINT: 'BIGINT'>, arrayDataType=None, dataLength=None, precision=None, scale=None, dataTypeDisplay='bigint', description=Markdown(__root__='id of the user which start the order'), fullyQualifiedName=FullyQualifiedEntityName(__root__='test-db-service.test-db.test-schema.test_order.uid'), tags=None, constraint=None, ordinalPosition=None, jsonSchema=None, children=None, profile=None, customMetrics=None)] tableConstraints=None tablePartition=None owner=None databaseSchema=EntityReference(id=Uuid(__root__=UUID('d29afd1a-a0c8-4de4-81f2-bee7e351b1b8')), type='databaseSchema', name='test-schema', fullyQualifiedName='test-db-service.test-db.test-schema', description=None, displayName='test-schema', deleted=False, inherited=None, href=Href(__root__=AnyUrl('http://datacatalog.casd.local/api/v1/databaseSchemas/d29afd1a-a0c8-4de4-81f2-bee7e351b1b8', scheme='http', host='datacatalog.casd.local', tld='local', host_type='domain', path='/api/v1/databaseSchemas/d29afd1a-a0c8-4de4-81f2-bee7e351b1b8'))) database=EntityReference(id=Uuid(__root__=UUID('2f24f0ac-903d-46db-9bf8-ba8873162b92')), type='database', name='test-db', fullyQualifiedName='test-db-service.test-db', description=None, displayName='test-db', deleted=False, inherited=None, href=Href(__root__=AnyUrl('http://datacatalog.casd.local/api/v1/databases/2f24f0ac-903d-46db-9bf8-ba8873162b92', scheme='http', host='datacatalog.casd.local', tld='local', host_type='domain', path='/api/v1/databases/2f24f0ac-903d-46db-9bf8-ba8873162b92'))) service=EntityReference(id=Uuid(__root__=UUID('25bd2d97-2459-4890-a326-8c2bdf41847d')), type='databaseService', name='test-db-service', fullyQualifiedName='test-db-service', description=None, displayName='test-db-service', deleted=False, inherited=None, href=Href(__root__=AnyUrl('http://datacatalog.casd.local/api/v1/services/databaseServices/25bd2d97-2459-4890-a326-8c2bdf41847d', scheme='http', host='datacatalog.casd.local', tld='local', host_type='domain', path='/api/v1/services/databaseServices/25bd2d97-2459-4890-a326-8c2bdf41847d'))) serviceType=<DatabaseServiceType.Mysql: 'Mysql'> location=None schemaDefinition=None tags=None usageSummary=None followers=None joins=None sampleData=None tableProfilerConfig=None customMetrics=None profile=None testSuite=None dataModel=None changeDescription=None deleted=False retentionPeriod=None extension=None sourceUrl=None domain=None dataProducts=None fileFormat=None votes=None lifeCycle=None sourceHash=None\n"
     ]
    }
   ],
   "source": [
    "from metadata.generated.schema.entity.data.table import Table\n",
    "\n",
    "table_order_ref = metadata.get_by_name(entity=Table, fqn=\"test-db-service.test-db.test-schema.test_order\")\n",
    "\n",
    "if table_order_ref:\n",
    "    print(f\"The type of the response: {type(table_order_ref)}\")\n",
    "    print(f\"Content of the response: {table_order_ref}\")\n",
    "else:\n",
    "    print(\"Check if your fqn is valid or not\")"
   ],
   "metadata": {
    "collapsed": false,
    "ExecuteTime": {
     "end_time": "2024-06-25T09:51:21.747662322Z",
     "start_time": "2024-06-25T09:51:21.703043503Z"
    }
   },
   "id": "264bf09bb57052e1"
  },
  {
   "cell_type": "markdown",
   "source": [
    "## Delete entity\n",
    "\n",
    "We can use the `delete` method to remove existing entities.\n",
    "\n",
    "Below example shows how to delete a table\n",
    "\n",
    "> you will notice that in the lineage UI, you can still find the `tableB` which is marked as deleted."
   ],
   "metadata": {
    "collapsed": false
   },
   "id": "b7a7982b2097de47"
  },
  {
   "cell_type": "code",
   "execution_count": 40,
   "outputs": [],
   "source": [
    "metadata.delete(entity=Table, entity_id=table_order_ref.id)"
   ],
   "metadata": {
    "collapsed": false,
    "ExecuteTime": {
     "end_time": "2024-06-25T09:54:24.198966971Z",
     "start_time": "2024-06-25T09:54:24.096066852Z"
    }
   },
   "id": "d4eed2bcf40a7cf5"
  },
  {
   "cell_type": "markdown",
   "source": [
    "So if we want to clean up a database server, we can use the below code to clean the database recursively."
   ],
   "metadata": {
    "collapsed": false
   },
   "id": "dfa9da3be9c854b3"
  },
  {
   "cell_type": "code",
   "execution_count": 41,
   "outputs": [],
   "source": [
    "service_id = metadata.get_by_name(\n",
    "    entity=DatabaseService, fqn=\"test-db-service\"\n",
    ").id\n",
    "\n",
    "metadata.delete(\n",
    "    entity=DatabaseService,\n",
    "    entity_id=service_id,\n",
    "    recursive=True,\n",
    "    hard_delete=True,\n",
    ")"
   ],
   "metadata": {
    "collapsed": false,
    "ExecuteTime": {
     "end_time": "2024-06-25T09:54:54.778595931Z",
     "start_time": "2024-06-25T09:54:53.446103211Z"
    }
   },
   "id": "47314ec9a253ccb3"
  },
  {
   "cell_type": "code",
   "execution_count": null,
   "outputs": [],
   "source": [],
   "metadata": {
    "collapsed": false
   },
   "id": "591acaf3aa8f9434"
  }
 ],
 "metadata": {
  "kernelspec": {
   "display_name": "Python 3",
   "language": "python",
   "name": "python3"
  },
  "language_info": {
   "codemirror_mode": {
    "name": "ipython",
    "version": 2
   },
   "file_extension": ".py",
   "mimetype": "text/x-python",
   "name": "python",
   "nbconvert_exporter": "python",
   "pygments_lexer": "ipython2",
   "version": "2.7.6"
  }
 },
 "nbformat": 4,
 "nbformat_minor": 5
}
