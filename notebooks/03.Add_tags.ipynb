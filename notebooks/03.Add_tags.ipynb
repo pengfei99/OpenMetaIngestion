{
 "cells": [
  {
   "cell_type": "markdown",
   "source": [
    "# Adding classification and tags\n",
    "\n",
    "In this tutorial, we will:\n",
    "- Create a Database Service, a Database, a Schema and one Table,\n",
    "- Create a Classification,\n",
    "- Create a Tag for the Classification and add it to the Table."
   ],
   "metadata": {
    "collapsed": false
   },
   "id": "5fb8df5719bd6943"
  },
  {
   "cell_type": "code",
   "execution_count": 1,
   "outputs": [],
   "source": [
    "from metadata.ingestion.ometa.ometa_api import OpenMetadata\n",
    "from metadata.generated.schema.entity.services.connections.metadata.openMetadataConnection import (OpenMetadataConnection, AuthProvider)\n",
    "from metadata.generated.schema.security.client.openMetadataJWTClientConfig import OpenMetadataJWTClientConfig"
   ],
   "metadata": {
    "collapsed": false,
    "ExecuteTime": {
     "end_time": "2024-06-25T13:43:43.786842336Z",
     "start_time": "2024-06-25T13:43:41.932819921Z"
    }
   },
   "id": "5467e8c5007d6888"
  },
  {
   "cell_type": "markdown",
   "source": [
    "## 1. Create a connexion to the Open Metadata server\n",
    " \n",
    "In the server config clause, we must define the `server host and port`, the credential(in our case is a jwt token)"
   ],
   "metadata": {
    "collapsed": false
   },
   "id": "4223576d8fb365bf"
  },
  {
   "cell_type": "code",
   "execution_count": 2,
   "outputs": [],
   "source": [
    "from creds import om_admin_token\n",
    "server_config = OpenMetadataConnection(\n",
    "    hostPort=\"http://datacatalog.casd.local/api\",\n",
    "    authProvider=AuthProvider.openmetadata,\n",
    "    securityConfig=OpenMetadataJWTClientConfig(\n",
    "        jwtToken=om_admin_token,\n",
    "    ),\n",
    ")\n",
    "metadata = OpenMetadata(server_config)"
   ],
   "metadata": {
    "collapsed": false,
    "ExecuteTime": {
     "end_time": "2024-06-25T13:43:46.524066375Z",
     "start_time": "2024-06-25T13:43:46.507338267Z"
    }
   },
   "id": "91ef9aa68580dd5"
  },
  {
   "cell_type": "code",
   "execution_count": 3,
   "outputs": [
    {
     "data": {
      "text/plain": "True"
     },
     "execution_count": 3,
     "metadata": {},
     "output_type": "execute_result"
    }
   ],
   "source": [
    "# if it returns true, it means the connection is success \n",
    "metadata.health_check()"
   ],
   "metadata": {
    "collapsed": false,
    "ExecuteTime": {
     "end_time": "2024-06-25T13:44:06.242341859Z",
     "start_time": "2024-06-25T13:44:06.194402749Z"
    }
   },
   "id": "b1396d54ee1373fc"
  },
  {
   "cell_type": "markdown",
   "source": [
    "## 2. Create the required entities"
   ],
   "metadata": {
    "collapsed": false
   },
   "id": "d874376b2869cb47"
  },
  {
   "cell_type": "code",
   "execution_count": 4,
   "outputs": [],
   "source": [
    "from metadata.generated.schema.api.services.createDatabaseService import CreateDatabaseServiceRequest\n",
    "from metadata.generated.schema.entity.services.connections.database.common.basicAuth import BasicAuth\n",
    "from metadata.generated.schema.entity.services.connections.database.mysqlConnection import MysqlConnection\n",
    "from metadata.generated.schema.entity.services.databaseService import (DatabaseConnection, DatabaseService, DatabaseServiceType,)\n",
    "from metadata.generated.schema.api.data.createDatabase import CreateDatabaseRequest\n",
    "from metadata.generated.schema.api.data.createDatabaseSchema import CreateDatabaseSchemaRequest\n",
    "from metadata.generated.schema.api.data.createTable import CreateTableRequest\n",
    "from metadata.generated.schema.entity.data.table import Column, DataType\n",
    "\n",
    "# create db service\n",
    "db_service = CreateDatabaseServiceRequest(\n",
    "    name=\"test-db-service\",\n",
    "    serviceType=DatabaseServiceType.Mysql,\n",
    "    connection=DatabaseConnection(\n",
    "        config=MysqlConnection(\n",
    "            username=\"db_login\",\n",
    "            authType=BasicAuth(password=\"db_name\"),\n",
    "            hostPort=\"http://db_url:1234\",\n",
    "        )\n",
    "    ),\n",
    ")\n",
    "\n",
    "# when we create an entity by using function `create_or_update`, it returns the created instance of the query\n",
    "db_service_entity = metadata.create_or_update(data=db_service)\n",
    "\n",
    "# create db\n",
    "db_entity_req = CreateDatabaseRequest(\n",
    "    name=\"test-db\",\n",
    "    service=db_service_entity.fullyQualifiedName,\n",
    ")\n",
    "\n",
    "db_entity = metadata.create_or_update(data=db_entity_req)\n",
    "\n",
    "# create schema\n",
    "create_schema_req = CreateDatabaseSchemaRequest(\n",
    "    name=\"test-schema\", database=db_entity.fullyQualifiedName\n",
    ")\n",
    "\n",
    "# the create request will return the fqn(fully qualified name) of the created schema\n",
    "schema_entity = metadata.create_or_update(data=create_schema_req)\n",
    "\n",
    "# create table\n",
    "\n",
    "table_a = CreateTableRequest(\n",
    "    name=\"test_user\",\n",
    "    databaseSchema=schema_entity.fullyQualifiedName,\n",
    "    columns=[Column(name=\"id\", dataType=DataType.BIGINT,description=\"id of the user\"),\n",
    "             Column(name=\"age\", dataType=DataType.INT,description=\"age of the user\")],\n",
    ")\n",
    "\n",
    "table_a_entity = metadata.create_or_update(data=table_a)"
   ],
   "metadata": {
    "collapsed": false,
    "ExecuteTime": {
     "end_time": "2024-06-25T13:52:57.486853828Z",
     "start_time": "2024-06-25T13:52:57.324926979Z"
    }
   },
   "id": "cd4aefab15e3b8a3"
  },
  {
   "cell_type": "markdown",
   "source": [
    "## 3.create a classification entity"
   ],
   "metadata": {
    "collapsed": false
   },
   "id": "1429b00107063dd0"
  },
  {
   "cell_type": "code",
   "execution_count": 5,
   "outputs": [
    {
     "data": {
      "text/plain": "Classification(id=Uuid(__root__=UUID('f001bd5f-02b2-4ce0-b4f4-0ad7fbc24873')), name=EntityName(__root__='TestClass1'), fullyQualifiedName=FullyQualifiedEntityName(__root__='TestClass1'), displayName=None, description=Markdown(__root__='Sample classification for test.'), version=EntityVersion(__root__=0.1), termCount=None, updatedAt=Timestamp(__root__=1719323707432), updatedBy='ingestion-bot', href=Href(__root__=AnyUrl('http://datacatalog.casd.local/api/v1/classifications/f001bd5f-02b2-4ce0-b4f4-0ad7fbc24873', scheme='http', host='datacatalog.casd.local', tld='local', host_type='domain', path='/api/v1/classifications/f001bd5f-02b2-4ce0-b4f4-0ad7fbc24873')), usageCount=None, changeDescription=None, deleted=False, provider=<ProviderType.user: 'user'>, disabled=None, mutuallyExclusive=False)"
     },
     "execution_count": 5,
     "metadata": {},
     "output_type": "execute_result"
    }
   ],
   "source": [
    "from metadata.generated.schema.api.classification.createClassification import CreateClassificationRequest\n",
    "from metadata.generated.schema.api.classification.createTag import CreateTagRequest\n",
    "\n",
    "classification_request=CreateClassificationRequest(\n",
    "    name=\"TestClass1\",\n",
    "    description=\"Sample classification for test.\",\n",
    ")\n",
    "\n",
    "metadata.create_or_update(classification_request)"
   ],
   "metadata": {
    "collapsed": false,
    "ExecuteTime": {
     "end_time": "2024-06-25T13:55:07.566710228Z",
     "start_time": "2024-06-25T13:55:07.418844969Z"
    }
   },
   "id": "36ecf4d918ae9ac4"
  },
  {
   "cell_type": "code",
   "execution_count": null,
   "outputs": [],
   "source": [],
   "metadata": {
    "collapsed": false
   },
   "id": "3175289215c0fc68"
  },
  {
   "cell_type": "code",
   "execution_count": null,
   "outputs": [],
   "source": [],
   "metadata": {
    "collapsed": false
   },
   "id": "8bcf5c80490e7e82"
  }
 ],
 "metadata": {
  "kernelspec": {
   "display_name": "Python 3",
   "language": "python",
   "name": "python3"
  },
  "language_info": {
   "codemirror_mode": {
    "name": "ipython",
    "version": 2
   },
   "file_extension": ".py",
   "mimetype": "text/x-python",
   "name": "python",
   "nbconvert_exporter": "python",
   "pygments_lexer": "ipython2",
   "version": "2.7.6"
  }
 },
 "nbformat": 4,
 "nbformat_minor": 5
}
