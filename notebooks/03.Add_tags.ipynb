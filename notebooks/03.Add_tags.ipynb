{
 "cells": [
  {
   "cell_type": "markdown",
   "source": [
    "# Adding classification and tags\n",
    "\n",
    "In this tutorial, we will:\n",
    "- Create a Database Service, a Database, a Schema and one Table,\n",
    "- Create a Classification,\n",
    "- Create a Tag for the Classification and add it to the Table."
   ],
   "metadata": {
    "collapsed": false
   },
   "id": "5fb8df5719bd6943"
  },
  {
   "cell_type": "code",
   "execution_count": 1,
   "outputs": [],
   "source": [
    "from metadata.ingestion.ometa.ometa_api import OpenMetadata\n",
    "from metadata.generated.schema.entity.services.connections.metadata.openMetadataConnection import (OpenMetadataConnection, AuthProvider)\n",
    "from metadata.generated.schema.security.client.openMetadataJWTClientConfig import OpenMetadataJWTClientConfig"
   ],
   "metadata": {
    "collapsed": false,
    "ExecuteTime": {
     "end_time": "2024-06-25T13:43:43.786842336Z",
     "start_time": "2024-06-25T13:43:41.932819921Z"
    }
   },
   "id": "5467e8c5007d6888"
  },
  {
   "cell_type": "markdown",
   "source": [
    "## 1. Create a connexion to the Open Metadata server\n",
    " \n",
    "In the server config clause, we must define the `server host and port`, the credential(in our case is a jwt token)"
   ],
   "metadata": {
    "collapsed": false
   },
   "id": "4223576d8fb365bf"
  },
  {
   "cell_type": "code",
   "execution_count": 2,
   "outputs": [],
   "source": [
    "from creds import om_admin_token\n",
    "server_config = OpenMetadataConnection(\n",
    "    hostPort=\"http://datacatalog.casd.local/api\",\n",
    "    authProvider=AuthProvider.openmetadata,\n",
    "    securityConfig=OpenMetadataJWTClientConfig(\n",
    "        jwtToken=om_admin_token,\n",
    "    ),\n",
    ")\n",
    "metadata = OpenMetadata(server_config)"
   ],
   "metadata": {
    "collapsed": false,
    "ExecuteTime": {
     "end_time": "2024-06-25T13:43:46.524066375Z",
     "start_time": "2024-06-25T13:43:46.507338267Z"
    }
   },
   "id": "91ef9aa68580dd5"
  },
  {
   "cell_type": "code",
   "execution_count": 3,
   "outputs": [
    {
     "data": {
      "text/plain": "True"
     },
     "execution_count": 3,
     "metadata": {},
     "output_type": "execute_result"
    }
   ],
   "source": [
    "# if it returns true, it means the connection is success \n",
    "metadata.health_check()"
   ],
   "metadata": {
    "collapsed": false,
    "ExecuteTime": {
     "end_time": "2024-06-25T13:44:06.242341859Z",
     "start_time": "2024-06-25T13:44:06.194402749Z"
    }
   },
   "id": "b1396d54ee1373fc"
  },
  {
   "cell_type": "markdown",
   "source": [
    "## 2. Create the required entities"
   ],
   "metadata": {
    "collapsed": false
   },
   "id": "d874376b2869cb47"
  },
  {
   "cell_type": "code",
   "execution_count": 4,
   "outputs": [],
   "source": [
    "from metadata.generated.schema.api.services.createDatabaseService import CreateDatabaseServiceRequest\n",
    "from metadata.generated.schema.entity.services.connections.database.common.basicAuth import BasicAuth\n",
    "from metadata.generated.schema.entity.services.connections.database.mysqlConnection import MysqlConnection\n",
    "from metadata.generated.schema.entity.services.databaseService import (DatabaseConnection, DatabaseService, DatabaseServiceType,)\n",
    "from metadata.generated.schema.api.data.createDatabase import CreateDatabaseRequest\n",
    "from metadata.generated.schema.api.data.createDatabaseSchema import CreateDatabaseSchemaRequest\n",
    "from metadata.generated.schema.api.data.createTable import CreateTableRequest\n",
    "from metadata.generated.schema.entity.data.table import Column, DataType\n",
    "\n",
    "# create db service\n",
    "db_service = CreateDatabaseServiceRequest(\n",
    "    name=\"test-db-service\",\n",
    "    serviceType=DatabaseServiceType.Mysql,\n",
    "    connection=DatabaseConnection(\n",
    "        config=MysqlConnection(\n",
    "            username=\"db_login\",\n",
    "            authType=BasicAuth(password=\"db_name\"),\n",
    "            hostPort=\"http://db_url:1234\",\n",
    "        )\n",
    "    ),\n",
    ")\n",
    "\n",
    "# when we create an entity by using function `create_or_update`, it returns the created instance of the query\n",
    "db_service_entity = metadata.create_or_update(data=db_service)\n",
    "\n",
    "# create db\n",
    "db_entity_req = CreateDatabaseRequest(\n",
    "    name=\"test-db\",\n",
    "    service=db_service_entity.fullyQualifiedName,\n",
    ")\n",
    "\n",
    "db_entity = metadata.create_or_update(data=db_entity_req)\n",
    "\n",
    "# create schema\n",
    "create_schema_req = CreateDatabaseSchemaRequest(\n",
    "    name=\"test-schema\", database=db_entity.fullyQualifiedName\n",
    ")\n",
    "\n",
    "# the create request will return the fqn(fully qualified name) of the created schema\n",
    "schema_entity = metadata.create_or_update(data=create_schema_req)\n",
    "\n",
    "# create table\n",
    "\n",
    "table_a = CreateTableRequest(\n",
    "    name=\"test_user\",\n",
    "    databaseSchema=schema_entity.fullyQualifiedName,\n",
    "    columns=[Column(name=\"id\", dataType=DataType.BIGINT,description=\"id of the user\"),\n",
    "             Column(name=\"age\", dataType=DataType.INT,description=\"age of the user\")],\n",
    ")\n",
    "\n",
    "table_a_entity = metadata.create_or_update(data=table_a)"
   ],
   "metadata": {
    "collapsed": false,
    "ExecuteTime": {
     "end_time": "2024-06-25T13:52:57.486853828Z",
     "start_time": "2024-06-25T13:52:57.324926979Z"
    }
   },
   "id": "cd4aefab15e3b8a3"
  },
  {
   "cell_type": "markdown",
   "source": [
    "## 3.create a classification entity\n",
    "\n",
    "In `OM`, a `Classification entity` contains `hierarchical terms called tags` used for categorizing and classifying `data assets and other entities`. For example, a default classification called `PII(Personally Identifiable Information)`, it contains three `tags`:\n",
    "- **None**: do not contain sensitive data\n",
    "- **NonSensitive**: contain PII, but they are easily accessible from public sources and can include zip code, race, gender, and date of birth.\n",
    "- **Sensitive**: contain PII, and if lost, compromised, or disclosed without authorization, could result in substantial harm, embarrassment, inconvenience, or unfairness to an individual.\n",
    "\n",
    "In below example, we will try to create a "
   ],
   "metadata": {
    "collapsed": false
   },
   "id": "1429b00107063dd0"
  },
  {
   "cell_type": "code",
   "execution_count": 9,
   "outputs": [],
   "source": [
    "from metadata.generated.schema.api.classification.createClassification import CreateClassificationRequest\n",
    "from metadata.generated.schema.api.classification.createTag import CreateTagRequest\n",
    "\n",
    "classification_request=CreateClassificationRequest(\n",
    "    name=\"DataClassification\",\n",
    "    description=\"MAC data classification\",\n",
    ")\n",
    "\n",
    "classification_entity=metadata.create_or_update(classification_request)"
   ],
   "metadata": {
    "collapsed": false,
    "ExecuteTime": {
     "end_time": "2024-06-25T14:52:30.345541986Z",
     "start_time": "2024-06-25T14:52:30.300129778Z"
    }
   },
   "id": "36ecf4d918ae9ac4"
  },
  {
   "cell_type": "code",
   "execution_count": 13,
   "outputs": [
    {
     "name": "stdout",
     "output_type": "stream",
     "text": [
      "type of the classification: <class 'metadata.generated.schema.entity.classification.classification.Classification'>\n",
      "content of the classification: id=Uuid(__root__=UUID('d104b0ad-cd71-4029-bb82-5ece649fc0ee')) name=EntityName(__root__='DataClassification') fullyQualifiedName=FullyQualifiedEntityName(__root__='DataClassification') displayName=None description=Markdown(__root__='MAC data classification') version=EntityVersion(__root__=0.1) termCount=None updatedAt=Timestamp(__root__=1719327150298) updatedBy='ingestion-bot' href=Href(__root__=AnyUrl('http://datacatalog.casd.local/api/v1/classifications/d104b0ad-cd71-4029-bb82-5ece649fc0ee', scheme='http', host='datacatalog.casd.local', tld='local', host_type='domain', path='/api/v1/classifications/d104b0ad-cd71-4029-bb82-5ece649fc0ee')) usageCount=None changeDescription=None deleted=False provider=<ProviderType.user: 'user'> disabled=None mutuallyExclusive=False\n",
      "name of the classification: DataClassification\n"
     ]
    }
   ],
   "source": [
    "if classification_entity:\n",
    "    print(f\"type of the classification: {type(classification_entity)}\")\n",
    "    print(f\"content of the classification: {classification_entity}\")\n",
    "    print(f\"name of the classification: {classification_entity.name.__root__}\")"
   ],
   "metadata": {
    "collapsed": false,
    "ExecuteTime": {
     "end_time": "2024-06-25T14:56:17.850778998Z",
     "start_time": "2024-06-25T14:56:17.787073940Z"
    }
   },
   "id": "3175289215c0fc68"
  },
  {
   "cell_type": "markdown",
   "source": [
    "## 4. Creating dags in a classification\n",
    "\n",
    "Now we want to add the following tags to the `DataClassification` classification.\n",
    "- **TopSecret**: Such material would cause \"exceptionally grave damage\" to national security if made publicly available\n",
    "- **Secret**: Secret material would cause \"serious damage\" to national security if it were publicly available\n",
    "- **Confidential**: Confidential material would cause \"damage\" or be prejudicial to national security if publicly available\n",
    "- **Restricted**: Restricted material would cause \"undesirable effects\" if publicly available.\n",
    "- **Official**: Official material forms the generality of government business, public service delivery and commercial activity. This includes a diverse range of information, of varying sensitivities, and with differing consequences resulting from compromise or loss.\n",
    "- **Unclassified**: Unclassified information is low-impact, and therefore does not require any special protection, such as vetting of personnel."
   ],
   "metadata": {
    "collapsed": false
   },
   "id": "652ebca8dc0a9c53"
  },
  {
   "cell_type": "code",
   "execution_count": 20,
   "outputs": [
    {
     "data": {
      "text/plain": "Tag(id=Uuid(__root__=UUID('b5743997-fd6e-4941-9223-2a15a01b529f')), name=EntityName(__root__='Unclassified'), displayName='Unclassified', fullyQualifiedName='DataClassification.Unclassified', description=Markdown(__root__='Unclassified information is low-impact, and therefore does not require any special protection, such as vetting of personnel.'), style=None, classification=EntityReference(id=Uuid(__root__=UUID('d104b0ad-cd71-4029-bb82-5ece649fc0ee')), type='classification', name='DataClassification', fullyQualifiedName='DataClassification', description=Markdown(__root__='MAC data classification'), displayName='DataClassification', deleted=False, inherited=None, href=Href(__root__=AnyUrl('http://datacatalog.casd.local/api/v1/classifications/d104b0ad-cd71-4029-bb82-5ece649fc0ee', scheme='http', host='datacatalog.casd.local', tld='local', host_type='domain', path='/api/v1/classifications/d104b0ad-cd71-4029-bb82-5ece649fc0ee'))), parent=None, children=None, version=EntityVersion(__root__=0.2), updatedAt=Timestamp(__root__=1719328456334), updatedBy='ingestion-bot', href=Href(__root__=AnyUrl('http://datacatalog.casd.local/api/v1/tags/b5743997-fd6e-4941-9223-2a15a01b529f', scheme='http', host='datacatalog.casd.local', tld='local', host_type='domain', path='/api/v1/tags/b5743997-fd6e-4941-9223-2a15a01b529f')), usageCount=None, deprecated=False, deleted=False, changeDescription=ChangeDescription(fieldsAdded=[FieldChange(name=FieldName(__root__='displayName'), oldValue=None, newValue='Unclassified')], fieldsUpdated=[], fieldsDeleted=[], previousVersion=EntityVersion(__root__=0.1)), provider=<ProviderType.user: 'user'>, disabled=None, mutuallyExclusive=False)"
     },
     "execution_count": 20,
     "metadata": {},
     "output_type": "execute_result"
    }
   ],
   "source": [
    "ts_tag_request=CreateTagRequest(\n",
    "    classification=classification_request.name,\n",
    "    name=\"TopSecret\",\n",
    "    displayName=\"TopSecret\",\n",
    "    description=\"Such material would cause `exceptionally grave damage` to national security if made publicly available\",\n",
    ")\n",
    "\n",
    "s_tag_request=CreateTagRequest(\n",
    "    classification=classification_request.name,\n",
    "    name=\"Secret\",\n",
    "    displayName=\"Secret\",\n",
    "    description=\"Secret material would cause `serious damage` to national security if it were publicly available\",\n",
    ")\n",
    "\n",
    "\n",
    "conf_tag_request=CreateTagRequest(\n",
    "    classification=classification_request.name,\n",
    "    name=\"Confidential\",\n",
    "    displayName=\"Confidential\",\n",
    "    description=\"Confidential material would cause `damage` or be prejudicial to national security if publicly available\",\n",
    ")\n",
    "\n",
    "res_tag_request=CreateTagRequest(\n",
    "    classification=classification_request.name,\n",
    "    name=\"Restricted\",\n",
    "    displayName=\"Restricted\",\n",
    "    description=\"Restricted material would cause `undesirable effects` if publicly available\",\n",
    ")\n",
    "\n",
    "off_tag_request=CreateTagRequest(\n",
    "    classification=classification_request.name,\n",
    "    name=\"Official\",\n",
    "    displayName=\"Official\",\n",
    "    description=\"Official material forms the generality of government business, public service delivery and commercial activity. This includes a diverse range of information, of varying sensitivities, and with differing consequences resulting from compromise or loss\",\n",
    ")\n",
    "\n",
    "\n",
    "un_tag_request=CreateTagRequest(\n",
    "    classification=classification_request.name,\n",
    "    name=\"Unclassified\",\n",
    "    displayName=\"Unclassified\",\n",
    "    description=\"Unclassified information is low-impact, and therefore does not require any special protection, such as vetting of personnel.\",\n",
    ")\n",
    "\n",
    "\n",
    "\n",
    "ts_tag_entity=metadata.create_or_update(ts_tag_request)\n",
    "s_tag_entity=metadata.create_or_update(s_tag_request)\n",
    "conf_tag_entity=metadata.create_or_update(conf_tag_request)\n",
    "metadata.create_or_update(res_tag_request)\n",
    "metadata.create_or_update(off_tag_request)\n",
    "metadata.create_or_update(un_tag_request)\n",
    "\n"
   ],
   "metadata": {
    "collapsed": false,
    "ExecuteTime": {
     "end_time": "2024-06-26T07:22:35.894548623Z",
     "start_time": "2024-06-26T07:22:35.729488930Z"
    }
   },
   "id": "d74caf264533e378"
  },
  {
   "cell_type": "code",
   "execution_count": 22,
   "outputs": [
    {
     "name": "stdout",
     "output_type": "stream",
     "text": [
      "<class 'metadata.generated.schema.entity.classification.tag.Tag'>\n",
      "id=Uuid(__root__=UUID('e859a9c5-4eae-4ac8-8014-b38a54da3bec')) name=EntityName(__root__='TopSecret') displayName='TopSecret' fullyQualifiedName='DataClassification.TopSecret' description=Markdown(__root__='Such material would cause `exceptionally grave damage` to national security if made publicly available') style=None classification=EntityReference(id=Uuid(__root__=UUID('d104b0ad-cd71-4029-bb82-5ece649fc0ee')), type='classification', name='DataClassification', fullyQualifiedName='DataClassification', description=Markdown(__root__='MAC data classification'), displayName='DataClassification', deleted=False, inherited=None, href=Href(__root__=AnyUrl('http://datacatalog.casd.local/api/v1/classifications/d104b0ad-cd71-4029-bb82-5ece649fc0ee', scheme='http', host='datacatalog.casd.local', tld='local', host_type='domain', path='/api/v1/classifications/d104b0ad-cd71-4029-bb82-5ece649fc0ee'))) parent=None children=None version=EntityVersion(__root__=0.4) updatedAt=Timestamp(__root__=1719386555735) updatedBy='ingestion-bot' href=Href(__root__=AnyUrl('http://datacatalog.casd.local/api/v1/tags/e859a9c5-4eae-4ac8-8014-b38a54da3bec', scheme='http', host='datacatalog.casd.local', tld='local', host_type='domain', path='/api/v1/tags/e859a9c5-4eae-4ac8-8014-b38a54da3bec')) usageCount=None deprecated=False deleted=False changeDescription=ChangeDescription(fieldsAdded=[], fieldsUpdated=[], fieldsDeleted=[FieldChange(name=FieldName(__root__='style'), oldValue='{}', newValue=None)], previousVersion=EntityVersion(__root__=0.3)) provider=<ProviderType.user: 'user'> disabled=None mutuallyExclusive=False\n"
     ]
    }
   ],
   "source": [
    "print(type(ts_tag_entity))\n",
    "print(ts_tag_entity)"
   ],
   "metadata": {
    "collapsed": false,
    "ExecuteTime": {
     "end_time": "2024-06-26T07:23:04.278470635Z",
     "start_time": "2024-06-26T07:23:04.247682513Z"
    }
   },
   "id": "222891a3a1a8caf6"
  },
  {
   "cell_type": "markdown",
   "source": [
    "## Tagging a Table\n",
    "\n",
    "The source code can be found here: https://github.com/open-metadata/OpenMetadata/tree/e02ead8133e279a60554747954e2f681171cf7a5/ingestion/src/metadata/ingestion/ometa/mixins"
   ],
   "metadata": {
    "collapsed": false
   },
   "id": "6f897ccf4c73c16f"
  },
  {
   "cell_type": "code",
   "execution_count": 30,
   "outputs": [
    {
     "data": {
      "text/plain": "Table(id=Uuid(__root__=UUID('d6b35523-124d-476e-b863-eb016aca2178')), name=EntityName(__root__='test_user'), displayName=None, fullyQualifiedName=FullyQualifiedEntityName(__root__='test-db-service.test-db.test-schema.test_user'), description=None, version=EntityVersion(__root__=0.2), updatedAt=Timestamp(__root__=1719387988655), updatedBy='ingestion-bot', href=Href(__root__=AnyUrl('http://datacatalog.casd.local/api/v1/tables/d6b35523-124d-476e-b863-eb016aca2178', scheme='http', host='datacatalog.casd.local', tld='local', host_type='domain', path='/api/v1/tables/d6b35523-124d-476e-b863-eb016aca2178')), tableType=None, columns=[Column(name=ColumnName(__root__='id'), displayName=None, dataType=<DataType.BIGINT: 'BIGINT'>, arrayDataType=None, dataLength=None, precision=None, scale=None, dataTypeDisplay='bigint', description=Markdown(__root__='id of the user'), fullyQualifiedName=FullyQualifiedEntityName(__root__='test-db-service.test-db.test-schema.test_user.id'), tags=[], constraint=None, ordinalPosition=None, jsonSchema=None, children=None, profile=None, customMetrics=None), Column(name=ColumnName(__root__='age'), displayName=None, dataType=<DataType.INT: 'INT'>, arrayDataType=None, dataLength=None, precision=None, scale=None, dataTypeDisplay='int', description=Markdown(__root__='age of the user'), fullyQualifiedName=FullyQualifiedEntityName(__root__='test-db-service.test-db.test-schema.test_user.age'), tags=[], constraint=None, ordinalPosition=None, jsonSchema=None, children=None, profile=None, customMetrics=None)], tableConstraints=None, tablePartition=None, owner=None, databaseSchema=EntityReference(id=Uuid(__root__=UUID('a803419a-c1ae-444c-bb61-07127d4477a4')), type='databaseSchema', name='test-schema', fullyQualifiedName='test-db-service.test-db.test-schema', description=None, displayName='test-schema', deleted=False, inherited=None, href=Href(__root__=AnyUrl('http://datacatalog.casd.local/api/v1/databaseSchemas/a803419a-c1ae-444c-bb61-07127d4477a4', scheme='http', host='datacatalog.casd.local', tld='local', host_type='domain', path='/api/v1/databaseSchemas/a803419a-c1ae-444c-bb61-07127d4477a4'))), database=EntityReference(id=Uuid(__root__=UUID('e0625193-2350-42cb-9711-845c79a3c19d')), type='database', name='test-db', fullyQualifiedName='test-db-service.test-db', description=None, displayName='test-db', deleted=False, inherited=None, href=Href(__root__=AnyUrl('http://datacatalog.casd.local/api/v1/databases/e0625193-2350-42cb-9711-845c79a3c19d', scheme='http', host='datacatalog.casd.local', tld='local', host_type='domain', path='/api/v1/databases/e0625193-2350-42cb-9711-845c79a3c19d'))), service=EntityReference(id=Uuid(__root__=UUID('afc21d2f-2547-4d8c-b69b-a6c7917a38c3')), type='databaseService', name='test-db-service', fullyQualifiedName='test-db-service', description=None, displayName='test-db-service', deleted=False, inherited=None, href=Href(__root__=AnyUrl('http://datacatalog.casd.local/api/v1/services/databaseServices/afc21d2f-2547-4d8c-b69b-a6c7917a38c3', scheme='http', host='datacatalog.casd.local', tld='local', host_type='domain', path='/api/v1/services/databaseServices/afc21d2f-2547-4d8c-b69b-a6c7917a38c3'))), serviceType=<DatabaseServiceType.Mysql: 'Mysql'>, location=None, schemaDefinition=None, tags=[TagLabel(tagFQN=TagFQN(__root__='DataClassification.Secret'), name='Secret', displayName='Secret', description=Markdown(__root__='Secret material would cause `serious damage` to national security if it were publicly available'), style=None, source=<TagSource.Classification: 'Classification'>, labelType=<LabelType.Automated: 'Automated'>, state=<State.Suggested: 'Suggested'>, href=None)], usageSummary=None, followers=EntityReferenceList(__root__=[]), joins=None, sampleData=None, tableProfilerConfig=None, customMetrics=None, profile=None, testSuite=None, dataModel=None, changeDescription=ChangeDescription(fieldsAdded=[FieldChange(name=FieldName(__root__='tags'), oldValue=None, newValue='[{\"tagFQN\":\"DataClassification.Secret\",\"name\":\"Secret\",\"displayName\":\"Secret\",\"description\":\"Secret material would cause `serious damage` to national security if it were publicly available\",\"source\":\"Classification\",\"labelType\":\"Automated\",\"state\":\"Suggested\"}]')], fieldsUpdated=[], fieldsDeleted=[], previousVersion=EntityVersion(__root__=0.1)), deleted=False, retentionPeriod=None, extension=None, sourceUrl=None, domain=None, dataProducts=EntityReferenceList(__root__=[]), fileFormat=None, votes=Votes(upVotes=0, downVotes=0, upVoters=EntityReferenceList(__root__=[]), downVoters=EntityReferenceList(__root__=[])), lifeCycle=None, sourceHash=None)"
     },
     "execution_count": 30,
     "metadata": {},
     "output_type": "execute_result"
    }
   ],
   "source": [
    "from metadata.generated.schema.entity.data.table import Table\n",
    "from metadata.ingestion.ometa.mixins.patch_mixin_utils import PatchOperation\n",
    "from metadata.generated.schema.type.tagLabel import TagLabel, TagSource, State, LabelType\n",
    "\n",
    "# we need to create tag label first to be able to add tag to other entities\n",
    "# We only need tag_fqn to build the tag label of type str.\n",
    "ts_tag_label=TagLabel(tagFQN=s_tag_entity.fullyQualifiedName,source=TagSource.Classification,  state=State.Suggested, labelType=LabelType.Automated,)\n",
    "s_tag_label=TagLabel(tagFQN=s_tag_entity.fullyQualifiedName,source=TagSource.Classification,  state=State.Suggested, labelType=LabelType.Automated,)\n",
    "conf_tag_label=TagLabel(tagFQN=conf_tag_entity.fullyQualifiedName,source=TagSource.Classification,  state=State.Suggested, labelType=LabelType.Automated,)\n",
    "\n",
    "# if we know the value of the fqn, we can create the tag label from string value directly\n",
    "res_tag_label=TagLabel(tagFQN=\"DataClassification.Restricted\",source=TagSource.Classification,  state=State.Suggested, labelType=LabelType.Automated,)\n",
    "off_tag_label=TagLabel(tagFQN=\"DataClassification.Official\",source=TagSource.Classification,  state=State.Suggested, labelType=LabelType.Automated,)\n",
    "un_tag_label=TagLabel(tagFQN=\"DataClassification.Unclassified\",source=TagSource.Classification,  state=State.Suggested, labelType=LabelType.Automated,)\n",
    "\n",
    "metadata.patch_tags(\n",
    "    entity=Table,\n",
    "    source=table_a_entity,\n",
    "    tag_labels=[s_tag_label],\n",
    "    operation=PatchOperation.ADD\n",
    ")"
   ],
   "metadata": {
    "collapsed": false,
    "ExecuteTime": {
     "end_time": "2024-06-26T08:02:20.437181295Z",
     "start_time": "2024-06-26T08:02:20.349594962Z"
    }
   },
   "id": "d1366866f14174aa"
  },
  {
   "cell_type": "markdown",
   "source": [
    "## Tagging a column\n",
    "\n",
    "To tagga a column, we need to creat an object of type `ColumnTag`, it requires:\n",
    "- column_fqn\n",
    "- tag_label\n",
    "\n",
    "The source code of ColumnTag can be found here: https://github.com/open-metadata/OpenMetadata/blob/e02ead8133e279a60554747954e2f681171cf7a5/ingestion/src/metadata/ingestion/models/table_metadata.py"
   ],
   "metadata": {
    "collapsed": false
   },
   "id": "2d733182d0f5f6a8"
  },
  {
   "cell_type": "code",
   "execution_count": 33,
   "outputs": [
    {
     "data": {
      "text/plain": "Table(id=Uuid(__root__=UUID('d6b35523-124d-476e-b863-eb016aca2178')), name=EntityName(__root__='test_user'), displayName=None, fullyQualifiedName=FullyQualifiedEntityName(__root__='test-db-service.test-db.test-schema.test_user'), description=None, version=EntityVersion(__root__=0.3), updatedAt=Timestamp(__root__=1719389375052), updatedBy='ingestion-bot', href=Href(__root__=AnyUrl('http://datacatalog.casd.local/api/v1/tables/d6b35523-124d-476e-b863-eb016aca2178', scheme='http', host='datacatalog.casd.local', tld='local', host_type='domain', path='/api/v1/tables/d6b35523-124d-476e-b863-eb016aca2178')), tableType=None, columns=[Column(name=ColumnName(__root__='id'), displayName=None, dataType=<DataType.BIGINT: 'BIGINT'>, arrayDataType=None, dataLength=None, precision=None, scale=None, dataTypeDisplay='bigint', description=Markdown(__root__='id of the user'), fullyQualifiedName=FullyQualifiedEntityName(__root__='test-db-service.test-db.test-schema.test_user.id'), tags=[TagLabel(tagFQN=TagFQN(__root__='DataClassification.Secret'), name='Secret', displayName='Secret', description=Markdown(__root__='Secret material would cause `serious damage` to national security if it were publicly available'), style=None, source=<TagSource.Classification: 'Classification'>, labelType=<LabelType.Automated: 'Automated'>, state=<State.Suggested: 'Suggested'>, href=None)], constraint=None, ordinalPosition=None, jsonSchema=None, children=None, profile=None, customMetrics=None), Column(name=ColumnName(__root__='age'), displayName=None, dataType=<DataType.INT: 'INT'>, arrayDataType=None, dataLength=None, precision=None, scale=None, dataTypeDisplay='int', description=Markdown(__root__='age of the user'), fullyQualifiedName=FullyQualifiedEntityName(__root__='test-db-service.test-db.test-schema.test_user.age'), tags=[TagLabel(tagFQN=TagFQN(__root__='DataClassification.Confidential'), name='Confidential', displayName='Confidential', description=Markdown(__root__='Confidential material would cause `damage` or be prejudicial to national security if publicly available'), style=None, source=<TagSource.Classification: 'Classification'>, labelType=<LabelType.Automated: 'Automated'>, state=<State.Suggested: 'Suggested'>, href=None)], constraint=None, ordinalPosition=None, jsonSchema=None, children=None, profile=None, customMetrics=None)], tableConstraints=None, tablePartition=None, owner=None, databaseSchema=EntityReference(id=Uuid(__root__=UUID('a803419a-c1ae-444c-bb61-07127d4477a4')), type='databaseSchema', name='test-schema', fullyQualifiedName='test-db-service.test-db.test-schema', description=None, displayName='test-schema', deleted=False, inherited=None, href=Href(__root__=AnyUrl('http://datacatalog.casd.local/api/v1/databaseSchemas/a803419a-c1ae-444c-bb61-07127d4477a4', scheme='http', host='datacatalog.casd.local', tld='local', host_type='domain', path='/api/v1/databaseSchemas/a803419a-c1ae-444c-bb61-07127d4477a4'))), database=EntityReference(id=Uuid(__root__=UUID('e0625193-2350-42cb-9711-845c79a3c19d')), type='database', name='test-db', fullyQualifiedName='test-db-service.test-db', description=None, displayName='test-db', deleted=False, inherited=None, href=Href(__root__=AnyUrl('http://datacatalog.casd.local/api/v1/databases/e0625193-2350-42cb-9711-845c79a3c19d', scheme='http', host='datacatalog.casd.local', tld='local', host_type='domain', path='/api/v1/databases/e0625193-2350-42cb-9711-845c79a3c19d'))), service=EntityReference(id=Uuid(__root__=UUID('afc21d2f-2547-4d8c-b69b-a6c7917a38c3')), type='databaseService', name='test-db-service', fullyQualifiedName='test-db-service', description=None, displayName='test-db-service', deleted=False, inherited=None, href=Href(__root__=AnyUrl('http://datacatalog.casd.local/api/v1/services/databaseServices/afc21d2f-2547-4d8c-b69b-a6c7917a38c3', scheme='http', host='datacatalog.casd.local', tld='local', host_type='domain', path='/api/v1/services/databaseServices/afc21d2f-2547-4d8c-b69b-a6c7917a38c3'))), serviceType=<DatabaseServiceType.Mysql: 'Mysql'>, location=None, schemaDefinition=None, tags=[TagLabel(tagFQN=TagFQN(__root__='DataClassification.Secret'), name='Secret', displayName='Secret', description=Markdown(__root__='Secret material would cause `serious damage` to national security if it were publicly available'), style=None, source=<TagSource.Classification: 'Classification'>, labelType=<LabelType.Automated: 'Automated'>, state=<State.Suggested: 'Suggested'>, href=None)], usageSummary=None, followers=EntityReferenceList(__root__=[]), joins=None, sampleData=None, tableProfilerConfig=None, customMetrics=None, profile=None, testSuite=None, dataModel=None, changeDescription=ChangeDescription(fieldsAdded=[FieldChange(name=FieldName(__root__='columns.id.tags'), oldValue=None, newValue='[{\"tagFQN\":\"DataClassification.Secret\",\"name\":\"Secret\",\"displayName\":\"Secret\",\"description\":\"Secret material would cause `serious damage` to national security if it were publicly available\",\"source\":\"Classification\",\"labelType\":\"Automated\",\"state\":\"Suggested\"}]'), FieldChange(name=FieldName(__root__='columns.age.tags'), oldValue=None, newValue='[{\"tagFQN\":\"DataClassification.Confidential\",\"name\":\"Confidential\",\"displayName\":\"Confidential\",\"description\":\"Confidential material would cause `damage` or be prejudicial to national security if publicly available\",\"source\":\"Classification\",\"labelType\":\"Automated\",\"state\":\"Suggested\"}]')], fieldsUpdated=[], fieldsDeleted=[], previousVersion=EntityVersion(__root__=0.2)), deleted=False, retentionPeriod=None, extension=None, sourceUrl=None, domain=None, dataProducts=EntityReferenceList(__root__=[]), fileFormat=None, votes=Votes(upVotes=0, downVotes=0, upVoters=EntityReferenceList(__root__=[]), downVoters=EntityReferenceList(__root__=[])), lifeCycle=None, sourceHash=None)"
     },
     "execution_count": 33,
     "metadata": {},
     "output_type": "execute_result"
    }
   ],
   "source": [
    "from metadata.ingestion.models.table_metadata import ColumnTag\n",
    "\n",
    "col_id_tag=ColumnTag(column_fqn=\"test-db-service.test-db.test-schema.test_user.id\",tag_label=ts_tag_label)\n",
    "col_age_tag=ColumnTag(column_fqn=\"test-db-service.test-db.test-schema.test_user.age\",tag_label=conf_tag_label)\n",
    "\n",
    "metadata.patch_column_tags(table=table_a_entity,\n",
    "                          column_tags=[col_id_tag,col_age_tag],\n",
    "                          operation=PatchOperation.ADD,)"
   ],
   "metadata": {
    "collapsed": false,
    "ExecuteTime": {
     "end_time": "2024-06-26T08:09:35.133324346Z",
     "start_time": "2024-06-26T08:09:35.022907778Z"
    }
   },
   "id": "6054646ac4dd3553"
  },
  {
   "cell_type": "markdown",
   "source": [
    "## Cleanup"
   ],
   "metadata": {
    "collapsed": false
   },
   "id": "f93a2c604e818f43"
  },
  {
   "cell_type": "code",
   "execution_count": 37,
   "outputs": [
    {
     "ename": "AttributeError",
     "evalue": "'NoneType' object has no attribute 'id'",
     "output_type": "error",
     "traceback": [
      "\u001B[0;31m---------------------------------------------------------------------------\u001B[0m",
      "\u001B[0;31mAttributeError\u001B[0m                            Traceback (most recent call last)",
      "Cell \u001B[0;32mIn[37], line 7\u001B[0m\n\u001B[1;32m      1\u001B[0m \u001B[38;5;28;01mfrom\u001B[39;00m \u001B[38;5;21;01mmetadata\u001B[39;00m\u001B[38;5;21;01m.\u001B[39;00m\u001B[38;5;21;01mgenerated\u001B[39;00m\u001B[38;5;21;01m.\u001B[39;00m\u001B[38;5;21;01mschema\u001B[39;00m\u001B[38;5;21;01m.\u001B[39;00m\u001B[38;5;21;01mentity\u001B[39;00m\u001B[38;5;21;01m.\u001B[39;00m\u001B[38;5;21;01mclassification\u001B[39;00m\u001B[38;5;21;01m.\u001B[39;00m\u001B[38;5;21;01mclassification\u001B[39;00m \u001B[38;5;28;01mimport\u001B[39;00m Classification\n\u001B[1;32m      3\u001B[0m \u001B[38;5;66;03m# remove the classification and related tags\u001B[39;00m\n\u001B[1;32m      4\u001B[0m \u001B[38;5;66;03m# It will also remove tags from the column and tables\u001B[39;00m\n\u001B[1;32m      5\u001B[0m classification_id \u001B[38;5;241m=\u001B[39m \u001B[43mmetadata\u001B[49m\u001B[38;5;241;43m.\u001B[39;49m\u001B[43mget_by_name\u001B[49m\u001B[43m(\u001B[49m\n\u001B[1;32m      6\u001B[0m \u001B[43m    \u001B[49m\u001B[43mentity\u001B[49m\u001B[38;5;241;43m=\u001B[39;49m\u001B[43mClassification\u001B[49m\u001B[43m,\u001B[49m\u001B[43m \u001B[49m\u001B[43mfqn\u001B[49m\u001B[38;5;241;43m=\u001B[39;49m\u001B[38;5;124;43m\"\u001B[39;49m\u001B[38;5;124;43mDataClassification\u001B[39;49m\u001B[38;5;124;43m\"\u001B[39;49m\n\u001B[0;32m----> 7\u001B[0m \u001B[43m)\u001B[49m\u001B[38;5;241;43m.\u001B[39;49m\u001B[43mid\u001B[49m\n\u001B[1;32m      9\u001B[0m metadata\u001B[38;5;241m.\u001B[39mdelete(\n\u001B[1;32m     10\u001B[0m     entity\u001B[38;5;241m=\u001B[39mClassification,\n\u001B[1;32m     11\u001B[0m     entity_id\u001B[38;5;241m=\u001B[39mclassification_id,\n\u001B[1;32m     12\u001B[0m     recursive\u001B[38;5;241m=\u001B[39m\u001B[38;5;28;01mTrue\u001B[39;00m,\n\u001B[1;32m     13\u001B[0m     hard_delete\u001B[38;5;241m=\u001B[39m\u001B[38;5;28;01mTrue\u001B[39;00m,\n\u001B[1;32m     14\u001B[0m )\n",
      "\u001B[0;31mAttributeError\u001B[0m: 'NoneType' object has no attribute 'id'"
     ]
    }
   ],
   "source": [
    "from metadata.generated.schema.entity.classification.classification import Classification\n",
    "\n",
    "# remove the classification and related tags\n",
    "# It will also remove tags from the column and tables\n",
    "classification_id = metadata.get_by_name(\n",
    "    entity=Classification, fqn=\"DataClassification\"\n",
    ").id\n",
    "\n",
    "metadata.delete(\n",
    "    entity=Classification,\n",
    "    entity_id=classification_id,\n",
    "    recursive=True,\n",
    "    hard_delete=True,\n",
    ")\n"
   ],
   "metadata": {
    "collapsed": false,
    "ExecuteTime": {
     "end_time": "2024-06-26T08:12:58.437716694Z",
     "start_time": "2024-06-26T08:12:58.364003376Z"
    }
   },
   "id": "8bcf5c80490e7e82"
  },
  {
   "cell_type": "code",
   "execution_count": 38,
   "outputs": [
    {
     "ename": "AttributeError",
     "evalue": "'NoneType' object has no attribute 'id'",
     "output_type": "error",
     "traceback": [
      "\u001B[0;31m---------------------------------------------------------------------------\u001B[0m",
      "\u001B[0;31mAttributeError\u001B[0m                            Traceback (most recent call last)",
      "Cell \u001B[0;32mIn[38], line 4\u001B[0m\n\u001B[1;32m      1\u001B[0m \u001B[38;5;66;03m# remove db service and so on\u001B[39;00m\n\u001B[1;32m      2\u001B[0m service_id \u001B[38;5;241m=\u001B[39m \u001B[43mmetadata\u001B[49m\u001B[38;5;241;43m.\u001B[39;49m\u001B[43mget_by_name\u001B[49m\u001B[43m(\u001B[49m\n\u001B[1;32m      3\u001B[0m \u001B[43m    \u001B[49m\u001B[43mentity\u001B[49m\u001B[38;5;241;43m=\u001B[39;49m\u001B[43mDatabaseService\u001B[49m\u001B[43m,\u001B[49m\u001B[43m \u001B[49m\u001B[43mfqn\u001B[49m\u001B[38;5;241;43m=\u001B[39;49m\u001B[38;5;124;43m\"\u001B[39;49m\u001B[38;5;124;43mtest-db-service\u001B[39;49m\u001B[38;5;124;43m\"\u001B[39;49m\n\u001B[0;32m----> 4\u001B[0m \u001B[43m)\u001B[49m\u001B[38;5;241;43m.\u001B[39;49m\u001B[43mid\u001B[49m\n\u001B[1;32m      6\u001B[0m metadata\u001B[38;5;241m.\u001B[39mdelete(\n\u001B[1;32m      7\u001B[0m     entity\u001B[38;5;241m=\u001B[39mDatabaseService,\n\u001B[1;32m      8\u001B[0m     entity_id\u001B[38;5;241m=\u001B[39mservice_id,\n\u001B[1;32m      9\u001B[0m     recursive\u001B[38;5;241m=\u001B[39m\u001B[38;5;28;01mTrue\u001B[39;00m,\n\u001B[1;32m     10\u001B[0m     hard_delete\u001B[38;5;241m=\u001B[39m\u001B[38;5;28;01mTrue\u001B[39;00m,\n\u001B[1;32m     11\u001B[0m )\n",
      "\u001B[0;31mAttributeError\u001B[0m: 'NoneType' object has no attribute 'id'"
     ]
    }
   ],
   "source": [
    "# remove db service and so on\n",
    "service_id = metadata.get_by_name(\n",
    "    entity=DatabaseService, fqn=\"test-db-service\"\n",
    ").id\n",
    "\n",
    "metadata.delete(\n",
    "    entity=DatabaseService,\n",
    "    entity_id=service_id,\n",
    "    recursive=True,\n",
    "    hard_delete=True,\n",
    ")"
   ],
   "metadata": {
    "collapsed": false,
    "ExecuteTime": {
     "end_time": "2024-06-26T08:13:01.398704205Z",
     "start_time": "2024-06-26T08:13:01.335387460Z"
    }
   },
   "id": "1c9580ccd276c637"
  },
  {
   "cell_type": "code",
   "execution_count": null,
   "outputs": [],
   "source": [],
   "metadata": {
    "collapsed": false
   },
   "id": "a49aeb67a309430b"
  }
 ],
 "metadata": {
  "kernelspec": {
   "display_name": "Python 3",
   "language": "python",
   "name": "python3"
  },
  "language_info": {
   "codemirror_mode": {
    "name": "ipython",
    "version": 2
   },
   "file_extension": ".py",
   "mimetype": "text/x-python",
   "name": "python",
   "nbconvert_exporter": "python",
   "pygments_lexer": "ipython2",
   "version": "2.7.6"
  }
 },
 "nbformat": 4,
 "nbformat_minor": 5
}
