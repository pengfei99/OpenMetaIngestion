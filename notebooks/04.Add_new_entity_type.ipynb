{
 "cells": [
  {
   "cell_type": "markdown",
   "source": [
    "# Create a storage based service\n"
   ],
   "metadata": {
    "collapsed": false
   },
   "id": "6716611bb9a3e4e2"
  },
  {
   "cell_type": "code",
   "execution_count": null,
   "outputs": [],
   "source": [],
   "metadata": {
    "collapsed": false
   },
   "id": "61eb4fa488464959"
  },
  {
   "cell_type": "code",
   "execution_count": 1,
   "outputs": [],
   "source": [
    "from metadata.ingestion.ometa.ometa_api import OpenMetadata\n",
    "from metadata.generated.schema.entity.services.connections.metadata.openMetadataConnection import (OpenMetadataConnection, AuthProvider)\n",
    "from metadata.generated.schema.security.client.openMetadataJWTClientConfig import OpenMetadataJWTClientConfig"
   ],
   "metadata": {
    "collapsed": false,
    "ExecuteTime": {
     "end_time": "2024-06-27T15:06:34.577036280Z",
     "start_time": "2024-06-27T15:06:29.844861512Z"
    }
   },
   "id": "8bd28b12b52b0572"
  },
  {
   "cell_type": "code",
   "execution_count": 2,
   "outputs": [],
   "source": [
    "from creds import om_admin_token\n",
    "server_config = OpenMetadataConnection(\n",
    "    hostPort=\"http://datacatalog.casd.local/api\",\n",
    "    authProvider=AuthProvider.openmetadata,\n",
    "    securityConfig=OpenMetadataJWTClientConfig(\n",
    "        jwtToken=om_admin_token,\n",
    "    ),\n",
    ")\n",
    "metadata = OpenMetadata(server_config)"
   ],
   "metadata": {
    "collapsed": false,
    "ExecuteTime": {
     "end_time": "2024-06-27T15:06:43.070831546Z",
     "start_time": "2024-06-27T15:06:43.032282665Z"
    }
   },
   "id": "54f0356dfee1e9c1"
  },
  {
   "cell_type": "code",
   "execution_count": 3,
   "outputs": [
    {
     "data": {
      "text/plain": "True"
     },
     "execution_count": 3,
     "metadata": {},
     "output_type": "execute_result"
    }
   ],
   "source": [
    "# if it returns true, it means the connection is success \n",
    "metadata.health_check()"
   ],
   "metadata": {
    "collapsed": false,
    "ExecuteTime": {
     "end_time": "2024-06-27T15:06:45.746585835Z",
     "start_time": "2024-06-27T15:06:45.726681590Z"
    }
   },
   "id": "fbc8239122ca731f"
  },
  {
   "cell_type": "code",
   "execution_count": 5,
   "outputs": [],
   "source": [
    "from metadata.generated.schema.api.services.createStorageService import CreateStorageServiceRequest \n",
    "from metadata.generated.schema.entity.services.storageService import StorageServiceType, StorageConnection, StorageService\n",
    "from metadata.generated.schema.entity.services.connections.storage.s3Connection import S3Connection\n",
    "from metadata.generated.schema.security.credentials.awsCredentials import AWSCredentials\n",
    "\n",
    "store_service=CreateStorageServiceRequest(\n",
    "    name=\"test-datalake\",\n",
    "    serviceType=StorageServiceType.S3,\n",
    "    connection=StorageConnection(config=S3Connection(awsConfig=AWSCredentials(awsRegion=\"casd-local\"))),   \n",
    ")\n",
    "\n",
    "storage_service_entity = metadata.create_or_update(data=store_service)"
   ],
   "metadata": {
    "collapsed": false,
    "ExecuteTime": {
     "end_time": "2024-06-27T15:11:01.076957211Z",
     "start_time": "2024-06-27T15:11:01.017499478Z"
    }
   },
   "id": "2d06545cf4f60e22"
  },
  {
   "cell_type": "code",
   "execution_count": null,
   "outputs": [],
   "source": [
    "from metadata.generated.schema.api.data.createContainer import CreateContainerRequest\n",
    "\n",
    "container="
   ],
   "metadata": {
    "collapsed": false
   },
   "id": "455ad73976f2f263"
  }
 ],
 "metadata": {
  "kernelspec": {
   "display_name": "Python 3",
   "language": "python",
   "name": "python3"
  },
  "language_info": {
   "codemirror_mode": {
    "name": "ipython",
    "version": 2
   },
   "file_extension": ".py",
   "mimetype": "text/x-python",
   "name": "python",
   "nbconvert_exporter": "python",
   "pygments_lexer": "ipython2",
   "version": "2.7.6"
  }
 },
 "nbformat": 4,
 "nbformat_minor": 5
}
