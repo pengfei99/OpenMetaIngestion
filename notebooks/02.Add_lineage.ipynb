{
 "cells": [
  {
   "cell_type": "markdown",
   "source": [
    "# Build relation between entity\n",
    "\n",
    "In previous tutorial, we have ingested individual entity. Now we want to ingest relation between entities(e.g. lineage, etc.) "
   ],
   "metadata": {
    "collapsed": false
   },
   "id": "a4f6909d898f3712"
  },
  {
   "cell_type": "markdown",
   "source": [
    "## 1. Prepare the connexion"
   ],
   "metadata": {
    "collapsed": false
   },
   "id": "c0ab209b8479a272"
  },
  {
   "cell_type": "code",
   "execution_count": 1,
   "outputs": [],
   "source": [
    "from metadata.ingestion.ometa.ometa_api import OpenMetadata\n",
    "from metadata.generated.schema.entity.services.connections.metadata.openMetadataConnection import (OpenMetadataConnection, AuthProvider)\n",
    "from metadata.generated.schema.security.client.openMetadataJWTClientConfig import OpenMetadataJWTClientConfig"
   ],
   "metadata": {
    "collapsed": false,
    "ExecuteTime": {
     "end_time": "2024-07-05T08:45:07.390887496Z",
     "start_time": "2024-07-05T08:45:03.476803987Z"
    }
   },
   "id": "425119622786da92"
  },
  {
   "cell_type": "code",
   "execution_count": 2,
   "outputs": [],
   "source": [
    "from creds import om_admin_token\n",
    "server_config = OpenMetadataConnection(\n",
    "    hostPort=\"http://datacatalog.casd.local/api\",\n",
    "    authProvider=AuthProvider.openmetadata,\n",
    "    securityConfig=OpenMetadataJWTClientConfig(\n",
    "        jwtToken=om_admin_token,\n",
    "    ),\n",
    ")\n",
    "metadata = OpenMetadata(server_config)"
   ],
   "metadata": {
    "collapsed": false,
    "ExecuteTime": {
     "end_time": "2024-07-05T08:45:08.143021744Z",
     "start_time": "2024-07-05T08:45:08.059506561Z"
    }
   },
   "id": "710f5fbebd0d7f53"
  },
  {
   "cell_type": "code",
   "execution_count": 3,
   "outputs": [
    {
     "data": {
      "text/plain": "True"
     },
     "execution_count": 3,
     "metadata": {},
     "output_type": "execute_result"
    }
   ],
   "source": [
    "# if it returns true, it means the connection is success \n",
    "metadata.health_check()"
   ],
   "metadata": {
    "collapsed": false,
    "ExecuteTime": {
     "end_time": "2024-07-05T08:45:09.376739351Z",
     "start_time": "2024-07-05T08:45:09.329065619Z"
    }
   },
   "id": "cae13595d35bbf3f"
  },
  {
   "cell_type": "markdown",
   "source": [
    "## 2. Create the required entities\n",
    "\n",
    "To illustrate the table level and column level lineage, we need to create some table entities first.\n",
    "\n",
    "### 2.1 Create a db service"
   ],
   "metadata": {
    "collapsed": false
   },
   "id": "fb0e9707cdbb780f"
  },
  {
   "cell_type": "code",
   "execution_count": 4,
   "outputs": [],
   "source": [
    "from metadata.generated.schema.api.services.createDatabaseService import CreateDatabaseServiceRequest\n",
    "from metadata.generated.schema.entity.services.connections.database.common.basicAuth import BasicAuth\n",
    "from metadata.generated.schema.entity.services.connections.database.mysqlConnection import MysqlConnection\n",
    "from metadata.generated.schema.entity.services.databaseService import (DatabaseConnection, DatabaseService, DatabaseServiceType,)\n",
    "\n",
    "db_service = CreateDatabaseServiceRequest(\n",
    "    name=\"test-db-service\",\n",
    "    serviceType=DatabaseServiceType.Mysql,\n",
    "    connection=DatabaseConnection(\n",
    "        config=MysqlConnection(\n",
    "            username=\"db_login\",\n",
    "            authType=BasicAuth(password=\"db_name\"),\n",
    "            hostPort=\"http://db_url:1234\",\n",
    "        )\n",
    "    ),\n",
    ")\n",
    "\n",
    "# when we create an entity by using function `create_or_update`, it returns the created instance of the query\n",
    "db_service_entity = metadata.create_or_update(data=db_service)"
   ],
   "metadata": {
    "collapsed": false,
    "ExecuteTime": {
     "end_time": "2024-07-04T08:09:01.635106121Z",
     "start_time": "2024-07-04T08:09:01.581524228Z"
    }
   },
   "id": "559e5ce1f68da153"
  },
  {
   "cell_type": "markdown",
   "source": [
    "## 2.2 Creating a Database "
   ],
   "metadata": {
    "collapsed": false
   },
   "id": "547298eeec0a716d"
  },
  {
   "cell_type": "code",
   "execution_count": 5,
   "outputs": [],
   "source": [
    "from metadata.generated.schema.api.data.createDatabase import CreateDatabaseRequest\n",
    "\n",
    "db_entity_req = CreateDatabaseRequest(\n",
    "    name=\"test-db\",\n",
    "    service=db_service_entity.fullyQualifiedName,\n",
    ")\n",
    "\n",
    "db_entity = metadata.create_or_update(data=db_entity_req)"
   ],
   "metadata": {
    "collapsed": false,
    "ExecuteTime": {
     "end_time": "2024-07-04T08:09:04.692910858Z",
     "start_time": "2024-07-04T08:09:04.642179886Z"
    }
   },
   "id": "b59014150d650552"
  },
  {
   "cell_type": "markdown",
   "source": [
    "## 2.3 Creating the Schema"
   ],
   "metadata": {
    "collapsed": false
   },
   "id": "d6471bcf5bd17475"
  },
  {
   "cell_type": "code",
   "execution_count": 6,
   "outputs": [],
   "source": [
    "from metadata.generated.schema.api.data.createDatabaseSchema import CreateDatabaseSchemaRequest\n",
    "\n",
    "create_schema_req = CreateDatabaseSchemaRequest(\n",
    "    name=\"test-schema\", \n",
    "    database=db_entity.fullyQualifiedName)\n",
    "\n",
    "# the create request will return the fqn(fully qualified name) of the created schema\n",
    "schema_entity = metadata.create_or_update(data=create_schema_req)"
   ],
   "metadata": {
    "collapsed": false,
    "ExecuteTime": {
     "end_time": "2024-07-04T08:23:25.001946723Z",
     "start_time": "2024-07-04T08:23:24.953165567Z"
    }
   },
   "id": "239628802ccae470"
  },
  {
   "cell_type": "markdown",
   "source": [
    "## 2.4 Creating the Tables"
   ],
   "metadata": {
    "collapsed": false
   },
   "id": "b473ee08d131990a"
  },
  {
   "cell_type": "code",
   "execution_count": 7,
   "outputs": [],
   "source": [
    "from metadata.generated.schema.api.data.createTable import CreateTableRequest\n",
    "from metadata.generated.schema.entity.data.table import Column, DataType\n",
    "\n",
    "table_a = CreateTableRequest(\n",
    "    name=\"test_user\",\n",
    "    databaseSchema=schema_entity.fullyQualifiedName,\n",
    "    columns=[Column(name=\"id\", dataType=DataType.BIGINT,description=\"id of the user\"),\n",
    "             Column(name=\"age\", dataType=DataType.INT,description=\"age of the user\")],\n",
    ")\n",
    "\n",
    "table_b = CreateTableRequest(\n",
    "    name=\"test_order\",\n",
    "    databaseSchema=schema_entity.fullyQualifiedName,\n",
    "    columns=[Column(name=\"id\", dataType=DataType.BIGINT,description=\"id of the user\"),\n",
    "             Column(name=\"product_id\", dataType=DataType.BIGINT,description=\"product id\"),\n",
    "             Column(name=\"uid\", dataType=DataType.BIGINT,description=\"id of the user which start the order\"),],\n",
    ")\n",
    "\n",
    "table_c = CreateTableRequest(\n",
    "    name=\"user_order_cube\",\n",
    "    databaseSchema=schema_entity.fullyQualifiedName,\n",
    "    columns=[Column(name=\"uid\", dataType=DataType.BIGINT,description=\"id of the user\"),\n",
    "             Column(name=\"oid\", dataType=DataType.BIGINT,description=\"id of the order\"),\n",
    "             Column(name=\"product_id\", dataType=DataType.BIGINT,description=\"product id\"),\n",
    "             Column(name=\"age\", dataType=DataType.BIGINT,description=\"age of the user\"),],\n",
    ")\n",
    "\n",
    "table_a_entity = metadata.create_or_update(data=table_a)\n",
    "table_b_entity = metadata.create_or_update(data=table_b)\n",
    "table_c_entity = metadata.create_or_update(data=table_c)"
   ],
   "metadata": {
    "collapsed": false,
    "ExecuteTime": {
     "end_time": "2024-07-04T08:23:29.359843710Z",
     "start_time": "2024-07-04T08:23:29.206929595Z"
    }
   },
   "id": "39fccec195cd3e31"
  },
  {
   "cell_type": "markdown",
   "source": [
    "## 3. Adding Lineage\n",
    "\n",
    "With everything prepared, we can now create the Lineage between both Entities. An `AddLineageRequest` type represents the `edge` between two `Entities`, typed under `EntitiesEdge`.\n",
    "\n",
    "In the below example, we created an edge between table A and B. And the edge is directed with the keyword `fromEntity` and `toEntity`\n",
    "\n",
    "In our scenario, user use `test_order` and `test_user` to create a new table `user_order_cube`\n",
    "In below example, we create two lineage: \n",
    "- lineage between table `test_order` and `user_order_cube`\n",
    "- lineage between table `test_user` and `user_order_cube`"
   ],
   "metadata": {
    "collapsed": false
   },
   "id": "842b3ac9851a1d1e"
  },
  {
   "cell_type": "code",
   "execution_count": 8,
   "outputs": [],
   "source": [
    "from metadata.generated.schema.api.lineage.addLineage import AddLineageRequest\n",
    "from metadata.generated.schema.type.entityLineage import EntitiesEdge \n",
    "from metadata.generated.schema.type.entityReference import EntityReference\n",
    "\n",
    "add_lineage_request1 = AddLineageRequest(\n",
    "    edge=EntitiesEdge(\n",
    "        description=\"user order cube build lineage\",\n",
    "        fromEntity=EntityReference(id=table_b_entity.id, type=\"table\"),\n",
    "        toEntity=EntityReference(id=table_c_entity.id, type=\"table\"),\n",
    "    ),\n",
    ")\n",
    "\n",
    "add_lineage_request2 = AddLineageRequest(\n",
    "    edge=EntitiesEdge(\n",
    "        description=\"user order cube build lineage\",\n",
    "        fromEntity=EntityReference(id=table_a_entity.id, type=\"table\"),\n",
    "        toEntity=EntityReference(id=table_c_entity.id, type=\"table\"),\n",
    "    ),\n",
    ")\n",
    "\n",
    "created_lineage1 = metadata.add_lineage(data=add_lineage_request1)\n",
    "created_lineage2 = metadata.add_lineage(data=add_lineage_request2)"
   ],
   "metadata": {
    "collapsed": false,
    "ExecuteTime": {
     "end_time": "2024-07-04T08:23:42.313513994Z",
     "start_time": "2024-07-04T08:23:42.177348600Z"
    }
   },
   "id": "29a719ab9fbff024"
  },
  {
   "cell_type": "markdown",
   "source": [
    "### 3.1 Fetching Lineage\n",
    "\n",
    "Finally, let's fetch the lineage from the other node involved:"
   ],
   "metadata": {
    "collapsed": false
   },
   "id": "a28baebdbae4a01a"
  },
  {
   "cell_type": "code",
   "execution_count": 23,
   "outputs": [
    {
     "data": {
      "text/plain": "{'entity': {'id': '07824d18-8a75-4a98-83c8-b6127c3a6c16',\n  'type': 'table',\n  'name': 'test_user',\n  'fullyQualifiedName': 'test-db-service.test-db.test-schema.test_user',\n  'displayName': 'test_user',\n  'deleted': False,\n  'href': 'http://datacatalog.casd.local/api/v1/tables/07824d18-8a75-4a98-83c8-b6127c3a6c16'},\n 'nodes': [{'id': '52347ee2-4593-4931-8e6a-7a6f9158de9e',\n   'type': 'table',\n   'name': 'user_order_cube',\n   'fullyQualifiedName': 'test-db-service.test-db.test-schema.user_order_cube',\n   'displayName': 'user_order_cube',\n   'deleted': False,\n   'href': 'http://datacatalog.casd.local/api/v1/tables/52347ee2-4593-4931-8e6a-7a6f9158de9e'}],\n 'upstreamEdges': [],\n 'downstreamEdges': [{'fromEntity': '07824d18-8a75-4a98-83c8-b6127c3a6c16',\n   'toEntity': '52347ee2-4593-4931-8e6a-7a6f9158de9e'}]}"
     },
     "execution_count": 23,
     "metadata": {},
     "output_type": "execute_result"
    }
   ],
   "source": [
    "from metadata.generated.schema.entity.data.table import Table\n",
    "\n",
    "metadata.get_lineage_by_name(\n",
    "    entity=Table,\n",
    "    fqn=\"test-db-service.test-db.test-schema.test_user\",\n",
    "    # Tune this to control how far in the lineage graph to go\n",
    "    up_depth=1,\n",
    "    down_depth=1\n",
    ")"
   ],
   "metadata": {
    "collapsed": false,
    "ExecuteTime": {
     "end_time": "2024-07-03T10:06:43.851824760Z",
     "start_time": "2024-07-03T10:06:43.790432051Z"
    }
   },
   "id": "e683181fed0c4d64"
  },
  {
   "cell_type": "markdown",
   "source": [
    "### 3.2 Lineage Details\n",
    "\n",
    "Note how when adding lineage information we give to the API an [AddLineage](https://github.com/open-metadata/OpenMetadata/blob/main/openmetadata-spec/src/main/resources/json/schema/api/lineage/addLineage.json) Request. This is composed of an Entity Edge, whose definition you can find [here](https://github.com/open-metadata/OpenMetadata/blob/main/openmetadata-spec/src/main/resources/json/schema/type/entityLineage.json).\n",
    "\n",
    "In a nutshell, an Entity Edge has:\n",
    "\n",
    "1. The Entity Reference as the lineage origin,\n",
    "2. The Entity Reference as the lineage destination,\n",
    "3. Optionally, Lineage Details.\n",
    "\n",
    "In the Lineage Details property we can pass further information specific about Table to Table lineage:\n",
    "- `sqlQuery` specifying the transformation,\n",
    "- An array of `columnsLineage` as an object with an array of source and destination columns, as well as their own specific transformation function,\n",
    "- Optionally, the Entity Reference of a Pipeline powering the transformation from Table A to Table B.\n",
    "\n",
    "The API call will be exactly the same as before, but now we will add more ingredients when defining our objects. Let's see how to do that and play with the possible combinations:\n",
    "\n",
    "First, import the required classes and create a new table:"
   ],
   "metadata": {
    "collapsed": false
   },
   "id": "d56076c441531223"
  },
  {
   "cell_type": "code",
   "execution_count": 9,
   "outputs": [],
   "source": [
    "from metadata.generated.schema.type.entityLineage import (\n",
    "    ColumnLineage,\n",
    "    EntitiesEdge,\n",
    "    LineageDetails,\n",
    ")\n",
    "\n",
    "# Prepare a new table for the column lineage\n",
    "table_d = CreateTableRequest(\n",
    "    name=\"user_order_cube_detail\",\n",
    "    databaseSchema=schema_entity.fullyQualifiedName,\n",
    "    columns=[Column(name=\"uid\", dataType=DataType.BIGINT,description=\"id of the user\"),\n",
    "             Column(name=\"oid\", dataType=DataType.BIGINT,description=\"id of the order\"),\n",
    "             Column(name=\"product_id\", dataType=DataType.BIGINT,description=\"product id\"),\n",
    "             Column(name=\"age\", dataType=DataType.BIGINT,description=\"age of the user\"),],\n",
    ")\n",
    "\n",
    "table_d_entity = metadata.create_or_update(data=table_d)"
   ],
   "metadata": {
    "collapsed": false,
    "ExecuteTime": {
     "end_time": "2024-07-04T08:23:47.183741016Z",
     "start_time": "2024-07-04T08:23:47.121964965Z"
    }
   },
   "id": "460b30a4d989a1c9"
  },
  {
   "cell_type": "markdown",
   "source": [
    "####  3.2.1 Column Level Lineage\n",
    "\n",
    "We can start by linking our columns together. For that we are going to create:\n",
    "\n",
    "- A `ColumnLineage` object, linking our Table A column ID -> Table C column ID. Note that this can be a list!\n",
    "- A `LineageDetails` object, passing the column lineage and the SQL query that powers the transformation."
   ],
   "metadata": {
    "collapsed": false
   },
   "id": "7b77927c5b492706"
  },
  {
   "cell_type": "code",
   "execution_count": 10,
   "outputs": [],
   "source": [
    "# a column lineage object has two arguments, fromColumns indicates the source columns, toColumn indicates the destination columns\n",
    "column_uid_lineage1 = ColumnLineage(\n",
    "    fromColumns=[\"test-db-service.test-db.test-schema.test_user.id\",\n",
    "                 ],\n",
    "    toColumn=\"test-db-service.test-db.test-schema.user_order_cube_detail.uid\"\n",
    ")\n",
    "\n",
    "column_uid_lineage2 = ColumnLineage(\n",
    "    fromColumns=[\"test-db-service.test-db.test-schema.test_order.uid\",\n",
    "                 ],\n",
    "    toColumn=\"test-db-service.test-db.test-schema.user_order_cube_detail.uid\"\n",
    ")\n",
    "\n",
    "column_oid_lineage = ColumnLineage(\n",
    "    fromColumns=[\"test-db-service.test-db.test-schema.test_order.id\"],\n",
    "    toColumn=\"test-db-service.test-db.test-schema.user_order_cube_detail.oid\"\n",
    ")\n",
    "\n",
    "column_pid_lineage = ColumnLineage(\n",
    "    fromColumns=[\"test-db-service.test-db.test-schema.test_order.product_id\"],\n",
    "    toColumn=\"test-db-service.test-db.test-schema.user_order_cube_detail.product_id\"\n",
    ")\n",
    "\n",
    "column_age_lineage = ColumnLineage(\n",
    "    fromColumns=[\"test-db-service.test-db.test-schema.test_user.age\"],\n",
    "    toColumn=\"test-db-service.test-db.test-schema.user_order_cube_detail.age\"\n",
    ")\n",
    "\n",
    "query_detail=\"\"\"Create TABLE user_order_cube_detail AS\n",
    "              SELECT test_user.id as uid, \n",
    "             test_order.oid, \n",
    "             test_order.product_id\n",
    "             test_user.age\n",
    "             FROM test_user \n",
    "             INNER JOIN test_order \n",
    "             ON test_user.id=test_order.uid;\"\"\"\n",
    "             \n",
    "# a lineage details contains the sql query which does the data transformation\n",
    "# columnLineage contains the info of column relations\n",
    "lineage_details1 = LineageDetails(\n",
    "    sqlQuery=query_detail,\n",
    "    columnsLineage=[column_uid_lineage1,column_age_lineage],\n",
    ")\n",
    "\n",
    "lineage_details2 = LineageDetails(\n",
    "    sqlQuery=query_detail,\n",
    "    columnsLineage=[column_uid_lineage2,column_oid_lineage,column_pid_lineage],\n",
    ")\n",
    "\n",
    "add_lineage_request1 = AddLineageRequest(\n",
    "    edge=EntitiesEdge(\n",
    "        fromEntity=EntityReference(id=table_a_entity.id, type=\"table\"),\n",
    "        toEntity=EntityReference(id=table_d_entity.id, type=\"table\"),\n",
    "        lineageDetails=lineage_details1,\n",
    "    ),\n",
    ")\n",
    "\n",
    "add_lineage_request2 = AddLineageRequest(\n",
    "    edge=EntitiesEdge(\n",
    "        fromEntity=EntityReference(id=table_b_entity.id, type=\"table\"),\n",
    "        toEntity=EntityReference(id=table_d_entity.id, type=\"table\"),\n",
    "        lineageDetails=lineage_details2,\n",
    "    ),\n",
    ")\n",
    "# for one lineage, we can only have two tables, one source, one destination\n",
    "created_lineage1 = metadata.add_lineage(data=add_lineage_request1)\n",
    "\n",
    "created_lineage2 = metadata.add_lineage(data=add_lineage_request2)"
   ],
   "metadata": {
    "collapsed": false,
    "ExecuteTime": {
     "end_time": "2024-07-04T08:23:50.099487783Z",
     "start_time": "2024-07-04T08:23:49.921546985Z"
    }
   },
   "id": "f432c71430e5da2f"
  },
  {
   "cell_type": "markdown",
   "source": [
    "After running the above command, you could see the `column lineage in the web UI`. \n",
    "> Click on the `Lineage` tab, on bottom left corner, you can find a `Layers` button, click on it and choose `column` options.\n",
    "\n",
    "Another important point, for one lineage, we can only have two tables, one source, one destination. As the table user_order_cube_detail is the product of inner join of two tables, we must create two lineage entities.\n"
   ],
   "metadata": {
    "collapsed": false
   },
   "id": "deb4dcaa2267fddb"
  },
  {
   "cell_type": "markdown",
   "source": [
    "### 3.3 Adding a Pipeline Reference\n",
    "\n",
    "If the data transformation is done a workflow automation tool(e.g. airflow, etc.). We can as well ingest the `reference of the pipeline` used to create the lineage (e.g., the ETL feeding the tables) into OM.\n",
    "\n",
    "To prepare this example, we need to start by creating the `Pipeline Entity`. As usual, we have the entity hierarchy, a pipeline must be inside a pipeline service. So we'll need to prepare the `Pipeline Service` first."
   ],
   "metadata": {
    "collapsed": false
   },
   "id": "a6f8e209c2c8432b"
  },
  {
   "cell_type": "code",
   "execution_count": 4,
   "outputs": [],
   "source": [
    "from metadata.generated.schema.api.data.createPipeline import CreatePipelineRequest\n",
    "from metadata.generated.schema.api.services.createPipelineService import (\n",
    "    CreatePipelineServiceRequest,\n",
    ")\n",
    "from metadata.generated.schema.entity.services.pipelineService import (\n",
    "    PipelineConnection,\n",
    "    PipelineService,\n",
    "    PipelineServiceType,\n",
    "    airflowConnection\n",
    ")\n",
    "\n",
    "from metadata.generated.schema.entity.services.connections.pipeline.backendConnection import (\n",
    "    BackendConnection,\n",
    ")\n",
    "\n",
    "pipeline_service = CreatePipelineServiceRequest(\n",
    "    name=\"airflow_workflow_manager\",\n",
    "    serviceType=PipelineServiceType.Airflow,\n",
    "    connection=PipelineConnection(\n",
    "        config=airflowConnection.AirflowConnection(\n",
    "            hostPort=\"http://localhost:8080\",\n",
    "            connection=BackendConnection(),\n",
    "        ),\n",
    "    ),\n",
    ")\n",
    "\n",
    "pipeline_service_entity = metadata.create_or_update(data=pipeline_service)\n",
    "\n",
    "create_pipeline = CreatePipelineRequest(\n",
    "    name=\"user_order_inner_join_pipeline\",\n",
    "    description=\"My pipeline description\",\n",
    "    sourceUrl=f\"https://meta-ingestion.casd.local/dags/airflow_metadata_extraction/grid\",\n",
    "    concurrency=5,\n",
    "    pipelineLocation=\"/opt/airflow/dags/airflow_metadata_extraction.py\",\n",
    "    service=pipeline_service_entity.fullyQualifiedName,\n",
    ")\n",
    "\n",
    "pipeline_entity = metadata.create_or_update(data=create_pipeline)"
   ],
   "metadata": {
    "collapsed": false,
    "ExecuteTime": {
     "end_time": "2024-07-05T08:46:13.551629303Z",
     "start_time": "2024-07-05T08:46:13.364151795Z"
    }
   },
   "id": "3b99149d352df1a9"
  },
  {
   "cell_type": "markdown",
   "source": [
    " pipeline_request = CreatePipelineRequest(\n",
    "            name=self.dag.dag_id,\n",
    "            description=self.dag.description,\n",
    "            sourceUrl=f\"{clean_uri(self.host_port)}/tree?dag_id={self.dag.dag_id}\",\n",
    "            concurrency=self.dag.max_active_tasks,\n",
    "            pipelineLocation=self.dag.fileloc,\n",
    "            startDate=self.dag.start_date.isoformat() if self.dag.start_date else None,\n",
    "            tasks=self.get_om_tasks(),\n",
    "            service=pipeline_service.fullyQualifiedName,\n",
    "        )"
   ],
   "metadata": {
    "collapsed": false
   },
   "id": "884087c3cf2831d2"
  },
  {
   "cell_type": "markdown",
   "source": [
    "With the newly created pipeline service, we can now create a new `LineageDetails` which contains three attributes:\n",
    "- A `sqlQuery` attribute: which stores the sql query\n",
    "- A `columnsLineage` attribute, passing the column lineage details\n",
    "- A `pipeline` attribute, specify the pipeline entity which the lineage uses.\n",
    "\n",
    "> The pipeline lineage can only contain two tables too, one source, one destination. For our inner join example, we need to creat two pipeline lineage creation query. "
   ],
   "metadata": {
    "collapsed": false
   },
   "id": "99ae4825f62cdcc2"
  },
  {
   "cell_type": "code",
   "execution_count": 12,
   "outputs": [],
   "source": [
    "pipeline_lineage_details1 = LineageDetails(\n",
    "    sqlQuery=query_detail,\n",
    "    columnsLineage=[column_uid_lineage1,  column_age_lineage],\n",
    "    pipeline=EntityReference(id=pipeline_entity.id, type=\"pipeline\"),\n",
    ")\n",
    "\n",
    "pipeline_lineage_details2 = LineageDetails(\n",
    "    sqlQuery=query_detail,\n",
    "    columnsLineage=[column_uid_lineage2, column_oid_lineage, column_pid_lineage],\n",
    "    pipeline=EntityReference(id=pipeline_entity.id, type=\"pipeline\"),\n",
    ")\n",
    "\n",
    "add_pipeline_lineage_request1 = AddLineageRequest(\n",
    "    edge=EntitiesEdge(\n",
    "        fromEntity=EntityReference(id=table_a_entity.id, type=\"table\"),\n",
    "        toEntity=EntityReference(id=table_d_entity.id, type=\"table\"),\n",
    "        lineageDetails=pipeline_lineage_details1,\n",
    "        description=\"show how a lineage works\",\n",
    "    ),\n",
    ")\n",
    "\n",
    "add_pipeline_lineage_request2 = AddLineageRequest(\n",
    "    edge=EntitiesEdge(\n",
    "        fromEntity=EntityReference(id=table_b_entity.id, type=\"table\"),\n",
    "        toEntity=EntityReference(id=table_d_entity.id, type=\"table\"),\n",
    "        lineageDetails=pipeline_lineage_details2,\n",
    "        description=\"show how a lineage works\",\n",
    "    ),\n",
    ")\n",
    "\n",
    "pipeline_lineage1 = metadata.add_lineage(data=add_pipeline_lineage_request1)\n",
    "pipeline_lineage2 = metadata.add_lineage(data=add_pipeline_lineage_request2)"
   ],
   "metadata": {
    "collapsed": false,
    "ExecuteTime": {
     "end_time": "2024-07-04T08:23:56.946221120Z",
     "start_time": "2024-07-04T08:23:56.772077050Z"
    }
   },
   "id": "de7dfeb1fc74b108"
  },
  {
   "cell_type": "markdown",
   "source": [
    "### 3.4 Automated SQL lineage\n",
    "\n",
    "The python sdk also provides a function which can `analyse a sql query and generate the lineage automatically`. Below code shows an example. Let's create a new table `user_order_cube_autogen` which is the result of the inner join on uid between `test_user` and `test_order`"
   ],
   "metadata": {
    "collapsed": false
   },
   "id": "2611e8902120c687"
  },
  {
   "cell_type": "code",
   "execution_count": 14,
   "outputs": [],
   "source": [
    "# Prepare a new table `test_user_bis`\n",
    "table_e = CreateTableRequest(\n",
    "    name=\"user_order_cube_autogen\",\n",
    "    databaseSchema=schema_entity.fullyQualifiedName,\n",
    "    columns=[Column(name=\"uid\", dataType=DataType.BIGINT,description=\"id of the user\"),\n",
    "             Column(name=\"oid\", dataType=DataType.BIGINT,description=\"id of the order\"),\n",
    "             Column(name=\"product_id\", dataType=DataType.BIGINT,description=\"product id\"),\n",
    "             Column(name=\"age\", dataType=DataType.BIGINT,description=\"age of the user\"),],\n",
    ")\n",
    "\n",
    "table_e_entity = metadata.create_or_update(data=table_e)"
   ],
   "metadata": {
    "collapsed": false,
    "ExecuteTime": {
     "end_time": "2024-07-03T08:59:47.558682146Z",
     "start_time": "2024-07-03T08:59:47.500404999Z"
    }
   },
   "id": "79ca326bd8ee81b3"
  },
  {
   "cell_type": "code",
   "execution_count": 15,
   "outputs": [],
   "source": [
    "lineage_service: DatabaseService = metadata.get_by_name(\n",
    "    entity=DatabaseService, fqn=\"test-db-service\"\n",
    ")\n",
    "\n",
    "query_auto_gen=\"\"\"insert into user_order_cube_autogen(uid, oid, product_id, age) AS\n",
    "              SELECT test_user.id as uid, \n",
    "             test_order.id as oid, \n",
    "             test_order.product_id as product_id,\n",
    "             test_user.age as age\n",
    "             FROM test_user \n",
    "             INNER JOIN test_order \n",
    "             ON test_user.id=test_order.uid;\"\"\"\n",
    "\n",
    "metadata.add_lineage_by_query(\n",
    "    database_service=lineage_service,\n",
    "    timeout=200, # timeout in seconds\n",
    "    sql=query_auto_gen # your sql query\n",
    ")"
   ],
   "metadata": {
    "collapsed": false,
    "ExecuteTime": {
     "end_time": "2024-07-03T08:59:53.998536134Z",
     "start_time": "2024-07-03T08:59:53.009454349Z"
    }
   },
   "id": "ccd96087e1631536"
  },
  {
   "cell_type": "markdown",
   "source": [
    "With the above command, a new table `user_order_cube_autogen` is created, and the table/column level lineage between `test_user`, `test_order` and `user_order_cube_autogen` are fully created as well.\n",
    "\n",
    "> Check your sql query if the column level lineage is not created correctly."
   ],
   "metadata": {
    "collapsed": false
   },
   "id": "cc752979879b947c"
  },
  {
   "cell_type": "markdown",
   "source": [
    "## 4. The ingestion with CLI \n",
    "\n",
    "The python package `openmetadata-ingestion` which we have installed via `pip install openmetadata-ingestion` offers us an CLI as well, we can use it to ingest data into to OM server without using any python code\n",
    "\n",
    "The general form is \n",
    "\n",
    "```shell\n",
    "metadata lineage -c path/to/config_yaml.yaml\n",
    "```\n",
    "\n",
    "Below is an example of the yaml file which can connect to an OM server and create a new lineage between two tables\n",
    "\n",
    "```yaml\n",
    "serviceName: test-service-db-lineage\n",
    "query: insert into tableD(id, id+1) as select id from tableA\n",
    "# filePath: test.sql\n",
    "# parseTimeout: 360 # timeout in seconds\n",
    "workflowConfig:\n",
    "  # loggerLevel: DEBUG  # DEBUG, INFO, WARN or ERROR\n",
    "  openMetadataServerConfig:\n",
    "    hostPort: <OpenMetadata host and port>\n",
    "    authProvider: <OpenMetadata auth provider>\n",
    "```\n",
    "\n",
    "- **serviceName**: Name of the database service which contains the table involved in query.\n",
    "- **query**: You can specify the raw sql query within the yaml file itself.\n",
    "- **filePath**: In case the query is too big then you can also save query in a file and pass the path to the file in this field.\n",
    "- **parseTimeout**: Timeout for the lineage parsing process.\n",
    "- **workflowConfig**: The main property here is the openMetadataServerConfig, where you can define the host and security provider of your OpenMetadata installation."
   ],
   "metadata": {
    "collapsed": false
   },
   "id": "75a27bb773595f75"
  },
  {
   "cell_type": "markdown",
   "source": [
    "## 5. Cleanup"
   ],
   "metadata": {
    "collapsed": false
   },
   "id": "1d09328fb3ba6e20"
  },
  {
   "cell_type": "code",
   "execution_count": 29,
   "outputs": [],
   "source": [
    "service_id = metadata.get_by_name(\n",
    "    entity=DatabaseService, fqn=\"test-db-service\"\n",
    ").id\n",
    "\n",
    "metadata.delete(\n",
    "    entity=DatabaseService,\n",
    "    entity_id=service_id,\n",
    "    recursive=True,\n",
    "    hard_delete=True,\n",
    ")"
   ],
   "metadata": {
    "collapsed": false,
    "ExecuteTime": {
     "end_time": "2024-07-03T15:22:53.210420840Z",
     "start_time": "2024-07-03T15:22:52.512848777Z"
    }
   },
   "id": "412ef44525e34dca"
  },
  {
   "cell_type": "code",
   "execution_count": null,
   "outputs": [],
   "source": [],
   "metadata": {
    "collapsed": false
   },
   "id": "d8db1c2ba7c1670d"
  }
 ],
 "metadata": {
  "kernelspec": {
   "display_name": "Python 3",
   "language": "python",
   "name": "python3"
  },
  "language_info": {
   "codemirror_mode": {
    "name": "ipython",
    "version": 2
   },
   "file_extension": ".py",
   "mimetype": "text/x-python",
   "name": "python",
   "nbconvert_exporter": "python",
   "pygments_lexer": "ipython2",
   "version": "2.7.6"
  }
 },
 "nbformat": 4,
 "nbformat_minor": 5
}
