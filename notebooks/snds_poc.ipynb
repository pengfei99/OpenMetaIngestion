{
 "cells": [
  {
   "cell_type": "markdown",
   "source": [
    "# snds example\n"
   ],
   "metadata": {
    "collapsed": false
   },
   "id": "c875a02c900e8b4f"
  },
  {
   "cell_type": "code",
   "execution_count": null,
   "outputs": [],
   "source": [],
   "metadata": {
    "collapsed": false
   },
   "id": "a7b77db4ba25ca0c"
  },
  {
   "cell_type": "code",
   "execution_count": 2,
   "outputs": [],
   "source": [
    "from metadata.ingestion.ometa.ometa_api import OpenMetadata\n",
    "from metadata.generated.schema.entity.services.connections.metadata.openMetadataConnection import (OpenMetadataConnection, AuthProvider)\n",
    "from metadata.generated.schema.security.client.openMetadataJWTClientConfig import OpenMetadataJWTClientConfig"
   ],
   "metadata": {
    "collapsed": false,
    "ExecuteTime": {
     "end_time": "2024-07-03T15:33:50.343942563Z",
     "start_time": "2024-07-03T15:33:47.418603417Z"
    }
   },
   "id": "c97643898661a836"
  },
  {
   "cell_type": "code",
   "execution_count": 3,
   "outputs": [],
   "source": [
    "from creds import om_admin_token\n",
    "server_config = OpenMetadataConnection(\n",
    "    hostPort=\"http://datacatalog.casd.local/api\",\n",
    "    authProvider=AuthProvider.openmetadata,\n",
    "    securityConfig=OpenMetadataJWTClientConfig(\n",
    "        jwtToken=om_admin_token,\n",
    "    ),\n",
    ")\n",
    "metadata = OpenMetadata(server_config)"
   ],
   "metadata": {
    "collapsed": false,
    "ExecuteTime": {
     "end_time": "2024-07-03T15:33:52.666504101Z",
     "start_time": "2024-07-03T15:33:52.620697088Z"
    }
   },
   "id": "927105f934c1e4a6"
  },
  {
   "cell_type": "code",
   "execution_count": 4,
   "outputs": [
    {
     "data": {
      "text/plain": "True"
     },
     "execution_count": 4,
     "metadata": {},
     "output_type": "execute_result"
    }
   ],
   "source": [
    "# if it returns true, it means the connection is success \n",
    "metadata.health_check()"
   ],
   "metadata": {
    "collapsed": false,
    "ExecuteTime": {
     "end_time": "2024-07-03T15:33:54.135899821Z",
     "start_time": "2024-07-03T15:33:54.029628796Z"
    }
   },
   "id": "be953d3ddc604a8c"
  },
  {
   "cell_type": "code",
   "execution_count": 5,
   "outputs": [],
   "source": [
    "from metadata.generated.schema.api.services.createDatabaseService import CreateDatabaseServiceRequest\n",
    "from metadata.generated.schema.entity.services.connections.database.common.basicAuth import BasicAuth\n",
    "from metadata.generated.schema.entity.services.connections.database.mysqlConnection import MysqlConnection\n",
    "from metadata.generated.schema.entity.services.databaseService import (DatabaseConnection, DatabaseService, DatabaseServiceType,)\n",
    "\n",
    "db_service = CreateDatabaseServiceRequest(\n",
    "    name=\"CASD-G4H-service\",\n",
    "    serviceType=DatabaseServiceType.Mysql,\n",
    "    connection=DatabaseConnection(\n",
    "        config=MysqlConnection(\n",
    "            username=\"db_login\",\n",
    "            authType=BasicAuth(password=\"changeMe\"),\n",
    "            hostPort=\"http://db_url:1234\",\n",
    "        )\n",
    "    ),\n",
    ")\n",
    "\n",
    "# when we create an entity by using function `create_or_update`, it returns the created instance of the query\n",
    "db_service_entity = metadata.create_or_update(data=db_service)"
   ],
   "metadata": {
    "collapsed": false,
    "ExecuteTime": {
     "end_time": "2024-07-03T15:33:55.714263085Z",
     "start_time": "2024-07-03T15:33:55.674187112Z"
    }
   },
   "id": "71ad109e1e514dda"
  },
  {
   "cell_type": "code",
   "execution_count": 6,
   "outputs": [],
   "source": [
    "from metadata.generated.schema.api.data.createDatabase import CreateDatabaseRequest\n",
    "\n",
    "db_entity_req = CreateDatabaseRequest(\n",
    "    name=\"SNDS\",\n",
    "    service=db_service_entity.fullyQualifiedName,\n",
    ")\n",
    "\n",
    "db_entity = metadata.create_or_update(data=db_entity_req)"
   ],
   "metadata": {
    "collapsed": false,
    "ExecuteTime": {
     "end_time": "2024-07-03T15:34:00.323749423Z",
     "start_time": "2024-07-03T15:34:00.248767611Z"
    }
   },
   "id": "aaff89e65d27c571"
  },
  {
   "cell_type": "code",
   "execution_count": 7,
   "outputs": [],
   "source": [
    "from metadata.generated.schema.api.data.createDatabaseSchema import CreateDatabaseSchemaRequest\n",
    "\n",
    "create_schema_req = CreateDatabaseSchemaRequest(\n",
    "    name=\"DCIR\", \n",
    "    database=db_entity.fullyQualifiedName)\n",
    "\n",
    "# the create request will return the fqn(fully qualified name) of the created schema\n",
    "schema_entity = metadata.create_or_update(data=create_schema_req)"
   ],
   "metadata": {
    "collapsed": false,
    "ExecuteTime": {
     "end_time": "2024-07-03T15:34:02.613420040Z",
     "start_time": "2024-07-03T15:34:02.488801790Z"
    }
   },
   "id": "9d03d016e24761e8"
  },
  {
   "cell_type": "code",
   "execution_count": 8,
   "outputs": [],
   "source": [
    "from metadata.generated.schema.api.data.createTable import CreateTableRequest\n",
    "from metadata.generated.schema.entity.data.table import Column, DataType\n",
    "\n",
    "table_a = CreateTableRequest(\n",
    "    name=\"ER_BIO_F\",\n",
    "    databaseSchema=schema_entity.fullyQualifiedName,\n",
    "    columns=[Column(name=\"BIO_ACT_QSN\", dataType=DataType.NUMBER,description=\"Quantite affinée signée de biologie\"),\n",
    "             Column(name=\"FLX_DIS_DTD\", dataType=DataType.DATE,description=\"Date de mise à disposition des données\"),\n",
    "             Column(name=\"ORG_CLE_NEW\", dataType=DataType.STRING,description=\"Organisme de liquidation des prestations (après fusion)\"),\n",
    "             Column(name=\"ORG_CLE_NUM\", dataType=DataType.STRING,description=\"Ancien organisme avant fusion (jusqu’au jour J de la fusion)\")],\n",
    ")\n",
    "\n",
    "table_a_entity = metadata.create_or_update(data=table_a)"
   ],
   "metadata": {
    "collapsed": false,
    "ExecuteTime": {
     "end_time": "2024-07-03T15:34:06.626085413Z",
     "start_time": "2024-07-03T15:34:06.491571295Z"
    }
   },
   "id": "ece08fce8fe076c4"
  },
  {
   "cell_type": "code",
   "execution_count": 11,
   "outputs": [],
   "source": [
    "import pandas as pd\n",
    "\n",
    "table_name_path=\"../data/snds_tables.csv\"\n",
    "col_name_path=\"../data/snds_vars.csv\"\n",
    "\n",
    "table_df=pd.read_csv(table_name_path)\n",
    "col_df = pd.read_csv(col_name_path)"
   ],
   "metadata": {
    "collapsed": false,
    "ExecuteTime": {
     "end_time": "2024-07-03T15:40:46.591158610Z",
     "start_time": "2024-07-03T15:40:44.276169789Z"
    }
   },
   "id": "96d6eaf2ebcc1d76"
  },
  {
   "cell_type": "code",
   "execution_count": 12,
   "outputs": [
    {
     "data": {
      "text/plain": "                    Produit           Table  \\\n0  CARTOGRAPHIE_PATHOLOGIES  CT_DEP_AAAA_GN   \n1  CARTOGRAPHIE_PATHOLOGIES  CT_IDE_AAAA_GN   \n2  CARTOGRAPHIE_PATHOLOGIES  CT_IND_AAAA_GN   \n3           Causes de décès        KI_CCI_R   \n4           Causes de décès        KI_ECD_R   \n\n                                             Libelle  creation  suppression  \\\n0  Table dépenses de la cartographie des patholog...    2012.0          NaN   \n1  Table individus de la cartographie des patholo...    2012.0          NaN   \n2  Table pathologies de la cartographie des patho...    2012.0          NaN   \n3  Table des circonstances et de la cause initial...    2006.0          NaN   \n4            Table de l’ensemble des causes de décès    2006.0          NaN   \n\n   dates_manquantes  \n0               NaN  \n1               NaN  \n2               NaN  \n3               NaN  \n4               NaN  ",
      "text/html": "<div>\n<style scoped>\n    .dataframe tbody tr th:only-of-type {\n        vertical-align: middle;\n    }\n\n    .dataframe tbody tr th {\n        vertical-align: top;\n    }\n\n    .dataframe thead th {\n        text-align: right;\n    }\n</style>\n<table border=\"1\" class=\"dataframe\">\n  <thead>\n    <tr style=\"text-align: right;\">\n      <th></th>\n      <th>Produit</th>\n      <th>Table</th>\n      <th>Libelle</th>\n      <th>creation</th>\n      <th>suppression</th>\n      <th>dates_manquantes</th>\n    </tr>\n  </thead>\n  <tbody>\n    <tr>\n      <th>0</th>\n      <td>CARTOGRAPHIE_PATHOLOGIES</td>\n      <td>CT_DEP_AAAA_GN</td>\n      <td>Table dépenses de la cartographie des patholog...</td>\n      <td>2012.0</td>\n      <td>NaN</td>\n      <td>NaN</td>\n    </tr>\n    <tr>\n      <th>1</th>\n      <td>CARTOGRAPHIE_PATHOLOGIES</td>\n      <td>CT_IDE_AAAA_GN</td>\n      <td>Table individus de la cartographie des patholo...</td>\n      <td>2012.0</td>\n      <td>NaN</td>\n      <td>NaN</td>\n    </tr>\n    <tr>\n      <th>2</th>\n      <td>CARTOGRAPHIE_PATHOLOGIES</td>\n      <td>CT_IND_AAAA_GN</td>\n      <td>Table pathologies de la cartographie des patho...</td>\n      <td>2012.0</td>\n      <td>NaN</td>\n      <td>NaN</td>\n    </tr>\n    <tr>\n      <th>3</th>\n      <td>Causes de décès</td>\n      <td>KI_CCI_R</td>\n      <td>Table des circonstances et de la cause initial...</td>\n      <td>2006.0</td>\n      <td>NaN</td>\n      <td>NaN</td>\n    </tr>\n    <tr>\n      <th>4</th>\n      <td>Causes de décès</td>\n      <td>KI_ECD_R</td>\n      <td>Table de l’ensemble des causes de décès</td>\n      <td>2006.0</td>\n      <td>NaN</td>\n      <td>NaN</td>\n    </tr>\n  </tbody>\n</table>\n</div>"
     },
     "execution_count": 12,
     "metadata": {},
     "output_type": "execute_result"
    }
   ],
   "source": [
    "table_df.head()"
   ],
   "metadata": {
    "collapsed": false,
    "ExecuteTime": {
     "end_time": "2024-07-03T15:40:47.474659687Z",
     "start_time": "2024-07-03T15:40:47.354553661Z"
    }
   },
   "id": "f2bef5e45da36649"
  },
  {
   "cell_type": "code",
   "execution_count": 13,
   "outputs": [
    {
     "data": {
      "text/plain": "      table          var       format                        description  \\\n0  BE_IDE_R  IDE_ETA_NUM   string (9)   Numéro Finess de l'Etablissement   \n1  BE_IDE_R  IDE_ETA_NU8   string (8)  Numéro Finess de l'Etabt sans clé   \n2  BE_IDE_R  IDE_ETA_NOM  string (38)             Raison Sociale Abrégée   \n3  BE_IDE_R  IDE_IDE_CPL  string (38)        Complément d'identification   \n4  BE_IDE_R  IDE_VOI_NUM   string (4)                Numéro dans la voie   \n\n  nomenclature creation suppression  dates_manquantes  \n0            -      NaN         NaN               NaN  \n1            -      NaN         NaN               NaN  \n2            -      NaN         NaN               NaN  \n3            -      NaN         NaN               NaN  \n4            -      NaN         NaN               NaN  ",
      "text/html": "<div>\n<style scoped>\n    .dataframe tbody tr th:only-of-type {\n        vertical-align: middle;\n    }\n\n    .dataframe tbody tr th {\n        vertical-align: top;\n    }\n\n    .dataframe thead th {\n        text-align: right;\n    }\n</style>\n<table border=\"1\" class=\"dataframe\">\n  <thead>\n    <tr style=\"text-align: right;\">\n      <th></th>\n      <th>table</th>\n      <th>var</th>\n      <th>format</th>\n      <th>description</th>\n      <th>nomenclature</th>\n      <th>creation</th>\n      <th>suppression</th>\n      <th>dates_manquantes</th>\n    </tr>\n  </thead>\n  <tbody>\n    <tr>\n      <th>0</th>\n      <td>BE_IDE_R</td>\n      <td>IDE_ETA_NUM</td>\n      <td>string (9)</td>\n      <td>Numéro Finess de l'Etablissement</td>\n      <td>-</td>\n      <td>NaN</td>\n      <td>NaN</td>\n      <td>NaN</td>\n    </tr>\n    <tr>\n      <th>1</th>\n      <td>BE_IDE_R</td>\n      <td>IDE_ETA_NU8</td>\n      <td>string (8)</td>\n      <td>Numéro Finess de l'Etabt sans clé</td>\n      <td>-</td>\n      <td>NaN</td>\n      <td>NaN</td>\n      <td>NaN</td>\n    </tr>\n    <tr>\n      <th>2</th>\n      <td>BE_IDE_R</td>\n      <td>IDE_ETA_NOM</td>\n      <td>string (38)</td>\n      <td>Raison Sociale Abrégée</td>\n      <td>-</td>\n      <td>NaN</td>\n      <td>NaN</td>\n      <td>NaN</td>\n    </tr>\n    <tr>\n      <th>3</th>\n      <td>BE_IDE_R</td>\n      <td>IDE_IDE_CPL</td>\n      <td>string (38)</td>\n      <td>Complément d'identification</td>\n      <td>-</td>\n      <td>NaN</td>\n      <td>NaN</td>\n      <td>NaN</td>\n    </tr>\n    <tr>\n      <th>4</th>\n      <td>BE_IDE_R</td>\n      <td>IDE_VOI_NUM</td>\n      <td>string (4)</td>\n      <td>Numéro dans la voie</td>\n      <td>-</td>\n      <td>NaN</td>\n      <td>NaN</td>\n      <td>NaN</td>\n    </tr>\n  </tbody>\n</table>\n</div>"
     },
     "execution_count": 13,
     "metadata": {},
     "output_type": "execute_result"
    }
   ],
   "source": [
    "col_df.head()"
   ],
   "metadata": {
    "collapsed": false,
    "ExecuteTime": {
     "end_time": "2024-07-03T15:40:48.983361463Z",
     "start_time": "2024-07-03T15:40:48.855157981Z"
    }
   },
   "id": "5b359f1ea4c25188"
  },
  {
   "cell_type": "code",
   "execution_count": 14,
   "outputs": [],
   "source": [
    "target_tab_name = \"ER_BIO_F\"\n",
    "er_bio_f=table_df[table_df[\"Table\"]==target_tab_name]"
   ],
   "metadata": {
    "collapsed": false,
    "ExecuteTime": {
     "end_time": "2024-07-03T15:40:50.137357600Z",
     "start_time": "2024-07-03T15:40:50.001677567Z"
    }
   },
   "id": "1fbce27d7f0fe02c"
  },
  {
   "cell_type": "code",
   "execution_count": 15,
   "outputs": [
    {
     "data": {
      "text/plain": "  Produit     Table                        Libelle  creation  suppression  \\\n7    DCIR  ER_BIO_F  Prestations affinées BIOLOGIE    2006.0          NaN   \n\n   dates_manquantes  \n7               NaN  ",
      "text/html": "<div>\n<style scoped>\n    .dataframe tbody tr th:only-of-type {\n        vertical-align: middle;\n    }\n\n    .dataframe tbody tr th {\n        vertical-align: top;\n    }\n\n    .dataframe thead th {\n        text-align: right;\n    }\n</style>\n<table border=\"1\" class=\"dataframe\">\n  <thead>\n    <tr style=\"text-align: right;\">\n      <th></th>\n      <th>Produit</th>\n      <th>Table</th>\n      <th>Libelle</th>\n      <th>creation</th>\n      <th>suppression</th>\n      <th>dates_manquantes</th>\n    </tr>\n  </thead>\n  <tbody>\n    <tr>\n      <th>7</th>\n      <td>DCIR</td>\n      <td>ER_BIO_F</td>\n      <td>Prestations affinées BIOLOGIE</td>\n      <td>2006.0</td>\n      <td>NaN</td>\n      <td>NaN</td>\n    </tr>\n  </tbody>\n</table>\n</div>"
     },
     "execution_count": 15,
     "metadata": {},
     "output_type": "execute_result"
    }
   ],
   "source": [
    "er_bio_f.head()"
   ],
   "metadata": {
    "collapsed": false,
    "ExecuteTime": {
     "end_time": "2024-07-03T15:40:51.285856199Z",
     "start_time": "2024-07-03T15:40:51.210356680Z"
    }
   },
   "id": "aa4cffda4d4d46bf"
  },
  {
   "cell_type": "code",
   "execution_count": 16,
   "outputs": [
    {
     "data": {
      "text/plain": "        table          var      format  \\\n850  ER_BIO_F  BIO_ACT_QSN  number (4)   \n851  ER_BIO_F  BIO_ORD_NUM  number (4)   \n852  ER_BIO_F  BIO_PRS_IDE  number (5)   \n853  ER_BIO_F  DCT_ORD_NUM  number (9)   \n854  ER_BIO_F  FLX_DIS_DTD   date (20)   \n855  ER_BIO_F  FLX_EMT_NUM  number (4)   \n856  ER_BIO_F  FLX_EMT_ORD  number (4)   \n857  ER_BIO_F  FLX_EMT_TYP  number (3)   \n858  ER_BIO_F  FLX_TRT_DTD   date (20)   \n859  ER_BIO_F  ORG_CLE_NEW  string (9)   \n860  ER_BIO_F  ORG_CLE_NUM  string (9)   \n861  ER_BIO_F  PRS_ORD_NUM  number (5)   \n862  ER_BIO_F  REM_TYP_AFF  number (1)   \n863  ER_BIO_F  DCT_ORD_NUM  number (9)   \n864  ER_BIO_F  FLX_DIS_DTD   date (20)   \n865  ER_BIO_F  FLX_EMT_NUM  number (4)   \n866  ER_BIO_F  FLX_EMT_ORD  number (4)   \n867  ER_BIO_F  FLX_EMT_TYP  number (3)   \n868  ER_BIO_F  FLX_TRT_DTD   date (20)   \n869  ER_BIO_F  ORG_CLE_NEW  string (9)   \n\n                                           description  \n850                Quantite affinée signée de biologie  \n851        Numéro d'ordre de l'acte affiné de biologie  \n852                       Code acte affiné de biologie  \n853        Numéro d'ordre du décompte dans l'organisme  \n854             Date de mise à disposition des données  \n855                          Numéro d'émetteur du flux  \n856                         Numéro de séquence du flux  \n857                                    Type d'émetteur  \n858  Date d'entrée des données dans le système d'in...  \n859  Organisme de liquidation des prestations (aprè...  \n860  Ancien organisme avant fusion (jusqu’au jour J...  \n861   Numéro d'ordre de la prestation dans le décompte  \n862                       Type de remboursement affiné  \n863        Numéro d'ordre du décompte dans l'organisme  \n864             Date de mise à disposition des données  \n865                          Numéro d'émetteur du flux  \n866                         Numéro de séquence du flux  \n867                                    Type d'émetteur  \n868  Date d'entrée des données dans le système d'in...  \n869  Organisme de liquidation des prestations (aprè...  ",
      "text/html": "<div>\n<style scoped>\n    .dataframe tbody tr th:only-of-type {\n        vertical-align: middle;\n    }\n\n    .dataframe tbody tr th {\n        vertical-align: top;\n    }\n\n    .dataframe thead th {\n        text-align: right;\n    }\n</style>\n<table border=\"1\" class=\"dataframe\">\n  <thead>\n    <tr style=\"text-align: right;\">\n      <th></th>\n      <th>table</th>\n      <th>var</th>\n      <th>format</th>\n      <th>description</th>\n    </tr>\n  </thead>\n  <tbody>\n    <tr>\n      <th>850</th>\n      <td>ER_BIO_F</td>\n      <td>BIO_ACT_QSN</td>\n      <td>number (4)</td>\n      <td>Quantite affinée signée de biologie</td>\n    </tr>\n    <tr>\n      <th>851</th>\n      <td>ER_BIO_F</td>\n      <td>BIO_ORD_NUM</td>\n      <td>number (4)</td>\n      <td>Numéro d'ordre de l'acte affiné de biologie</td>\n    </tr>\n    <tr>\n      <th>852</th>\n      <td>ER_BIO_F</td>\n      <td>BIO_PRS_IDE</td>\n      <td>number (5)</td>\n      <td>Code acte affiné de biologie</td>\n    </tr>\n    <tr>\n      <th>853</th>\n      <td>ER_BIO_F</td>\n      <td>DCT_ORD_NUM</td>\n      <td>number (9)</td>\n      <td>Numéro d'ordre du décompte dans l'organisme</td>\n    </tr>\n    <tr>\n      <th>854</th>\n      <td>ER_BIO_F</td>\n      <td>FLX_DIS_DTD</td>\n      <td>date (20)</td>\n      <td>Date de mise à disposition des données</td>\n    </tr>\n    <tr>\n      <th>855</th>\n      <td>ER_BIO_F</td>\n      <td>FLX_EMT_NUM</td>\n      <td>number (4)</td>\n      <td>Numéro d'émetteur du flux</td>\n    </tr>\n    <tr>\n      <th>856</th>\n      <td>ER_BIO_F</td>\n      <td>FLX_EMT_ORD</td>\n      <td>number (4)</td>\n      <td>Numéro de séquence du flux</td>\n    </tr>\n    <tr>\n      <th>857</th>\n      <td>ER_BIO_F</td>\n      <td>FLX_EMT_TYP</td>\n      <td>number (3)</td>\n      <td>Type d'émetteur</td>\n    </tr>\n    <tr>\n      <th>858</th>\n      <td>ER_BIO_F</td>\n      <td>FLX_TRT_DTD</td>\n      <td>date (20)</td>\n      <td>Date d'entrée des données dans le système d'in...</td>\n    </tr>\n    <tr>\n      <th>859</th>\n      <td>ER_BIO_F</td>\n      <td>ORG_CLE_NEW</td>\n      <td>string (9)</td>\n      <td>Organisme de liquidation des prestations (aprè...</td>\n    </tr>\n    <tr>\n      <th>860</th>\n      <td>ER_BIO_F</td>\n      <td>ORG_CLE_NUM</td>\n      <td>string (9)</td>\n      <td>Ancien organisme avant fusion (jusqu’au jour J...</td>\n    </tr>\n    <tr>\n      <th>861</th>\n      <td>ER_BIO_F</td>\n      <td>PRS_ORD_NUM</td>\n      <td>number (5)</td>\n      <td>Numéro d'ordre de la prestation dans le décompte</td>\n    </tr>\n    <tr>\n      <th>862</th>\n      <td>ER_BIO_F</td>\n      <td>REM_TYP_AFF</td>\n      <td>number (1)</td>\n      <td>Type de remboursement affiné</td>\n    </tr>\n    <tr>\n      <th>863</th>\n      <td>ER_BIO_F</td>\n      <td>DCT_ORD_NUM</td>\n      <td>number (9)</td>\n      <td>Numéro d'ordre du décompte dans l'organisme</td>\n    </tr>\n    <tr>\n      <th>864</th>\n      <td>ER_BIO_F</td>\n      <td>FLX_DIS_DTD</td>\n      <td>date (20)</td>\n      <td>Date de mise à disposition des données</td>\n    </tr>\n    <tr>\n      <th>865</th>\n      <td>ER_BIO_F</td>\n      <td>FLX_EMT_NUM</td>\n      <td>number (4)</td>\n      <td>Numéro d'émetteur du flux</td>\n    </tr>\n    <tr>\n      <th>866</th>\n      <td>ER_BIO_F</td>\n      <td>FLX_EMT_ORD</td>\n      <td>number (4)</td>\n      <td>Numéro de séquence du flux</td>\n    </tr>\n    <tr>\n      <th>867</th>\n      <td>ER_BIO_F</td>\n      <td>FLX_EMT_TYP</td>\n      <td>number (3)</td>\n      <td>Type d'émetteur</td>\n    </tr>\n    <tr>\n      <th>868</th>\n      <td>ER_BIO_F</td>\n      <td>FLX_TRT_DTD</td>\n      <td>date (20)</td>\n      <td>Date d'entrée des données dans le système d'in...</td>\n    </tr>\n    <tr>\n      <th>869</th>\n      <td>ER_BIO_F</td>\n      <td>ORG_CLE_NEW</td>\n      <td>string (9)</td>\n      <td>Organisme de liquidation des prestations (aprè...</td>\n    </tr>\n  </tbody>\n</table>\n</div>"
     },
     "execution_count": 16,
     "metadata": {},
     "output_type": "execute_result"
    }
   ],
   "source": [
    "er_bio_f_cols = col_df[col_df[\"table\"]==target_tab_name][['table','var','format','description']]\n",
    "er_bio_f_cols.head(20)"
   ],
   "metadata": {
    "collapsed": false,
    "ExecuteTime": {
     "end_time": "2024-07-03T15:40:52.318394701Z",
     "start_time": "2024-07-03T15:40:52.150598447Z"
    }
   },
   "id": "c33489983a3ea0a"
  },
  {
   "cell_type": "code",
   "execution_count": 18,
   "outputs": [
    {
     "name": "stdout",
     "output_type": "stream",
     "text": [
      "ER_BIO_F\n",
      "BIO_ACT_QSN\n",
      "number (4)\n",
      "Quantite affinée signée de biologie\n",
      "ER_BIO_F\n",
      "BIO_ORD_NUM\n",
      "number (4)\n",
      "Numéro d'ordre de l'acte affiné de biologie\n",
      "ER_BIO_F\n",
      "BIO_PRS_IDE\n",
      "number (5)\n",
      "Code acte affiné de biologie\n",
      "ER_BIO_F\n",
      "DCT_ORD_NUM\n",
      "number (9)\n",
      "Numéro d'ordre du décompte dans l'organisme\n",
      "ER_BIO_F\n",
      "FLX_DIS_DTD\n",
      "date (20)\n",
      "Date de mise à disposition des données\n",
      "ER_BIO_F\n",
      "FLX_EMT_NUM\n",
      "number (4)\n",
      "Numéro d'émetteur du flux\n",
      "ER_BIO_F\n",
      "FLX_EMT_ORD\n",
      "number (4)\n",
      "Numéro de séquence du flux\n",
      "ER_BIO_F\n",
      "FLX_EMT_TYP\n",
      "number (3)\n",
      "Type d'émetteur\n",
      "ER_BIO_F\n",
      "FLX_TRT_DTD\n",
      "date (20)\n",
      "Date d'entrée des données dans le système d'information\n",
      "ER_BIO_F\n",
      "ORG_CLE_NEW\n",
      "string (9)\n",
      "Organisme de liquidation des prestations (après fusion)\n",
      "ER_BIO_F\n",
      "ORG_CLE_NUM\n",
      "string (9)\n",
      "Ancien organisme avant fusion (jusqu’au jour J de la fusion)\n",
      "ER_BIO_F\n",
      "PRS_ORD_NUM\n",
      "number (5)\n",
      "Numéro d'ordre de la prestation dans le décompte\n",
      "ER_BIO_F\n",
      "REM_TYP_AFF\n",
      "number (1)\n",
      "Type de remboursement affiné\n",
      "ER_BIO_F\n",
      "DCT_ORD_NUM\n",
      "number (9)\n",
      "Numéro d'ordre du décompte dans l'organisme\n",
      "ER_BIO_F\n",
      "FLX_DIS_DTD\n",
      "date (20)\n",
      "Date de mise à disposition des données\n",
      "ER_BIO_F\n",
      "FLX_EMT_NUM\n",
      "number (4)\n",
      "Numéro d'émetteur du flux\n",
      "ER_BIO_F\n",
      "FLX_EMT_ORD\n",
      "number (4)\n",
      "Numéro de séquence du flux\n",
      "ER_BIO_F\n",
      "FLX_EMT_TYP\n",
      "number (3)\n",
      "Type d'émetteur\n",
      "ER_BIO_F\n",
      "FLX_TRT_DTD\n",
      "date (20)\n",
      "Date d'entrée des données dans le système d'information\n",
      "ER_BIO_F\n",
      "ORG_CLE_NEW\n",
      "string (9)\n",
      "Organisme de liquidation des prestations (après fusion)\n",
      "ER_BIO_F\n",
      "ORG_CLE_NUM\n",
      "string (9)\n",
      "Ancien organisme avant fusion (jusqu’au jour J de la fusion)\n",
      "ER_BIO_F\n",
      "PRS_ORD_NUM\n",
      "number (5)\n",
      "Numéro d'ordre de la prestation dans le décompte\n",
      "ER_BIO_F\n",
      "REM_TYP_AFF\n",
      "number (1)\n",
      "Type de remboursement affiné\n"
     ]
    }
   ],
   "source": [
    "def getColDetailsByTabName(table_name:str, col_df):\n",
    "    er_bio_f_cols = col_df[col_df[\"table\"]==target_tab_name][['table','var','format','description']]\n",
    "    er_bio_f_list=er_bio_f_cols.to_dict(orient=\"records\")\n",
    "    return er_bio_f_list\n",
    "    \n",
    "\n",
    "tab_col_list=getColDetailsByTabName(target_tab_name, col_df)\n",
    "\n",
    "for item in tab_col_list:\n",
    "    print(item['table'])\n",
    "    print(item['var'])\n",
    "    print(item['format'])\n",
    "    print(item['description'])"
   ],
   "metadata": {
    "collapsed": false,
    "ExecuteTime": {
     "end_time": "2024-07-03T15:41:10.548383203Z",
     "start_time": "2024-07-03T15:41:10.514042066Z"
    }
   },
   "id": "8e9d1f398b158a57"
  },
  {
   "cell_type": "code",
   "execution_count": null,
   "outputs": [],
   "source": [
    "from metadata.generated.schema.api.data.createTable import CreateTableRequest\n",
    "from metadata.generated.schema.entity.data.table import Column, DataType\n",
    "\n",
    "\n",
    "def create_table(table_name:str):\n",
    "    table_a = CreateTableRequest(\n",
    "    name=table_name,\n",
    "    databaseSchema=schema_entity.fullyQualifiedName,\n",
    "    columns=[Column(name=\"BIO_ACT_QSN\", dataType=DataType.NUMBER,description=\"Quantite affinée signée de biologie\"),\n",
    "             Column(name=\"FLX_DIS_DTD\", dataType=DataType.DATE,description=\"Date de mise à disposition des données\"),\n",
    "             Column(name=\"ORG_CLE_NEW\", dataType=DataType.STRING,description=\"Organisme de liquidation des prestations (après fusion)\"),\n",
    "             Column(name=\"ORG_CLE_NUM\", dataType=DataType.STRING,description=\"Ancien organisme avant fusion (jusqu’au jour J de la fusion)\")],\n",
    ")\n",
    "\n",
    "    table_a_entity = metadata.create_or_update(data=table_a)\n",
    "    table_create =  CreateTableRequest(\n",
    "    name=table_name,\n",
    "    databaseSchema=schema_entity.fullyQualifiedName,\n",
    "    columns=[Column(name=\"uid\", dataType=DataType.NUMBER,description=\"id of the user\"),\n",
    "             Column(name=\"oid\", dataType=DataType.BIGINT,description=\"id of the order\"),\n",
    "             Column(name=\"product_id\", dataType=DataType.BIGINT,description=\"product id\"),\n",
    "             Column(name=\"age\", dataType=DataType.BIGINT,description=\"age of the user\"),],\n",
    ")"
   ],
   "metadata": {
    "collapsed": false
   },
   "id": "a5231523c1e70cfb"
  }
 ],
 "metadata": {
  "kernelspec": {
   "display_name": "Python 3",
   "language": "python",
   "name": "python3"
  },
  "language_info": {
   "codemirror_mode": {
    "name": "ipython",
    "version": 2
   },
   "file_extension": ".py",
   "mimetype": "text/x-python",
   "name": "python",
   "nbconvert_exporter": "python",
   "pygments_lexer": "ipython2",
   "version": "2.7.6"
  }
 },
 "nbformat": 4,
 "nbformat_minor": 5
}
