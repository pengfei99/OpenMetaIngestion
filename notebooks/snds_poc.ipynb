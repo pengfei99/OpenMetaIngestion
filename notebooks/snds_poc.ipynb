{
 "cells": [
  {
   "cell_type": "markdown",
   "source": [
    "# snds example\n"
   ],
   "metadata": {
    "collapsed": false
   },
   "id": "c875a02c900e8b4f"
  },
  {
   "cell_type": "code",
   "execution_count": null,
   "outputs": [],
   "source": [],
   "metadata": {
    "collapsed": false
   },
   "id": "a7b77db4ba25ca0c"
  },
  {
   "cell_type": "code",
   "execution_count": 1,
   "outputs": [],
   "source": [
    "from metadata.ingestion.ometa.ometa_api import OpenMetadata\n",
    "from metadata.generated.schema.entity.services.connections.metadata.openMetadataConnection import (OpenMetadataConnection, AuthProvider)\n",
    "from metadata.generated.schema.security.client.openMetadataJWTClientConfig import OpenMetadataJWTClientConfig"
   ],
   "metadata": {
    "collapsed": false,
    "ExecuteTime": {
     "end_time": "2024-07-04T12:17:13.391110646Z",
     "start_time": "2024-07-04T12:17:11.544795553Z"
    }
   },
   "id": "c97643898661a836"
  },
  {
   "cell_type": "code",
   "execution_count": 2,
   "outputs": [],
   "source": [
    "from creds import om_admin_token\n",
    "server_config = OpenMetadataConnection(\n",
    "    hostPort=\"http://datacatalog.casd.local/api\",\n",
    "    authProvider=AuthProvider.openmetadata,\n",
    "    securityConfig=OpenMetadataJWTClientConfig(\n",
    "        jwtToken=om_admin_token,\n",
    "    ),\n",
    ")\n",
    "metadata = OpenMetadata(server_config)"
   ],
   "metadata": {
    "collapsed": false,
    "ExecuteTime": {
     "end_time": "2024-07-04T12:17:14.782853016Z",
     "start_time": "2024-07-04T12:17:14.742277328Z"
    }
   },
   "id": "927105f934c1e4a6"
  },
  {
   "cell_type": "code",
   "execution_count": 3,
   "outputs": [
    {
     "data": {
      "text/plain": "True"
     },
     "execution_count": 3,
     "metadata": {},
     "output_type": "execute_result"
    }
   ],
   "source": [
    "# if it returns true, it means the connection is success \n",
    "metadata.health_check()"
   ],
   "metadata": {
    "collapsed": false,
    "ExecuteTime": {
     "end_time": "2024-07-04T12:17:15.665978679Z",
     "start_time": "2024-07-04T12:17:15.641891808Z"
    }
   },
   "id": "be953d3ddc604a8c"
  },
  {
   "cell_type": "code",
   "execution_count": 4,
   "outputs": [],
   "source": [
    "from metadata.generated.schema.api.services.createDatabaseService import CreateDatabaseServiceRequest\n",
    "from metadata.generated.schema.entity.services.connections.database.common.basicAuth import BasicAuth\n",
    "from metadata.generated.schema.entity.services.connections.database.mysqlConnection import MysqlConnection\n",
    "from metadata.generated.schema.entity.services.databaseService import (DatabaseConnection, DatabaseService, DatabaseServiceType,)\n",
    "\n",
    "db_service = CreateDatabaseServiceRequest(\n",
    "    name=\"CASD-G4H-service\",\n",
    "    serviceType=DatabaseServiceType.Mysql,\n",
    "    connection=DatabaseConnection(\n",
    "        config=MysqlConnection(\n",
    "            username=\"db_login\",\n",
    "            authType=BasicAuth(password=\"changeMe\"),\n",
    "            hostPort=\"http://db_url:1234\",\n",
    "        )\n",
    "    ),\n",
    ")\n",
    "\n",
    "# when we create an entity by using function `create_or_update`, it returns the created instance of the query\n",
    "db_service_entity = metadata.create_or_update(data=db_service)"
   ],
   "metadata": {
    "collapsed": false,
    "ExecuteTime": {
     "end_time": "2024-07-04T12:17:18.945351235Z",
     "start_time": "2024-07-04T12:17:18.872415617Z"
    }
   },
   "id": "71ad109e1e514dda"
  },
  {
   "cell_type": "code",
   "execution_count": 5,
   "outputs": [],
   "source": [
    "from metadata.generated.schema.api.data.createDatabase import CreateDatabaseRequest\n",
    "\n",
    "db_entity_req = CreateDatabaseRequest(\n",
    "    name=\"SNDS\",\n",
    "    service=db_service_entity.fullyQualifiedName,\n",
    ")\n",
    "\n",
    "db_entity = metadata.create_or_update(data=db_entity_req)"
   ],
   "metadata": {
    "collapsed": false,
    "ExecuteTime": {
     "end_time": "2024-07-04T12:17:24.302801527Z",
     "start_time": "2024-07-04T12:17:24.258306812Z"
    }
   },
   "id": "aaff89e65d27c571"
  },
  {
   "cell_type": "code",
   "execution_count": 6,
   "outputs": [],
   "source": [
    "from metadata.generated.schema.api.data.createDatabaseSchema import CreateDatabaseSchemaRequest\n",
    "\n",
    "create_schema_req = CreateDatabaseSchemaRequest(\n",
    "    name=\"DCIR\", \n",
    "    database=db_entity.fullyQualifiedName)\n",
    "\n",
    "# the create request will return the fqn(fully qualified name) of the created schema\n",
    "schema_entity = metadata.create_or_update(data=create_schema_req)"
   ],
   "metadata": {
    "collapsed": false,
    "ExecuteTime": {
     "end_time": "2024-07-04T12:17:31.465429322Z",
     "start_time": "2024-07-04T12:17:31.399498054Z"
    }
   },
   "id": "9d03d016e24761e8"
  },
  {
   "cell_type": "code",
   "execution_count": 19,
   "outputs": [],
   "source": [
    "from metadata.generated.schema.api.data.createTable import CreateTableRequest\n",
    "from metadata.generated.schema.entity.data.table import Column, DataType\n",
    "\n",
    "table_a = CreateTableRequest(\n",
    "    name=\"ER_BIO_F\",\n",
    "    description=\"Prestations affinées BIOLOGIE\",\n",
    "    databaseSchema=schema_entity.fullyQualifiedName,\n",
    "    columns=[Column(name=\"BIO_ACT_QSN\", dataType=DataType.NUMBER,description=\"Quantite affinée signée de biologie\"),\n",
    "             Column(name=\"FLX_DIS_DTD\", dataType=DataType.DATE,description=\"Date de mise à disposition des données\"),\n",
    "             Column(name=\"ORG_CLE_NEW\", dataType=DataType.STRING,description=\"Organisme de liquidation des prestations (après fusion)\"),\n",
    "             Column(name=\"ORG_CLE_NUM\", dataType=DataType.STRING,description=\"Ancien organisme avant fusion (jusqu’au jour J de la fusion)\")],\n",
    ")\n",
    "\n",
    "table_a_entity = metadata.create_or_update(data=table_a)"
   ],
   "metadata": {
    "collapsed": false,
    "ExecuteTime": {
     "end_time": "2024-07-04T07:03:39.254726239Z",
     "start_time": "2024-07-04T07:03:39.112325339Z"
    }
   },
   "id": "ece08fce8fe076c4"
  },
  {
   "cell_type": "code",
   "execution_count": 39,
   "outputs": [],
   "source": [
    "import pandas as pd\n",
    "\n",
    "table_name_path=\"../data/snds_tables.csv\"\n",
    "col_name_path=\"../data/snds_vars.csv\"\n",
    "\n",
    "table_df=pd.read_csv(table_name_path)\n",
    "col_df = pd.read_csv(col_name_path).drop_duplicates(subset=[\"table\",\"var\"])"
   ],
   "metadata": {
    "collapsed": false,
    "ExecuteTime": {
     "end_time": "2024-07-04T12:44:12.901727711Z",
     "start_time": "2024-07-04T12:44:12.848909644Z"
    }
   },
   "id": "96d6eaf2ebcc1d76"
  },
  {
   "cell_type": "code",
   "execution_count": 40,
   "outputs": [
    {
     "data": {
      "text/plain": "                    Produit           Table  \\\n0  CARTOGRAPHIE_PATHOLOGIES  CT_DEP_AAAA_GN   \n1  CARTOGRAPHIE_PATHOLOGIES  CT_IDE_AAAA_GN   \n2  CARTOGRAPHIE_PATHOLOGIES  CT_IND_AAAA_GN   \n3           Causes de décès        KI_CCI_R   \n4           Causes de décès        KI_ECD_R   \n\n                                             Libelle  creation  suppression  \\\n0  Table dépenses de la cartographie des patholog...    2012.0          NaN   \n1  Table individus de la cartographie des patholo...    2012.0          NaN   \n2  Table pathologies de la cartographie des patho...    2012.0          NaN   \n3  Table des circonstances et de la cause initial...    2006.0          NaN   \n4            Table de l’ensemble des causes de décès    2006.0          NaN   \n\n   dates_manquantes  \n0               NaN  \n1               NaN  \n2               NaN  \n3               NaN  \n4               NaN  ",
      "text/html": "<div>\n<style scoped>\n    .dataframe tbody tr th:only-of-type {\n        vertical-align: middle;\n    }\n\n    .dataframe tbody tr th {\n        vertical-align: top;\n    }\n\n    .dataframe thead th {\n        text-align: right;\n    }\n</style>\n<table border=\"1\" class=\"dataframe\">\n  <thead>\n    <tr style=\"text-align: right;\">\n      <th></th>\n      <th>Produit</th>\n      <th>Table</th>\n      <th>Libelle</th>\n      <th>creation</th>\n      <th>suppression</th>\n      <th>dates_manquantes</th>\n    </tr>\n  </thead>\n  <tbody>\n    <tr>\n      <th>0</th>\n      <td>CARTOGRAPHIE_PATHOLOGIES</td>\n      <td>CT_DEP_AAAA_GN</td>\n      <td>Table dépenses de la cartographie des patholog...</td>\n      <td>2012.0</td>\n      <td>NaN</td>\n      <td>NaN</td>\n    </tr>\n    <tr>\n      <th>1</th>\n      <td>CARTOGRAPHIE_PATHOLOGIES</td>\n      <td>CT_IDE_AAAA_GN</td>\n      <td>Table individus de la cartographie des patholo...</td>\n      <td>2012.0</td>\n      <td>NaN</td>\n      <td>NaN</td>\n    </tr>\n    <tr>\n      <th>2</th>\n      <td>CARTOGRAPHIE_PATHOLOGIES</td>\n      <td>CT_IND_AAAA_GN</td>\n      <td>Table pathologies de la cartographie des patho...</td>\n      <td>2012.0</td>\n      <td>NaN</td>\n      <td>NaN</td>\n    </tr>\n    <tr>\n      <th>3</th>\n      <td>Causes de décès</td>\n      <td>KI_CCI_R</td>\n      <td>Table des circonstances et de la cause initial...</td>\n      <td>2006.0</td>\n      <td>NaN</td>\n      <td>NaN</td>\n    </tr>\n    <tr>\n      <th>4</th>\n      <td>Causes de décès</td>\n      <td>KI_ECD_R</td>\n      <td>Table de l’ensemble des causes de décès</td>\n      <td>2006.0</td>\n      <td>NaN</td>\n      <td>NaN</td>\n    </tr>\n  </tbody>\n</table>\n</div>"
     },
     "execution_count": 40,
     "metadata": {},
     "output_type": "execute_result"
    }
   ],
   "source": [
    "table_df.head()"
   ],
   "metadata": {
    "collapsed": false,
    "ExecuteTime": {
     "end_time": "2024-07-04T12:44:14.006706297Z",
     "start_time": "2024-07-04T12:44:13.947182183Z"
    }
   },
   "id": "f2bef5e45da36649"
  },
  {
   "cell_type": "code",
   "execution_count": 41,
   "outputs": [
    {
     "data": {
      "text/plain": "      table          var       format                        description  \\\n0  BE_IDE_R  IDE_ETA_NUM   string (9)   Numéro Finess de l'Etablissement   \n1  BE_IDE_R  IDE_ETA_NU8   string (8)  Numéro Finess de l'Etabt sans clé   \n2  BE_IDE_R  IDE_ETA_NOM  string (38)             Raison Sociale Abrégée   \n3  BE_IDE_R  IDE_IDE_CPL  string (38)        Complément d'identification   \n4  BE_IDE_R  IDE_VOI_NUM   string (4)                Numéro dans la voie   \n\n  nomenclature creation suppression  dates_manquantes  \n0            -      NaN         NaN               NaN  \n1            -      NaN         NaN               NaN  \n2            -      NaN         NaN               NaN  \n3            -      NaN         NaN               NaN  \n4            -      NaN         NaN               NaN  ",
      "text/html": "<div>\n<style scoped>\n    .dataframe tbody tr th:only-of-type {\n        vertical-align: middle;\n    }\n\n    .dataframe tbody tr th {\n        vertical-align: top;\n    }\n\n    .dataframe thead th {\n        text-align: right;\n    }\n</style>\n<table border=\"1\" class=\"dataframe\">\n  <thead>\n    <tr style=\"text-align: right;\">\n      <th></th>\n      <th>table</th>\n      <th>var</th>\n      <th>format</th>\n      <th>description</th>\n      <th>nomenclature</th>\n      <th>creation</th>\n      <th>suppression</th>\n      <th>dates_manquantes</th>\n    </tr>\n  </thead>\n  <tbody>\n    <tr>\n      <th>0</th>\n      <td>BE_IDE_R</td>\n      <td>IDE_ETA_NUM</td>\n      <td>string (9)</td>\n      <td>Numéro Finess de l'Etablissement</td>\n      <td>-</td>\n      <td>NaN</td>\n      <td>NaN</td>\n      <td>NaN</td>\n    </tr>\n    <tr>\n      <th>1</th>\n      <td>BE_IDE_R</td>\n      <td>IDE_ETA_NU8</td>\n      <td>string (8)</td>\n      <td>Numéro Finess de l'Etabt sans clé</td>\n      <td>-</td>\n      <td>NaN</td>\n      <td>NaN</td>\n      <td>NaN</td>\n    </tr>\n    <tr>\n      <th>2</th>\n      <td>BE_IDE_R</td>\n      <td>IDE_ETA_NOM</td>\n      <td>string (38)</td>\n      <td>Raison Sociale Abrégée</td>\n      <td>-</td>\n      <td>NaN</td>\n      <td>NaN</td>\n      <td>NaN</td>\n    </tr>\n    <tr>\n      <th>3</th>\n      <td>BE_IDE_R</td>\n      <td>IDE_IDE_CPL</td>\n      <td>string (38)</td>\n      <td>Complément d'identification</td>\n      <td>-</td>\n      <td>NaN</td>\n      <td>NaN</td>\n      <td>NaN</td>\n    </tr>\n    <tr>\n      <th>4</th>\n      <td>BE_IDE_R</td>\n      <td>IDE_VOI_NUM</td>\n      <td>string (4)</td>\n      <td>Numéro dans la voie</td>\n      <td>-</td>\n      <td>NaN</td>\n      <td>NaN</td>\n      <td>NaN</td>\n    </tr>\n  </tbody>\n</table>\n</div>"
     },
     "execution_count": 41,
     "metadata": {},
     "output_type": "execute_result"
    }
   ],
   "source": [
    "col_df.head()"
   ],
   "metadata": {
    "collapsed": false,
    "ExecuteTime": {
     "end_time": "2024-07-04T12:44:15.209941167Z",
     "start_time": "2024-07-04T12:44:15.160698824Z"
    }
   },
   "id": "5b359f1ea4c25188"
  },
  {
   "cell_type": "code",
   "execution_count": 14,
   "outputs": [],
   "source": [
    "target_tab_name = \"ER_BIO_F\"\n",
    "er_bio_f=table_df[table_df[\"Table\"]==target_tab_name]"
   ],
   "metadata": {
    "collapsed": false,
    "ExecuteTime": {
     "end_time": "2024-07-03T15:40:50.137357600Z",
     "start_time": "2024-07-03T15:40:50.001677567Z"
    }
   },
   "id": "1fbce27d7f0fe02c"
  },
  {
   "cell_type": "code",
   "execution_count": 15,
   "outputs": [
    {
     "data": {
      "text/plain": "  Produit     Table                        Libelle  creation  suppression  \\\n7    DCIR  ER_BIO_F  Prestations affinées BIOLOGIE    2006.0          NaN   \n\n   dates_manquantes  \n7               NaN  ",
      "text/html": "<div>\n<style scoped>\n    .dataframe tbody tr th:only-of-type {\n        vertical-align: middle;\n    }\n\n    .dataframe tbody tr th {\n        vertical-align: top;\n    }\n\n    .dataframe thead th {\n        text-align: right;\n    }\n</style>\n<table border=\"1\" class=\"dataframe\">\n  <thead>\n    <tr style=\"text-align: right;\">\n      <th></th>\n      <th>Produit</th>\n      <th>Table</th>\n      <th>Libelle</th>\n      <th>creation</th>\n      <th>suppression</th>\n      <th>dates_manquantes</th>\n    </tr>\n  </thead>\n  <tbody>\n    <tr>\n      <th>7</th>\n      <td>DCIR</td>\n      <td>ER_BIO_F</td>\n      <td>Prestations affinées BIOLOGIE</td>\n      <td>2006.0</td>\n      <td>NaN</td>\n      <td>NaN</td>\n    </tr>\n  </tbody>\n</table>\n</div>"
     },
     "execution_count": 15,
     "metadata": {},
     "output_type": "execute_result"
    }
   ],
   "source": [
    "er_bio_f.head()"
   ],
   "metadata": {
    "collapsed": false,
    "ExecuteTime": {
     "end_time": "2024-07-03T15:40:51.285856199Z",
     "start_time": "2024-07-03T15:40:51.210356680Z"
    }
   },
   "id": "aa4cffda4d4d46bf"
  },
  {
   "cell_type": "code",
   "execution_count": 16,
   "outputs": [
    {
     "data": {
      "text/plain": "        table          var      format  \\\n850  ER_BIO_F  BIO_ACT_QSN  number (4)   \n851  ER_BIO_F  BIO_ORD_NUM  number (4)   \n852  ER_BIO_F  BIO_PRS_IDE  number (5)   \n853  ER_BIO_F  DCT_ORD_NUM  number (9)   \n854  ER_BIO_F  FLX_DIS_DTD   date (20)   \n855  ER_BIO_F  FLX_EMT_NUM  number (4)   \n856  ER_BIO_F  FLX_EMT_ORD  number (4)   \n857  ER_BIO_F  FLX_EMT_TYP  number (3)   \n858  ER_BIO_F  FLX_TRT_DTD   date (20)   \n859  ER_BIO_F  ORG_CLE_NEW  string (9)   \n860  ER_BIO_F  ORG_CLE_NUM  string (9)   \n861  ER_BIO_F  PRS_ORD_NUM  number (5)   \n862  ER_BIO_F  REM_TYP_AFF  number (1)   \n863  ER_BIO_F  DCT_ORD_NUM  number (9)   \n864  ER_BIO_F  FLX_DIS_DTD   date (20)   \n865  ER_BIO_F  FLX_EMT_NUM  number (4)   \n866  ER_BIO_F  FLX_EMT_ORD  number (4)   \n867  ER_BIO_F  FLX_EMT_TYP  number (3)   \n868  ER_BIO_F  FLX_TRT_DTD   date (20)   \n869  ER_BIO_F  ORG_CLE_NEW  string (9)   \n\n                                           description  \n850                Quantite affinée signée de biologie  \n851        Numéro d'ordre de l'acte affiné de biologie  \n852                       Code acte affiné de biologie  \n853        Numéro d'ordre du décompte dans l'organisme  \n854             Date de mise à disposition des données  \n855                          Numéro d'émetteur du flux  \n856                         Numéro de séquence du flux  \n857                                    Type d'émetteur  \n858  Date d'entrée des données dans le système d'in...  \n859  Organisme de liquidation des prestations (aprè...  \n860  Ancien organisme avant fusion (jusqu’au jour J...  \n861   Numéro d'ordre de la prestation dans le décompte  \n862                       Type de remboursement affiné  \n863        Numéro d'ordre du décompte dans l'organisme  \n864             Date de mise à disposition des données  \n865                          Numéro d'émetteur du flux  \n866                         Numéro de séquence du flux  \n867                                    Type d'émetteur  \n868  Date d'entrée des données dans le système d'in...  \n869  Organisme de liquidation des prestations (aprè...  ",
      "text/html": "<div>\n<style scoped>\n    .dataframe tbody tr th:only-of-type {\n        vertical-align: middle;\n    }\n\n    .dataframe tbody tr th {\n        vertical-align: top;\n    }\n\n    .dataframe thead th {\n        text-align: right;\n    }\n</style>\n<table border=\"1\" class=\"dataframe\">\n  <thead>\n    <tr style=\"text-align: right;\">\n      <th></th>\n      <th>table</th>\n      <th>var</th>\n      <th>format</th>\n      <th>description</th>\n    </tr>\n  </thead>\n  <tbody>\n    <tr>\n      <th>850</th>\n      <td>ER_BIO_F</td>\n      <td>BIO_ACT_QSN</td>\n      <td>number (4)</td>\n      <td>Quantite affinée signée de biologie</td>\n    </tr>\n    <tr>\n      <th>851</th>\n      <td>ER_BIO_F</td>\n      <td>BIO_ORD_NUM</td>\n      <td>number (4)</td>\n      <td>Numéro d'ordre de l'acte affiné de biologie</td>\n    </tr>\n    <tr>\n      <th>852</th>\n      <td>ER_BIO_F</td>\n      <td>BIO_PRS_IDE</td>\n      <td>number (5)</td>\n      <td>Code acte affiné de biologie</td>\n    </tr>\n    <tr>\n      <th>853</th>\n      <td>ER_BIO_F</td>\n      <td>DCT_ORD_NUM</td>\n      <td>number (9)</td>\n      <td>Numéro d'ordre du décompte dans l'organisme</td>\n    </tr>\n    <tr>\n      <th>854</th>\n      <td>ER_BIO_F</td>\n      <td>FLX_DIS_DTD</td>\n      <td>date (20)</td>\n      <td>Date de mise à disposition des données</td>\n    </tr>\n    <tr>\n      <th>855</th>\n      <td>ER_BIO_F</td>\n      <td>FLX_EMT_NUM</td>\n      <td>number (4)</td>\n      <td>Numéro d'émetteur du flux</td>\n    </tr>\n    <tr>\n      <th>856</th>\n      <td>ER_BIO_F</td>\n      <td>FLX_EMT_ORD</td>\n      <td>number (4)</td>\n      <td>Numéro de séquence du flux</td>\n    </tr>\n    <tr>\n      <th>857</th>\n      <td>ER_BIO_F</td>\n      <td>FLX_EMT_TYP</td>\n      <td>number (3)</td>\n      <td>Type d'émetteur</td>\n    </tr>\n    <tr>\n      <th>858</th>\n      <td>ER_BIO_F</td>\n      <td>FLX_TRT_DTD</td>\n      <td>date (20)</td>\n      <td>Date d'entrée des données dans le système d'in...</td>\n    </tr>\n    <tr>\n      <th>859</th>\n      <td>ER_BIO_F</td>\n      <td>ORG_CLE_NEW</td>\n      <td>string (9)</td>\n      <td>Organisme de liquidation des prestations (aprè...</td>\n    </tr>\n    <tr>\n      <th>860</th>\n      <td>ER_BIO_F</td>\n      <td>ORG_CLE_NUM</td>\n      <td>string (9)</td>\n      <td>Ancien organisme avant fusion (jusqu’au jour J...</td>\n    </tr>\n    <tr>\n      <th>861</th>\n      <td>ER_BIO_F</td>\n      <td>PRS_ORD_NUM</td>\n      <td>number (5)</td>\n      <td>Numéro d'ordre de la prestation dans le décompte</td>\n    </tr>\n    <tr>\n      <th>862</th>\n      <td>ER_BIO_F</td>\n      <td>REM_TYP_AFF</td>\n      <td>number (1)</td>\n      <td>Type de remboursement affiné</td>\n    </tr>\n    <tr>\n      <th>863</th>\n      <td>ER_BIO_F</td>\n      <td>DCT_ORD_NUM</td>\n      <td>number (9)</td>\n      <td>Numéro d'ordre du décompte dans l'organisme</td>\n    </tr>\n    <tr>\n      <th>864</th>\n      <td>ER_BIO_F</td>\n      <td>FLX_DIS_DTD</td>\n      <td>date (20)</td>\n      <td>Date de mise à disposition des données</td>\n    </tr>\n    <tr>\n      <th>865</th>\n      <td>ER_BIO_F</td>\n      <td>FLX_EMT_NUM</td>\n      <td>number (4)</td>\n      <td>Numéro d'émetteur du flux</td>\n    </tr>\n    <tr>\n      <th>866</th>\n      <td>ER_BIO_F</td>\n      <td>FLX_EMT_ORD</td>\n      <td>number (4)</td>\n      <td>Numéro de séquence du flux</td>\n    </tr>\n    <tr>\n      <th>867</th>\n      <td>ER_BIO_F</td>\n      <td>FLX_EMT_TYP</td>\n      <td>number (3)</td>\n      <td>Type d'émetteur</td>\n    </tr>\n    <tr>\n      <th>868</th>\n      <td>ER_BIO_F</td>\n      <td>FLX_TRT_DTD</td>\n      <td>date (20)</td>\n      <td>Date d'entrée des données dans le système d'in...</td>\n    </tr>\n    <tr>\n      <th>869</th>\n      <td>ER_BIO_F</td>\n      <td>ORG_CLE_NEW</td>\n      <td>string (9)</td>\n      <td>Organisme de liquidation des prestations (aprè...</td>\n    </tr>\n  </tbody>\n</table>\n</div>"
     },
     "execution_count": 16,
     "metadata": {},
     "output_type": "execute_result"
    }
   ],
   "source": [
    "er_bio_f_cols = col_df[col_df[\"table\"]==target_tab_name][['table','var','format','description']]\n",
    "er_bio_f_cols.head(20)"
   ],
   "metadata": {
    "collapsed": false,
    "ExecuteTime": {
     "end_time": "2024-07-03T15:40:52.318394701Z",
     "start_time": "2024-07-03T15:40:52.150598447Z"
    }
   },
   "id": "c33489983a3ea0a"
  },
  {
   "cell_type": "code",
   "execution_count": 11,
   "outputs": [
    {
     "name": "stdout",
     "output_type": "stream",
     "text": [
      "ER_BIO_F\n",
      "BIO_ACT_QSN\n",
      "number (4)\n",
      "Quantite affinée signée de biologie\n",
      "ER_BIO_F\n",
      "BIO_ORD_NUM\n",
      "number (4)\n",
      "Numéro d'ordre de l'acte affiné de biologie\n",
      "ER_BIO_F\n",
      "BIO_PRS_IDE\n",
      "number (5)\n",
      "Code acte affiné de biologie\n",
      "ER_BIO_F\n",
      "DCT_ORD_NUM\n",
      "number (9)\n",
      "Numéro d'ordre du décompte dans l'organisme\n",
      "ER_BIO_F\n",
      "FLX_DIS_DTD\n",
      "date (20)\n",
      "Date de mise à disposition des données\n",
      "ER_BIO_F\n",
      "FLX_EMT_NUM\n",
      "number (4)\n",
      "Numéro d'émetteur du flux\n",
      "ER_BIO_F\n",
      "FLX_EMT_ORD\n",
      "number (4)\n",
      "Numéro de séquence du flux\n",
      "ER_BIO_F\n",
      "FLX_EMT_TYP\n",
      "number (3)\n",
      "Type d'émetteur\n",
      "ER_BIO_F\n",
      "FLX_TRT_DTD\n",
      "date (20)\n",
      "Date d'entrée des données dans le système d'information\n",
      "ER_BIO_F\n",
      "ORG_CLE_NEW\n",
      "string (9)\n",
      "Organisme de liquidation des prestations (après fusion)\n",
      "ER_BIO_F\n",
      "ORG_CLE_NUM\n",
      "string (9)\n",
      "Ancien organisme avant fusion (jusqu’au jour J de la fusion)\n",
      "ER_BIO_F\n",
      "PRS_ORD_NUM\n",
      "number (5)\n",
      "Numéro d'ordre de la prestation dans le décompte\n",
      "ER_BIO_F\n",
      "REM_TYP_AFF\n",
      "number (1)\n",
      "Type de remboursement affiné\n",
      "ER_BIO_F\n",
      "DCT_ORD_NUM\n",
      "number (9)\n",
      "Numéro d'ordre du décompte dans l'organisme\n",
      "ER_BIO_F\n",
      "FLX_DIS_DTD\n",
      "date (20)\n",
      "Date de mise à disposition des données\n",
      "ER_BIO_F\n",
      "FLX_EMT_NUM\n",
      "number (4)\n",
      "Numéro d'émetteur du flux\n",
      "ER_BIO_F\n",
      "FLX_EMT_ORD\n",
      "number (4)\n",
      "Numéro de séquence du flux\n",
      "ER_BIO_F\n",
      "FLX_EMT_TYP\n",
      "number (3)\n",
      "Type d'émetteur\n",
      "ER_BIO_F\n",
      "FLX_TRT_DTD\n",
      "date (20)\n",
      "Date d'entrée des données dans le système d'information\n",
      "ER_BIO_F\n",
      "ORG_CLE_NEW\n",
      "string (9)\n",
      "Organisme de liquidation des prestations (après fusion)\n",
      "ER_BIO_F\n",
      "ORG_CLE_NUM\n",
      "string (9)\n",
      "Ancien organisme avant fusion (jusqu’au jour J de la fusion)\n",
      "ER_BIO_F\n",
      "PRS_ORD_NUM\n",
      "number (5)\n",
      "Numéro d'ordre de la prestation dans le décompte\n",
      "ER_BIO_F\n",
      "REM_TYP_AFF\n",
      "number (1)\n",
      "Type de remboursement affiné\n"
     ]
    }
   ],
   "source": [
    "def getColDetailsByTabName(table_name:str, col_df):\n",
    "    table_col_df = col_df[col_df[\"table\"]==table_name][['table','var','format','description']]\n",
    "    table_col_list=table_col_df.to_dict(orient=\"records\")\n",
    "    return table_col_list\n",
    "    \n",
    "target_tab_name = \"ER_BIO_F\"\n",
    "tab_col_list=getColDetailsByTabName(target_tab_name, col_df)\n",
    "\n",
    "for item in tab_col_list:\n",
    "    print(item['table'])\n",
    "    print(item['var'])\n",
    "    print(item['format'])\n",
    "    print(item['description'])"
   ],
   "metadata": {
    "collapsed": false,
    "ExecuteTime": {
     "end_time": "2024-07-04T12:21:40.198808368Z",
     "start_time": "2024-07-04T12:21:40.138060638Z"
    }
   },
   "id": "8e9d1f398b158a57"
  },
  {
   "cell_type": "code",
   "execution_count": 23,
   "outputs": [],
   "source": [
    "def split_type_size(raw_type:str):\n",
    "    \"\"\"\n",
    "    This function split the type, size string into two string.\n",
    "    for example `date (20)` return date, 20\n",
    "    :param raw_type: \n",
    "    :type raw_type: \n",
    "    :return: \n",
    "    :rtype: \n",
    "    \"\"\"\n",
    "    split_res=raw_type.split(\" \",1)\n",
    "    type_val=split_res[0]\n",
    "    if len(split_res)>1:\n",
    "        type_size=split_res[1][1:-1]\n",
    "    else:\n",
    "        type_size=None       \n",
    "    return type_val, type_size\n"
   ],
   "metadata": {
    "collapsed": false,
    "ExecuteTime": {
     "end_time": "2024-07-04T12:29:26.777864800Z",
     "start_time": "2024-07-04T12:29:26.736623621Z"
    }
   },
   "id": "f064a121361c2062"
  },
  {
   "cell_type": "code",
   "execution_count": 45,
   "outputs": [],
   "source": [
    "from metadata.generated.schema.entity.data.table import Column, DataType\n",
    "# util func\n",
    "authorized_str_type=[\"string\",\"str\",]\n",
    "authorized_int_type=[\"int\",\"integer\"]\n",
    "\n",
    "def get_om_dtype(in_type:str)->DataType:\n",
    "    in_type_val=in_type.lower()\n",
    "    if in_type_val=='number':\n",
    "        return DataType.NUMBER\n",
    "    elif in_type_val in authorized_str_type:\n",
    "        return DataType.STRING\n",
    "    elif in_type_val=='date':\n",
    "        return DataType.DATE\n",
    "    elif in_type_val==\"varchar\":\n",
    "        return DataType.VARCHAR\n",
    "    elif in_type_val in authorized_int_type:\n",
    "        return DataType.INT\n",
    "    elif in_type_val==\"\":\n",
    "        return DataType.STRING\n",
    "    else:\n",
    "        print(f\"unknow type: {in_type}\")\n",
    "        raise NotImplementedError"
   ],
   "metadata": {
    "collapsed": false,
    "ExecuteTime": {
     "end_time": "2024-07-04T12:46:04.494299481Z",
     "start_time": "2024-07-04T12:46:04.445957944Z"
    }
   },
   "id": "f3360fe57fdd7828"
  },
  {
   "cell_type": "code",
   "execution_count": 46,
   "outputs": [
    {
     "name": "stdout",
     "output_type": "stream",
     "text": [
      "tab_name:CT_DEP_AAAA_GN, tab_desc:Table dépenses de la cartographie des pathologies pour l'année AAAA et l'algorithme N\n",
      "tab_name:CT_IDE_AAAA_GN, tab_desc:Table individus de la cartographie des pathologies pour l'année AAAA et l'algorithme N\n",
      "tab_name:CT_IND_AAAA_GN, tab_desc:Table pathologies de la cartographie des pathologies pour l'année AAAA et l'algorithme N\n",
      "tab_name:KI_CCI_R, tab_desc:Table des circonstances et de la cause initiale du décès\n",
      "tab_name:KI_ECD_R, tab_desc:Table de l’ensemble des causes de décès\n",
      "tab_name:ER_ANO_F, tab_desc:Table des anomalies\n",
      "tab_name:ER_ARO_F, tab_desc:Autre remboursement que Régime Obligatoire : (partie complémentaire CMU-C, FNASS, Alsace Moselle…)\n",
      "tab_name:ER_BIO_F, tab_desc:Prestations affinées BIOLOGIE\n",
      "tab_name:ER_CAM_F, tab_desc:Codage CCAM \n",
      "tab_name:ER_CPT_F, tab_desc:Table des données comptables\n",
      "tab_name:ER_DCT_F, tab_desc:DECOMPTES\n",
      "tab_name:ER_DTR_F, tab_desc:Prestations affinées TRANSPORT\n",
      "tab_name:ER_ETE_F, tab_desc:Informations liées à l'exécution dans un ETABLISSEMENT \n",
      "tab_name:ER_INV_F, tab_desc:Pension INVALIDITE\n",
      "tab_name:ER_LOT_F, tab_desc:Table des données de LOT\n",
      "tab_name:ER_PHA_F, tab_desc:Prestations affinées PHARMACIE\n",
      "tab_name:ER_PRS_F, tab_desc:Table principale des PRESTATIONS\n",
      "tab_name:ER_RAT_F, tab_desc:Rente accident du travail, maladie professionnelle \n",
      "tab_name:ER_TIP_F, tab_desc:Prestations affinées DISPOSITIF MEDICAL\n",
      "tab_name:ER_TRS_F, tab_desc:Table des données détaillées de TRANSPORT\n",
      "tab_name:ER_UCD_F, tab_desc:Prestations Affinées UCD, Pharmacie hospitalière codée et rétrocédée et médicament en sus du GHS\n",
      "tab_name:NS_BIO_F, tab_desc:Table simplifiée des données de codage de biologie\n",
      "tab_name:NS_CAM_F, tab_desc:Table simplifiée des données de codage de la Classification Commune des Actes Médicaux\n",
      "tab_name:NS_DTR_F, tab_desc:Table simplifiée des données de codage de transport\n",
      "tab_name:NS_INV_F, tab_desc:Table simplifiée des données de codage des invalidités\n",
      "tab_name:NS_PHA_F, tab_desc:Table simplifiée des données de codage de pharmacie\n",
      "tab_name:NS_PRS_F, tab_desc:Table simplifiée des prestations\n",
      "tab_name:NS_RAT_F, tab_desc:Table simplifiée des données des rentes d'accident du travail\n",
      "tab_name:NS_TIP_F, tab_desc:Table simplifiée des données de codage de la Liste des Produits et Prestations\n",
      "tab_name:NS_TRS_F, tab_desc:Table simplifiée des données détaillées de transport\n",
      "tab_name:NS_UCD_F, tab_desc:Table simplifiée des données de codage des Unités Communes de Dispensation\n",
      "tab_name:EB_ARO_F, tab_desc:Table des données de remboursements complémentaires\n",
      "tab_name:EB_BIO_F, tab_desc:Table des données de codage de biologie\n",
      "tab_name:EB_CAM_F, tab_desc:Table des données de codage de la Classification Commune des Actes Médicaux\n",
      "tab_name:EB_DCT_F, tab_desc:Table des données de décompte\n",
      "tab_name:EB_ETE_F, tab_desc:Table des données des établissements\n",
      "tab_name:EB_HMV_F, tab_desc:table des mouvements des bénéficiaires de l'EGB\n",
      "tab_name:EB_IMB_R, tab_desc:Table des données médicalisées des bénéficiaires de l'EGB\n",
      "tab_name:EB_INB_F, tab_desc:référentiel des bénéficiaires de l'EGB\n",
      "tab_name:EB_INV_F, tab_desc:Table des données de codage des invalidités\n",
      "tab_name:EB_PHA_F, tab_desc:Table des données de codage de pharmacie\n",
      "tab_name:EB_PRS_F, tab_desc:Table des prestations\n",
      "tab_name:EB_RAT_F, tab_desc:Table des données des rentes d'accident du travail\n",
      "tab_name:EB_TIP_F, tab_desc:Table des données de codage de la Liste des Produits et Prestations\n",
      "tab_name:EB_TRS_F, tab_desc:Table des données détaillées de transport\n",
      "tab_name:EB_UCD_F, tab_desc:Table des données de codage des Unités Communes de Dispensation\n",
      "tab_name:MA_REM_FT, tab_desc:nan\n",
      "tab_name:OPEN_BIO, tab_desc:OPEN BIO (base complète sur les dépenses de biologie médicale interrégimes)\n",
      "tab_name:OPEN_DAMIR, tab_desc:OPEN DAMIR (base complète sur les dépenses d'assurance maladie Inter-Régimes)\n",
      "tab_name:OPEN_LPP, tab_desc:OPEN LPP (base complète sur les dépenses de dispositifs médicaux inscrits à la liste des produits et prestations (LPP))\n",
      "tab_name:OPEN_MEDIC, tab_desc:OPEN MEDIC (base complète sur les dépenses de médicaments)\n",
      "tab_name:T_HADaaA, tab_desc:Table des actes\n",
      "tab_name:T_HADaaB, tab_desc:Table des Résumés Anonyme Par Sous-Séquence (RAPSS)\n",
      "tab_name:T_HADaaC, tab_desc:Table des NIR foinisé deux fois et date entrèe/sortie complètes\n",
      "tab_name:T_HADaaD, tab_desc:Table des diagnostics associés\n",
      "tab_name:T_HADaaDMPA, tab_desc:Table des diagnostics liés au MPA (mode de prise en charge associé)\n",
      "tab_name:T_HADaaDMPP, tab_desc:Table des diagnostics liés au MPP (mode de prise en charge principal)\n",
      "tab_name:T_HADaaE, tab_desc:Table des Etablissements\n",
      "tab_name:T_HADaaEHPA, tab_desc:Table des conventions HAD-EHPA\n",
      "tab_name:T_HADaaFA, tab_desc:TableFA : Table des RSFA début de facture des établissements ex-OQN\n",
      "tab_name:T_HADaaFB, tab_desc:Table FB : Table des RSFA facture des établissements ex-OQN\n",
      "tab_name:T_HADaaFC, tab_desc:Table FC : Table des RSFA des honoraires des établissements ex-OQN\n",
      "tab_name:T_HADaaFH, tab_desc:Table FH : Table des RSFA des Médicaments en sus des établissements ex-OQN\n",
      "tab_name:T_HADaaFI, tab_desc:Table FI : Table des RSFA interruption de séjour des établissements ex-OQN\n",
      "tab_name:T_HADaaFL, tab_desc:Table FL : Table des actes de biologie (issus de la NABM) des établissements ex-OQN\n",
      "tab_name:T_HADaaFM, tab_desc:Table FM : Table des RSFA des actes CCAM des établissements ex-OQN\n",
      "tab_name:T_HADaaFP, tab_desc:Table FP : Table des RSFA des LPP/DMI en sus des établissements ex-OQN\n",
      "tab_name:T_HADaaGJ, tab_desc:Table de passage de Finess\n",
      "tab_name:T_HADaaGRE, tab_desc:Table des GHT (groupage établissement)\n",
      "tab_name:T_HADaaGRP, tab_desc:Table des GHT et des GHPC (groupage paprica)\n",
      "tab_name:T_HADaaLEG, tab_desc:Fichier donnant toutes les erreurs détectées par la fonction groupage (LEG)\n",
      "tab_name:T_HADaaMED, tab_desc:Table Molécules onéreuses (fichier COMP)\n",
      "tab_name:T_HADaaMEDATU, tab_desc:Fich comp médicament soumis à autorisation temporaire d'utilisation\n",
      "tab_name:T_HADaaMEDCHL, tab_desc:Fich comp Médicament coûteux hors liste en sus et hors ATU\n",
      "tab_name:T_HADaaMON, tab_desc:Fichier de déclaration agrégée d'activité (FICHSUP) sur les Molécules onéreuses\n",
      "tab_name:T_HADaaS, tab_desc:Synthèses des Résumés Anonyme Par Sous-Séquence\n",
      "tab_name:T_HADaaSTC, tab_desc:Prise en charge par l'AM de chaque séjour, pour les établissements valorisés STC \n",
      "tab_name:T_HADaaSUP_DSC, tab_desc:nan\n",
      "tab_name:T_MCOaaA, tab_desc:Acte CCAM\n",
      "tab_name:T_MCOaaB, tab_desc:Description du Séjour\n",
      "tab_name:T_MCOaaBPHN, tab_desc:B et P hors nomenclature (extension de fichier .bphn)\n",
      "tab_name:T_MCOaaC, tab_desc:NIR patient et Dates de soin\n",
      "tab_name:T_MCOaaCSTC, tab_desc:ACE NIR/date\n",
      "tab_name:T_MCOaaD, tab_desc:Diagnostic associé\n",
      "tab_name:T_MCOaaDIALP, tab_desc:Fich comp dialyse péritonéale en sus\n",
      "tab_name:T_MCOaaDMIP, tab_desc:Fich comp dmi en sus\n",
      "tab_name:T_MCOaaE, tab_desc:Etablissement\n",
      "tab_name:T_MCOaaFA, tab_desc:OQN Entete facture\n",
      "tab_name:T_MCOaaFASTC, tab_desc:ACE Entete facture\n",
      "tab_name:T_MCOaaFB, tab_desc:OQN Prestation\n",
      "tab_name:T_MCOaaFBSTC, tab_desc:ACE Prestation\n",
      "tab_name:T_MCOaaFC, tab_desc:OQN Honoraire\n",
      "tab_name:T_MCOaaFCSTC, tab_desc:ACE Honoraire\n",
      "tab_name:T_MCOaaFH, tab_desc:OQN medicament en sus\n",
      "tab_name:T_MCOaaFHSTC, tab_desc:ACE medicament en sus\n",
      "tab_name:T_MCOaaFI, tab_desc:OQN Interruption séjour\n",
      "tab_name:T_MCOaaFL, tab_desc:OQN biologie NABM\n",
      "tab_name:T_MCOaaFLSTC, tab_desc:ACE biologie NABM\n",
      "tab_name:T_MCOaaFM, tab_desc:OQN actes CCAM\n",
      "tab_name:T_MCOaaFMSTC, tab_desc:ACE actes CCAM\n",
      "tab_name:T_MCOaaFP, tab_desc:OQN DMI en sus\n",
      "tab_name:T_MCOaaFPSTC, tab_desc:ACE DMI en sus\n",
      "tab_name:T_MCOaaGVxx, tab_desc:Table de passage en version de GHM\n",
      "tab_name:T_MCOaaGVxxxx, tab_desc:Table de passage en version de GHM à partir de mars de l'année\n",
      "tab_name:T_MCOaaIVG, tab_desc:Fich comp IVG\n",
      "tab_name:T_MCOaaLEG, tab_desc:Fichier donnant toutes les erreurs détectées par la fonction groupage\n",
      "tab_name:T_MCOaaMED, tab_desc:Fich comp medicament en sus\n",
      "tab_name:T_MCOaaMEDATU, tab_desc:Fich comp médicament soumis à autorisation temporaire d'utilisation\n",
      "tab_name:T_MCOaaMEDTHROMBO, tab_desc:Fich comp Méd. thrombolytiques pour le traitement des AVC ischémiques\n",
      "tab_name:T_MCOaaORP, tab_desc:Fich comp maladie orpheline\n",
      "tab_name:T_MCOaaPIE, tab_desc:Fich comp prestation inter établissement\n",
      "tab_name:T_MCOaaPIP, tab_desc:Fich comp prothèse PIP\n",
      "tab_name:T_MCOaaPORG, tab_desc:Fich comp prélévement d'organe\n",
      "tab_name:T_MCOaaSTC, tab_desc:Prise en charge\n",
      "tab_name:T_MCOaaSUP_BPHNA, tab_desc:Fich sup BP HN nb\n",
      "tab_name:T_MCOaaSUP_BPHNC, tab_desc:Fich sup BP HN etb demandeur\n",
      "tab_name:T_MCOaaSUP_BPHNP, tab_desc:Fich sup BP HN etb producteur\n",
      "tab_name:T_MCOaaSUP_CES, tab_desc:Fich sup ACE Consultations externes Spécifiques\n",
      "tab_name:T_MCOaaSUP_DSC, tab_desc:Tests diagnostiques Covid\n",
      "tab_name:T_MCOaaSUP_FFM, tab_desc:Fich sup ACE Consultations externes Spécifiques\n",
      "tab_name:T_MCOaaSUP_IUM, tab_desc:Fichier d’information des UM\n",
      "tab_name:T_MCOaaSUP_LACT, tab_desc:Fich sup lactarium\n",
      "tab_name:T_MCOaaSUP_PCR, tab_desc:Tests PCR\n",
      "tab_name:T_MCOaaSUP_PPCO, tab_desc:Fich sup Primo prescription de chimiothérapie orale\n",
      "tab_name:T_MCOaaSUP_RIHND, tab_desc:Recueil du RIHN/LC : établissement demandeur (payeur)\n",
      "tab_name:T_MCOaaSUP_RIHNP, tab_desc:Fichier d’information des UM\n",
      "tab_name:T_MCOaaSUP_SMUR, tab_desc:Fich sup SMUR\n",
      "tab_name:T_MCOaaSUP_TIE, tab_desc:Fichier d’information Transports inter-établissements\n",
      "tab_name:T_MCOaaSUP_USMP, tab_desc:Fich sup Médicaments dispensés en USMP (Unité Sanitaire en Milieu Pénitentiaire)\n",
      "tab_name:T_MCOaaSUP_VAC, tab_desc:Table Vaccins\n",
      "tab_name:T_MCOaaTRPT, tab_desc:Fich comp Transports intra et inter établissements\n",
      "tab_name:T_MCOaaUM, tab_desc:Unité médicale\n",
      "tab_name:T_MCOaaUPGV, tab_desc:Types d'autorisations d'unités médicales à portée globale valides\n",
      "tab_name:T_MCOaaVALO, tab_desc:Valorisation des séjours\n",
      "tab_name:T_MCOaaVALOACE, tab_desc:Valorisation des actes et consultations externes\n",
      "tab_name:T_MCOaaZ, tab_desc:Fich comp radiothérapie\n",
      "tab_name:T_SUPaaALD, tab_desc:Alternatives à la dialyse (extension de fichier .ald)\n",
      "tab_name:T_SUPaaATU, tab_desc:Passage aux urgences (extension de fichier .atu)\n",
      "tab_name:T_SUPaaBPHN, tab_desc:B et P hors nomenclature (extension de fichier .bphn)\n",
      "tab_name:T_SUPaaDMI, tab_desc:Dispositifs médicaux implantables (extension de fichier .dmi)\n",
      "tab_name:T_SUPaaFFM, tab_desc:Forfait petit matériel (extension de fichier .ffm)\n",
      "tab_name:T_SUPaaIVG, tab_desc:IVG (extension de fichier .ivg)\n",
      "tab_name:T_SUPaaMON, tab_desc:Molécules onéreuses (extension de fichier .mon)\n",
      "tab_name:T_RIPaaC, tab_desc:chainage\n"
     ]
    },
    {
     "ename": "AttributeError",
     "evalue": "'float' object has no attribute 'split'",
     "output_type": "error",
     "traceback": [
      "\u001B[0;31m---------------------------------------------------------------------------\u001B[0m",
      "\u001B[0;31mAttributeError\u001B[0m                            Traceback (most recent call last)",
      "Cell \u001B[0;32mIn[46], line 16\u001B[0m\n\u001B[1;32m     14\u001B[0m col_name\u001B[38;5;241m=\u001B[39mcol[\u001B[38;5;124m'\u001B[39m\u001B[38;5;124mvar\u001B[39m\u001B[38;5;124m'\u001B[39m]\n\u001B[1;32m     15\u001B[0m col_format\u001B[38;5;241m=\u001B[39mcol[\u001B[38;5;124m'\u001B[39m\u001B[38;5;124mformat\u001B[39m\u001B[38;5;124m'\u001B[39m]\n\u001B[0;32m---> 16\u001B[0m type_val, type_size\u001B[38;5;241m=\u001B[39m \u001B[43msplit_type_size\u001B[49m\u001B[43m(\u001B[49m\u001B[43mcol_format\u001B[49m\u001B[43m)\u001B[49m\n\u001B[1;32m     17\u001B[0m data_type\u001B[38;5;241m=\u001B[39mget_om_dtype(type_val)\n\u001B[1;32m     18\u001B[0m col_desc\u001B[38;5;241m=\u001B[39mcol[\u001B[38;5;124m'\u001B[39m\u001B[38;5;124mdescription\u001B[39m\u001B[38;5;124m'\u001B[39m]\n",
      "Cell \u001B[0;32mIn[23], line 10\u001B[0m, in \u001B[0;36msplit_type_size\u001B[0;34m(raw_type)\u001B[0m\n\u001B[1;32m      1\u001B[0m \u001B[38;5;28;01mdef\u001B[39;00m \u001B[38;5;21msplit_type_size\u001B[39m(raw_type:\u001B[38;5;28mstr\u001B[39m):\n\u001B[1;32m      2\u001B[0m \u001B[38;5;250m    \u001B[39m\u001B[38;5;124;03m\"\"\"\u001B[39;00m\n\u001B[1;32m      3\u001B[0m \u001B[38;5;124;03m    This function split the type, size string into two string.\u001B[39;00m\n\u001B[1;32m      4\u001B[0m \u001B[38;5;124;03m    for example `date (20)` return date, 20\u001B[39;00m\n\u001B[0;32m   (...)\u001B[0m\n\u001B[1;32m      8\u001B[0m \u001B[38;5;124;03m    :rtype: \u001B[39;00m\n\u001B[1;32m      9\u001B[0m \u001B[38;5;124;03m    \"\"\"\u001B[39;00m\n\u001B[0;32m---> 10\u001B[0m     split_res\u001B[38;5;241m=\u001B[39m\u001B[43mraw_type\u001B[49m\u001B[38;5;241;43m.\u001B[39;49m\u001B[43msplit\u001B[49m(\u001B[38;5;124m\"\u001B[39m\u001B[38;5;124m \u001B[39m\u001B[38;5;124m\"\u001B[39m,\u001B[38;5;241m1\u001B[39m)\n\u001B[1;32m     11\u001B[0m     type_val\u001B[38;5;241m=\u001B[39msplit_res[\u001B[38;5;241m0\u001B[39m]\n\u001B[1;32m     12\u001B[0m     \u001B[38;5;28;01mif\u001B[39;00m \u001B[38;5;28mlen\u001B[39m(split_res)\u001B[38;5;241m>\u001B[39m\u001B[38;5;241m1\u001B[39m:\n",
      "\u001B[0;31mAttributeError\u001B[0m: 'float' object has no attribute 'split'"
     ]
    }
   ],
   "source": [
    "from metadata.generated.schema.api.data.createTable import CreateTableRequest\n",
    "# step1: loop the table list to get table name and description\n",
    "table_list=table_df[['Table','Libelle']].to_dict(orient=\"records\")\n",
    "\n",
    "for tab in table_list:\n",
    "    tab_name=tab['Table']\n",
    "    tab_desc=tab['Libelle']\n",
    "    print(f\"tab_name:{tab_name}, tab_desc:{tab_desc}\")\n",
    "    # step2: get tab col list\n",
    "    tab_col_list=getColDetailsByTabName(tab_name, col_df)\n",
    "    # step3: loop through the col list and build the OM colum list\n",
    "    columns=[]\n",
    "    for col in tab_col_list:\n",
    "        col_name=col['var']\n",
    "        col_format=col['format']\n",
    "        type_val, type_size= split_type_size(col_format)\n",
    "        data_type=get_om_dtype(type_val)\n",
    "        col_desc=col['description']\n",
    "        col_entity=Column(name=col_name, dataType=data_type,description=col_desc)\n",
    "        columns.append(col_entity)\n",
    "    # step4: create table\n",
    "    table_create=CreateTableRequest(\n",
    "    name=tab_name,\n",
    "    description=tab_desc,\n",
    "    databaseSchema=schema_entity.fullyQualifiedName,\n",
    "    columns=columns)\n",
    "    table_entity=metadata.create_or_update(data=table_create)\n",
    "    \n",
    "            \n",
    "    \n",
    "    "
   ],
   "metadata": {
    "collapsed": false,
    "ExecuteTime": {
     "end_time": "2024-07-04T12:46:14.816329663Z",
     "start_time": "2024-07-04T12:46:07.638968180Z"
    }
   },
   "id": "614c8026dfcfaa72"
  },
  {
   "cell_type": "code",
   "execution_count": null,
   "outputs": [],
   "source": [],
   "metadata": {
    "collapsed": false
   },
   "id": "4d1a6439feebb205"
  }
 ],
 "metadata": {
  "kernelspec": {
   "display_name": "Python 3",
   "language": "python",
   "name": "python3"
  },
  "language_info": {
   "codemirror_mode": {
    "name": "ipython",
    "version": 2
   },
   "file_extension": ".py",
   "mimetype": "text/x-python",
   "name": "python",
   "nbconvert_exporter": "python",
   "pygments_lexer": "ipython2",
   "version": "2.7.6"
  }
 },
 "nbformat": 4,
 "nbformat_minor": 5
}
