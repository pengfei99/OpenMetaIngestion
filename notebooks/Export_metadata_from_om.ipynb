{
 "cells": [
  {
   "cell_type": "markdown",
   "source": [
    "# Export metadata from OpenMetadata"
   ],
   "metadata": {
    "collapsed": false
   },
   "id": "933e4362200bb3a8"
  },
  {
   "cell_type": "code",
   "execution_count": 1,
   "outputs": [],
   "source": [
    "from metadata.ingestion.ometa.ometa_api import OpenMetadata\n",
    "from metadata.generated.schema.entity.services.connections.metadata.openMetadataConnection import (OpenMetadataConnection, AuthProvider)\n",
    "from metadata.generated.schema.security.client.openMetadataJWTClientConfig import OpenMetadataJWTClientConfig"
   ],
   "metadata": {
    "collapsed": false,
    "ExecuteTime": {
     "end_time": "2024-07-04T09:37:17.178150788Z",
     "start_time": "2024-07-04T09:37:15.316937346Z"
    }
   },
   "id": "8408a896b54e1649"
  },
  {
   "cell_type": "code",
   "execution_count": 2,
   "outputs": [],
   "source": [
    "from creds import om_admin_token\n",
    "server_config = OpenMetadataConnection(\n",
    "    hostPort=\"http://datacatalog.casd.local/api\",\n",
    "    authProvider=AuthProvider.openmetadata,\n",
    "    securityConfig=OpenMetadataJWTClientConfig(\n",
    "        jwtToken=om_admin_token,\n",
    "    ),\n",
    ")\n",
    "metadata = OpenMetadata(server_config)"
   ],
   "metadata": {
    "collapsed": false,
    "ExecuteTime": {
     "end_time": "2024-07-04T09:37:17.995503352Z",
     "start_time": "2024-07-04T09:37:17.938620820Z"
    }
   },
   "id": "6e128e539f94ec2d"
  },
  {
   "cell_type": "code",
   "execution_count": 3,
   "outputs": [
    {
     "data": {
      "text/plain": "True"
     },
     "execution_count": 3,
     "metadata": {},
     "output_type": "execute_result"
    }
   ],
   "source": [
    "# if it returns true, it means the connection is success \n",
    "metadata.health_check()"
   ],
   "metadata": {
    "collapsed": false,
    "ExecuteTime": {
     "end_time": "2024-07-04T09:37:19.768375289Z",
     "start_time": "2024-07-04T09:37:19.740184225Z"
    }
   },
   "id": "48b5ed46d4dbc281"
  },
  {
   "cell_type": "markdown",
   "source": [
    "# Get entity by their fqn\n",
    "\n",
    "We can get any entity from the openmetadata by using the fully qualified name."
   ],
   "metadata": {
    "collapsed": false
   },
   "id": "ce1f861251449041"
  },
  {
   "cell_type": "code",
   "execution_count": 18,
   "outputs": [],
   "source": [
    "from metadata.generated.schema.entity.data.table import Table\n",
    "\n",
    "# the option up_depth and down_depth allows us to get the lineage information if it exists\n",
    "\n",
    "def get_table_entity(om_connexion, table_fqn:str):\n",
    "    return om_connexion.get_by_name(entity=Table, \n",
    "                                fqn=table_fqn)\n",
    "\n",
    "table_entity = get_table_entity(metadata,\"test-db-service.test-db.test-schema.test_user\")"
   ],
   "metadata": {
    "collapsed": false,
    "ExecuteTime": {
     "end_time": "2024-07-04T11:38:12.944344187Z",
     "start_time": "2024-07-04T11:38:12.899285568Z"
    }
   },
   "id": "258edf7e8fbf3393"
  },
  {
   "cell_type": "code",
   "execution_count": 19,
   "outputs": [
    {
     "name": "stdout",
     "output_type": "stream",
     "text": [
      "id=Uuid(__root__=UUID('d2739911-4301-41c9-9aed-9910d95c7abe')) name=EntityName(__root__='test_user') displayName=None fullyQualifiedName=FullyQualifiedEntityName(__root__='test-db-service.test-db.test-schema.test_user') description=None version=EntityVersion(__root__=0.1) updatedAt=Timestamp(__root__=1720081409210) updatedBy='ingestion-bot' href=Href(__root__=AnyUrl('http://datacatalog.casd.local/api/v1/tables/d2739911-4301-41c9-9aed-9910d95c7abe', scheme='http', host='datacatalog.casd.local', tld='local', host_type='domain', path='/api/v1/tables/d2739911-4301-41c9-9aed-9910d95c7abe')) tableType=None columns=[Column(name=ColumnName(__root__='id'), displayName=None, dataType=<DataType.BIGINT: 'BIGINT'>, arrayDataType=None, dataLength=None, precision=None, scale=None, dataTypeDisplay='bigint', description=Markdown(__root__='id of the user'), fullyQualifiedName=FullyQualifiedEntityName(__root__='test-db-service.test-db.test-schema.test_user.id'), tags=None, constraint=None, ordinalPosition=None, jsonSchema=None, children=None, profile=None, customMetrics=None), Column(name=ColumnName(__root__='age'), displayName=None, dataType=<DataType.INT: 'INT'>, arrayDataType=None, dataLength=None, precision=None, scale=None, dataTypeDisplay='int', description=Markdown(__root__='age of the user'), fullyQualifiedName=FullyQualifiedEntityName(__root__='test-db-service.test-db.test-schema.test_user.age'), tags=None, constraint=None, ordinalPosition=None, jsonSchema=None, children=None, profile=None, customMetrics=None)] tableConstraints=None tablePartition=None owner=None databaseSchema=EntityReference(id=Uuid(__root__=UUID('4ef31d6f-4db1-4552-b7c4-8740716e6e42')), type='databaseSchema', name='test-schema', fullyQualifiedName='test-db-service.test-db.test-schema', description=None, displayName='test-schema', deleted=False, inherited=None, href=Href(__root__=AnyUrl('http://datacatalog.casd.local/api/v1/databaseSchemas/4ef31d6f-4db1-4552-b7c4-8740716e6e42', scheme='http', host='datacatalog.casd.local', tld='local', host_type='domain', path='/api/v1/databaseSchemas/4ef31d6f-4db1-4552-b7c4-8740716e6e42'))) database=EntityReference(id=Uuid(__root__=UUID('985e06db-96a9-478f-b946-b9da296153d2')), type='database', name='test-db', fullyQualifiedName='test-db-service.test-db', description=None, displayName='test-db', deleted=False, inherited=None, href=Href(__root__=AnyUrl('http://datacatalog.casd.local/api/v1/databases/985e06db-96a9-478f-b946-b9da296153d2', scheme='http', host='datacatalog.casd.local', tld='local', host_type='domain', path='/api/v1/databases/985e06db-96a9-478f-b946-b9da296153d2'))) service=EntityReference(id=Uuid(__root__=UUID('79944fa1-34ec-4597-8a9b-a6f8681cb0bb')), type='databaseService', name='test-db-service', fullyQualifiedName='test-db-service', description=None, displayName='test-db-service', deleted=False, inherited=None, href=Href(__root__=AnyUrl('http://datacatalog.casd.local/api/v1/services/databaseServices/79944fa1-34ec-4597-8a9b-a6f8681cb0bb', scheme='http', host='datacatalog.casd.local', tld='local', host_type='domain', path='/api/v1/services/databaseServices/79944fa1-34ec-4597-8a9b-a6f8681cb0bb'))) serviceType=<DatabaseServiceType.Mysql: 'Mysql'> location=None schemaDefinition=None tags=None usageSummary=None followers=None joins=None sampleData=None tableProfilerConfig=None customMetrics=None profile=None testSuite=None dataModel=None changeDescription=None deleted=False retentionPeriod=None extension=None sourceUrl=None domain=None dataProducts=None fileFormat=None votes=None lifeCycle=None sourceHash=None\n"
     ]
    }
   ],
   "source": [
    "print(table_entity)"
   ],
   "metadata": {
    "collapsed": false,
    "ExecuteTime": {
     "end_time": "2024-07-04T11:38:14.132730301Z",
     "start_time": "2024-07-04T11:38:14.112343157Z"
    }
   },
   "id": "c0723484060467cc"
  },
  {
   "cell_type": "markdown",
   "source": [
    "## get attributes of an entity"
   ],
   "metadata": {
    "collapsed": false
   },
   "id": "d1dd0d4636f6976d"
  },
  {
   "cell_type": "code",
   "execution_count": 7,
   "outputs": [
    {
     "name": "stdout",
     "output_type": "stream",
     "text": [
      "content: d2739911-4301-41c9-9aed-9910d95c7abe\n",
      "content: <class 'uuid.UUID'>\n"
     ]
    }
   ],
   "source": [
    "item=table_entity.id.__root__\n",
    "print(f\"content: {item}\")\n",
    "print(f\"type: {type(item)}\")"
   ],
   "metadata": {
    "collapsed": false,
    "ExecuteTime": {
     "end_time": "2024-07-04T09:43:28.629989463Z",
     "start_time": "2024-07-04T09:43:28.587075189Z"
    }
   },
   "id": "b43569329a045882"
  },
  {
   "cell_type": "markdown",
   "source": [
    "## Get table lineage\n"
   ],
   "metadata": {
    "collapsed": false
   },
   "id": "43829781f25edecd"
  },
  {
   "cell_type": "code",
   "execution_count": 21,
   "outputs": [],
   "source": [
    "def get_table_lineage(om_connexion, table_fqn:str, up_depth:int=1,down_depth:int=1):\n",
    "    return om_connexion.get_lineage_by_name(\n",
    "        entity=Table,\n",
    "        fqn=table_fqn,\n",
    "        # Tune this to control how far in the lineage graph to go\n",
    "        up_depth=up_depth,\n",
    "        down_depth=down_depth\n",
    "    )\n",
    "table_with_lineage= get_table_lineage(metadata,\"test-db-service.test-db.test-schema.user_order_cube_detail\")"
   ],
   "metadata": {
    "collapsed": false,
    "ExecuteTime": {
     "end_time": "2024-07-04T11:40:15.606718027Z",
     "start_time": "2024-07-04T11:40:15.564282026Z"
    }
   },
   "id": "a497aa7d6add350e"
  },
  {
   "cell_type": "code",
   "execution_count": 25,
   "outputs": [
    {
     "name": "stdout",
     "output_type": "stream",
     "text": [
      "{'entity': {'id': 'fee8f96c-3e1e-4cbb-8992-dd69102bade4', 'type': 'table', 'name': 'user_order_cube_detail', 'fullyQualifiedName': 'test-db-service.test-db.test-schema.user_order_cube_detail', 'displayName': 'user_order_cube_detail', 'deleted': False, 'href': 'http://datacatalog.casd.local/api/v1/tables/fee8f96c-3e1e-4cbb-8992-dd69102bade4'}, 'nodes': [{'id': 'd2739911-4301-41c9-9aed-9910d95c7abe', 'type': 'table', 'name': 'test_user', 'fullyQualifiedName': 'test-db-service.test-db.test-schema.test_user', 'displayName': 'test_user', 'deleted': False, 'href': 'http://datacatalog.casd.local/api/v1/tables/d2739911-4301-41c9-9aed-9910d95c7abe'}, {'id': '6e53115b-0db2-4022-8138-463127ae57ce', 'type': 'table', 'name': 'test_order', 'fullyQualifiedName': 'test-db-service.test-db.test-schema.test_order', 'displayName': 'test_order', 'deleted': False, 'href': 'http://datacatalog.casd.local/api/v1/tables/6e53115b-0db2-4022-8138-463127ae57ce'}], 'upstreamEdges': [{'fromEntity': 'd2739911-4301-41c9-9aed-9910d95c7abe', 'toEntity': 'fee8f96c-3e1e-4cbb-8992-dd69102bade4', 'lineageDetails': {'sqlQuery': 'Create TABLE user_order_cube_detail AS\\n              SELECT test_user.id as uid, \\n             test_order.oid, \\n             test_order.product_id\\n             test_user.age\\n             FROM test_user \\n             INNER JOIN test_order \\n             ON test_user.id=test_order.uid;', 'columnsLineage': [{'fromColumns': ['test-db-service.test-db.test-schema.test_user.id'], 'toColumn': 'test-db-service.test-db.test-schema.user_order_cube_detail.uid'}, {'fromColumns': ['test-db-service.test-db.test-schema.test_user.age'], 'toColumn': 'test-db-service.test-db.test-schema.user_order_cube_detail.age'}], 'pipeline': {'id': '9101cdaf-c769-4cc0-957a-bc6a97f5aef5', 'type': 'pipeline', 'name': 'user_order_inner_join_pipeline', 'fullyQualifiedName': 'airflow_workflow_manager.user_order_inner_join_pipeline', 'displayName': 'user_order_inner_join_pipeline', 'deleted': False}, 'source': 'Manual'}}, {'fromEntity': '6e53115b-0db2-4022-8138-463127ae57ce', 'toEntity': 'fee8f96c-3e1e-4cbb-8992-dd69102bade4', 'lineageDetails': {'sqlQuery': 'Create TABLE user_order_cube_detail AS\\n              SELECT test_user.id as uid, \\n             test_order.oid, \\n             test_order.product_id\\n             test_user.age\\n             FROM test_user \\n             INNER JOIN test_order \\n             ON test_user.id=test_order.uid;', 'columnsLineage': [{'fromColumns': ['test-db-service.test-db.test-schema.test_order.uid'], 'toColumn': 'test-db-service.test-db.test-schema.user_order_cube_detail.uid'}, {'fromColumns': ['test-db-service.test-db.test-schema.test_order.id'], 'toColumn': 'test-db-service.test-db.test-schema.user_order_cube_detail.oid'}, {'fromColumns': ['test-db-service.test-db.test-schema.test_order.product_id'], 'toColumn': 'test-db-service.test-db.test-schema.user_order_cube_detail.product_id'}], 'pipeline': {'id': '9101cdaf-c769-4cc0-957a-bc6a97f5aef5', 'type': 'pipeline', 'name': 'user_order_inner_join_pipeline', 'fullyQualifiedName': 'airflow_workflow_manager.user_order_inner_join_pipeline', 'displayName': 'user_order_inner_join_pipeline', 'deleted': False}, 'source': 'Manual'}}], 'downstreamEdges': []}\n"
     ]
    }
   ],
   "source": [
    "print(table_with_lineage)"
   ],
   "metadata": {
    "collapsed": false,
    "ExecuteTime": {
     "end_time": "2024-07-04T11:42:57.209202494Z",
     "start_time": "2024-07-04T11:42:57.117104742Z"
    }
   },
   "id": "7543da996f15483b"
  },
  {
   "cell_type": "code",
   "execution_count": null,
   "outputs": [],
   "source": [
    "print(table_with_lineage['upstreamEdges'])"
   ],
   "metadata": {
    "collapsed": false
   },
   "id": "addffd8e99e422e5"
  }
 ],
 "metadata": {
  "kernelspec": {
   "display_name": "Python 3",
   "language": "python",
   "name": "python3"
  },
  "language_info": {
   "codemirror_mode": {
    "name": "ipython",
    "version": 2
   },
   "file_extension": ".py",
   "mimetype": "text/x-python",
   "name": "python",
   "nbconvert_exporter": "python",
   "pygments_lexer": "ipython2",
   "version": "2.7.6"
  }
 },
 "nbformat": 4,
 "nbformat_minor": 5
}
